{
 "cells": [
  {
   "cell_type": "code",
   "execution_count": 1,
   "id": "a21e2a80",
   "metadata": {},
   "outputs": [],
   "source": [
    "# (1)T：行和列转置\n",
    "# (2)axes：返回一个仅以行轴标签和列轴标签为成员的列表\n",
    "# (3)dtypes：返回每列数据的数据类型\n",
    "# (4)empty：DataFrame中没有数据或者任意坐标轴长度为0,则返回True\n",
    "# (5)columns：返回DataFrame所有列标签\n",
    "# (6)shape：返回一个元组，获取行数和列数，表示DataFrame维度\n",
    "# (7)size：DataFrame中的元素数量\n",
    "# (8)values：使用numpy数组表示DataFrame中的元素值\n",
    "# (9)head()：返回前n行数据\n",
    "# (10)tail()：返回后n行数据\n",
    "# (11)rename()：rename(columns=字典)，修改标签名（列名）\n",
    "# (12)info()：可以显示信息，例如行数/列数，总内存使用量，每列的数据类型......\n",
    "# (13)sort_index()：默认根据行标签对所有行进行排序，或根据列标签对所有列进行排序......\n",
    "# (14)sort_values()：既可以根据列数据，也可根据行数据排序\n",
    "import pandas as pd\n",
    "import numpy as np"
   ]
  },
  {
   "cell_type": "code",
   "execution_count": 2,
   "id": "6e9b569c",
   "metadata": {},
   "outputs": [
    {
     "name": "stdout",
     "output_type": "stream",
     "text": [
      "  Name  Age  Salary\n",
      "0   关羽   28    5000\n",
      "1   刘备   34    8000\n",
      "2   张飞   29    4500\n",
      "3   曹操   42   10000\n"
     ]
    }
   ],
   "source": [
    "data={\n",
    "    'Name':['关羽','刘备','张飞','曹操'],\n",
    "    'Age':[28,34,29,42],\n",
    "    'Salary':[5000,8000,4500,10000]\n",
    "}\n",
    "df=pd.DataFrame(data)\n",
    "print(df)"
   ]
  },
  {
   "cell_type": "code",
   "execution_count": 3,
   "id": "4c1f7389",
   "metadata": {},
   "outputs": [
    {
     "name": "stdout",
     "output_type": "stream",
     "text": [
      "  Name  Age  Salary\n",
      "0   关羽   28    5000\n",
      "1   刘备   34    8000\n",
      "2   张飞   29    4500\n",
      "3   曹操   42   10000\n",
      "           0     1     2      3\n",
      "Name      关羽    刘备    张飞     曹操\n",
      "Age       28    34    29     42\n",
      "Salary  5000  8000  4500  10000\n"
     ]
    }
   ],
   "source": [
    "# (1)T：行和列转置\n",
    "new_data=df.T\n",
    "print(df)\n",
    "print(new_data)     # 原数据无变化"
   ]
  },
  {
   "cell_type": "code",
   "execution_count": 4,
   "id": "9bd6e39d",
   "metadata": {},
   "outputs": [
    {
     "name": "stdout",
     "output_type": "stream",
     "text": [
      "[RangeIndex(start=0, stop=4, step=1), Index(['Name', 'Age', 'Salary'], dtype='object')]\n",
      "=======只返回行标签=======\n",
      "RangeIndex(start=0, stop=4, step=1)\n",
      "=======只返回列标签=======\n",
      "Index(['Name', 'Age', 'Salary'], dtype='object')\n"
     ]
    }
   ],
   "source": [
    "# (2)axes：返回一个仅以行轴标签和列轴标签为成员的列表\n",
    "print(df.axes)\n",
    "print(\"=======只返回行标签=======\")\n",
    "print(df.index)\n",
    "print(\"=======只返回列标签=======\")\n",
    "print(df.columns)"
   ]
  },
  {
   "cell_type": "code",
   "execution_count": 5,
   "id": "4242c9b7",
   "metadata": {},
   "outputs": [
    {
     "name": "stdout",
     "output_type": "stream",
     "text": [
      "Name      object\n",
      "Age        int64\n",
      "Salary     int64\n",
      "dtype: object\n"
     ]
    }
   ],
   "source": [
    "# (3)dtypes：返回每列数据的数据类型\n",
    "print(df.dtypes)"
   ]
  },
  {
   "cell_type": "code",
   "execution_count": 6,
   "id": "692c08f4",
   "metadata": {},
   "outputs": [
    {
     "name": "stdout",
     "output_type": "stream",
     "text": [
      "False\n",
      "True\n"
     ]
    }
   ],
   "source": [
    "# (4)empty：DataFrame中没有数据或者任意坐标轴长度为0,则返回True\n",
    "print(df.empty)\n",
    "# 创建一个空的DataFrame\n",
    "empty_df=pd.DataFrame()\n",
    "print(empty_df.empty)"
   ]
  },
  {
   "cell_type": "code",
   "execution_count": 7,
   "id": "75ca1e94",
   "metadata": {},
   "outputs": [
    {
     "name": "stdout",
     "output_type": "stream",
     "text": [
      "Index(['Name', 'Age', 'Salary'], dtype='object')\n",
      "3\n",
      "3\n"
     ]
    }
   ],
   "source": [
    "# (5)columns：返回DataFrame所有列标签\n",
    "print(df.columns)\n",
    "# 可以通过len(df.columns)获取DataFrame列个数\n",
    "print(len(df.columns))\n",
    "# 可以通过df.columns.size获取DataFrame列个数\n",
    "print(df.columns.size)"
   ]
  },
  {
   "cell_type": "code",
   "execution_count": 8,
   "id": "b68c6dc2",
   "metadata": {},
   "outputs": [
    {
     "name": "stdout",
     "output_type": "stream",
     "text": [
      "(4, 3)\n",
      "4 3\n"
     ]
    }
   ],
   "source": [
    "# (6)shape：返回一个元组，获取行数和列数，表示DataFrame维度\n",
    "print(df.shape)     # df为4行3列的DataFrame数据帧对象\n",
    "# 也可采用以下形式\n",
    "row_num,col_num=df.shape\n",
    "print(row_num,col_num)"
   ]
  },
  {
   "cell_type": "code",
   "execution_count": 9,
   "id": "27c3721d",
   "metadata": {},
   "outputs": [
    {
     "name": "stdout",
     "output_type": "stream",
     "text": [
      "[['关羽' 28 5000]\n",
      " ['刘备' 34 8000]\n",
      " ['张飞' 29 4500]\n",
      " ['曹操' 42 10000]]\n"
     ]
    }
   ],
   "source": [
    "# (8)values：使用numpy数组表示DataFrame中的元素值\n",
    "print(df.values)"
   ]
  },
  {
   "cell_type": "code",
   "execution_count": 10,
   "id": "daa7b6a6",
   "metadata": {},
   "outputs": [
    {
     "name": "stdout",
     "output_type": "stream",
     "text": [
      "  Name  Age  Salary\n",
      "0   关羽   28    5000\n",
      "1   刘备   34    8000\n",
      "2   张飞   29    4500\n"
     ]
    }
   ],
   "source": [
    "# (9)head()：返回前n行数据\n",
    "print(df.head(3))"
   ]
  },
  {
   "cell_type": "code",
   "execution_count": 11,
   "id": "60be791f",
   "metadata": {},
   "outputs": [
    {
     "name": "stdout",
     "output_type": "stream",
     "text": [
      "  Name  Age  Salary\n",
      "2   张飞   29    4500\n",
      "3   曹操   42   10000\n"
     ]
    }
   ],
   "source": [
    "# (10)tail()：返回后n行数据\n",
    "print(df.tail(2))"
   ]
  },
  {
   "cell_type": "code",
   "execution_count": 12,
   "id": "e246f4e9",
   "metadata": {},
   "outputs": [
    {
     "name": "stdout",
     "output_type": "stream",
     "text": [
      "  Name  Age  Salary\n",
      "0   关羽   28    5000\n",
      "1   刘备   34    8000\n",
      "2   张飞   29    4500\n",
      "3   曹操   42   10000\n",
      "  Name  Age  Salary\n",
      "0   关羽   28    5000\n",
      "1   刘备   34    8000\n",
      "2   张飞   29    4500\n",
      "3   曹操   42   10000\n",
      "     Name  Age  Salary\n",
      "0      关羽   28    5000\n",
      "row2   刘备   34    8000\n",
      "row3   张飞   29    4500\n",
      "3      曹操   42   10000\n",
      "     name  age  Salary\n",
      "0      关羽   28    5000\n",
      "row2   刘备   34    8000\n",
      "row3   张飞   29    4500\n",
      "3      曹操   42   10000\n",
      "     name  age  Salary\n",
      "0      关羽   28    5000\n",
      "row2   刘备   34    8000\n",
      "row3   张飞   29    4500\n",
      "3      曹操   42   10000\n"
     ]
    }
   ],
   "source": [
    "# (11)rename()：rename(columns=字典)，修改标签名\n",
    "print(df)\n",
    "# 修改变量df的行标签\n",
    "df1=df.rename(index={1:'row2',2:'row3'})\n",
    "print(df)\n",
    "print(df1)\n",
    "# 修改变量df的列标签\n",
    "df2=df1.rename(columns={'Name':'name','Age':'age'})\n",
    "print(df2)\n",
    "# inplace=True，在原df变量的基础上修改\n",
    "df.rename(index={1:'row2',2:'row3'},columns={'Name':'name','Age':'age'},inplace=True)\n",
    "print(df)"
   ]
  },
  {
   "cell_type": "code",
   "execution_count": 14,
   "id": "5b34127d",
   "metadata": {},
   "outputs": [
    {
     "name": "stdout",
     "output_type": "stream",
     "text": [
      "<class 'pandas.core.frame.DataFrame'>\n",
      "Index: 4 entries, 0 to 3\n",
      "Data columns (total 3 columns):\n",
      " #   Column  Non-Null Count  Dtype \n",
      "---  ------  --------------  ----- \n",
      " 0   name    4 non-null      object\n",
      " 1   age     4 non-null      int64 \n",
      " 2   Salary  4 non-null      int64 \n",
      "dtypes: int64(2), object(1)\n",
      "memory usage: 128.0+ bytes\n",
      "None\n"
     ]
    }
   ],
   "source": [
    "# (12)info()：可以显示信息，例如行数/列数，总内存使用量，每列的数据类型......\n",
    "print(df.info())"
   ]
  },
  {
   "cell_type": "code",
   "execution_count": 20,
   "id": "177aba07",
   "metadata": {},
   "outputs": [
    {
     "name": "stdout",
     "output_type": "stream",
     "text": [
      "   b  a  c\n",
      "2  1  4  1\n",
      "0  2  3  3\n",
      "1  2  2  8\n",
      "3  3  1  2\n",
      "   b  a  c\n",
      "0  2  3  3\n",
      "1  2  2  8\n",
      "2  1  4  1\n",
      "3  3  1  2\n",
      "   a  b  c\n",
      "2  4  1  1\n",
      "0  3  2  3\n",
      "1  2  2  8\n",
      "3  1  3  2\n",
      "   a  b  c\n",
      "2  4  1  1\n",
      "0  3  2  3\n",
      "1  2  2  8\n",
      "3  1  3  2\n"
     ]
    }
   ],
   "source": [
    "# (13)sort_index()：默认根据行标签对所有行进行排序，或根据列标签对所有列进行排序......\n",
    "df=pd.DataFrame({\n",
    "    'b':[1,2,2,3],\n",
    "    'a':[4,3,2,1],\n",
    "    'c':[1,3,8,2]\n",
    "},index=[2,0,1,3])\n",
    "print(df)\n",
    "# 默认按行标签升序排序，或df.sort_index(axis=0,ascending=True)\n",
    "print(df.sort_index())\n",
    "# 按列标签升序排序\n",
    "print(df.sort_index(axis=1))\n",
    "# inplace=True会在原DataFrame基础上改变\n",
    "df.sort_index(axis=1,inplace=True)\n",
    "print(df)"
   ]
  },
  {
   "cell_type": "code",
   "execution_count": null,
   "id": "fc3fabde",
   "metadata": {},
   "outputs": [
    {
     "name": "stdout",
     "output_type": "stream",
     "text": [
      "   b  a  c\n",
      "2  1  4  1\n",
      "0  2  3  3\n",
      "3  2  1  2\n",
      "1  3  2  8\n",
      "   b  a  c\n",
      "1  3  2  8\n",
      "3  2  1  2\n",
      "0  2  3  3\n",
      "2  1  4  1\n",
      "   a  b  c\n",
      "2  4  1  1\n",
      "0  3  2  3\n",
      "1  2  3  8\n",
      "3  1  2  2\n",
      "   a  c  b\n",
      "2  4  1  1\n",
      "0  3  3  2\n",
      "1  2  8  3\n",
      "3  1  2  2\n"
     ]
    }
   ],
   "source": [
    "# (14)sort_values()：既可以根据列数据，也可根据行数据排序\n",
    "df=pd.DataFrame({\n",
    "    'b':[1,2,3,2],\n",
    "    'a':[4,3,2,1],\n",
    "    'c':[1,3,8,2]\n",
    "},index=[2,0,1,3])\n",
    "# 按'b'列升序排序\n",
    "print(df.sort_values(by='b'))\n",
    "# 先按'b'列降序，行'b'值相同再按'a'列升序\n",
    "# 等同于df.sort_values(by=['b','a'],axis=0,ascending=[False,True])\n",
    "print(df.sort_values(by=['b','a'],ascending=[False,True]))\n",
    "# 按行'3'升序排列\n",
    "print(df.sort_values(axis=1,by=3))\n",
    "# 按行'3'升序排列，行'3'值相同再按行'0'降序排列\n",
    "print(df.sort_values(axis=1,by=[3,0],ascending=[True,False]))"
   ]
  }
 ],
 "metadata": {
  "kernelspec": {
   "display_name": "my_ai_env",
   "language": "python",
   "name": "python3"
  },
  "language_info": {
   "codemirror_mode": {
    "name": "ipython",
    "version": 3
   },
   "file_extension": ".py",
   "mimetype": "text/x-python",
   "name": "python",
   "nbconvert_exporter": "python",
   "pygments_lexer": "ipython3",
   "version": "3.10.18"
  }
 },
 "nbformat": 4,
 "nbformat_minor": 5
}
