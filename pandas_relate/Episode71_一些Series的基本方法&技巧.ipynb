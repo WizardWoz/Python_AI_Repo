{
 "cells": [
  {
   "cell_type": "code",
   "execution_count": 2,
   "id": "5d4cf007",
   "metadata": {},
   "outputs": [],
   "source": [
    "import numpy as np\n",
    "import pandas as pd"
   ]
  },
  {
   "cell_type": "code",
   "execution_count": 3,
   "id": "344a26ec",
   "metadata": {},
   "outputs": [
    {
     "name": "stdout",
     "output_type": "stream",
     "text": [
      "0     0.214010\n",
      "1     0.831477\n",
      "2     0.933565\n",
      "3     0.333044\n",
      "4     0.203071\n",
      "5     0.528675\n",
      "6     0.482070\n",
      "7     0.941729\n",
      "8     0.640102\n",
      "9     0.377679\n",
      "10    0.038327\n",
      "11    0.612902\n",
      "12    0.071742\n",
      "13    0.647747\n",
      "14    0.946603\n",
      "dtype: float64\n",
      "0    0.214010\n",
      "1    0.831477\n",
      "2    0.933565\n",
      "3    0.333044\n",
      "4    0.203071\n",
      "dtype: float64\n",
      "0    0.21401\n",
      "dtype: float64\n",
      "10    0.038327\n",
      "11    0.612902\n",
      "12    0.071742\n",
      "13    0.647747\n",
      "14    0.946603\n",
      "dtype: float64\n",
      "12    0.071742\n",
      "13    0.647747\n",
      "14    0.946603\n",
      "dtype: float64\n"
     ]
    }
   ],
   "source": [
    "# 1.查看前几条&后几条数据\n",
    "s=pd.Series(np.random.rand(15))\n",
    "print(s)\n",
    "\n",
    "# (1)默认查看前5条数据\n",
    "print(s.head())\n",
    "\n",
    "# (2)查看前1条数据\n",
    "print(s.head(1))\n",
    "\n",
    "# (3)默认查看后5条数据\n",
    "print(s.tail())\n",
    "\n",
    "# (4)查看后3条数据\n",
    "print(s.tail(3))"
   ]
  },
  {
   "cell_type": "code",
   "execution_count": 4,
   "id": "3ce0c899",
   "metadata": {},
   "outputs": [
    {
     "name": "stdout",
     "output_type": "stream",
     "text": [
      "a    0.444689\n",
      "b    0.747088\n",
      "c    0.333471\n",
      "d    0.861045\n",
      "e    0.607067\n",
      "dtype: float64\n",
      "c    0.333471\n",
      "d    0.861045\n",
      "e    0.607067\n",
      "1         NaN\n",
      "2         NaN\n",
      "dtype: float64\n",
      "c    0.333471\n",
      "d    0.861045\n",
      "e    0.607067\n",
      "1    0.000000\n",
      "2    0.000000\n",
      "dtype: float64\n",
      "c    0.333471\n",
      "d    0.861045\n",
      "e    0.607067\n",
      "dtype: float64\n"
     ]
    }
   ],
   "source": [
    "# 2.重新索引\n",
    "s1=pd.Series(np.random.rand(5),index=list(\"abcde\"))\n",
    "print(s1)\n",
    "\n",
    "# (1)新索引在上一个索引中不存在，生成新对象时，对应的值设置为NaN\n",
    "s2=s1.reindex(list(\"cde12\"))\n",
    "print(s2)\n",
    "\n",
    "# (2)设置填充值fill_value\n",
    "s3=s1.reindex(list(\"cde12\"),fill_value=0)\n",
    "print(s3)\n",
    "\n",
    "# (3)新索引比原索引短\n",
    "s4=s1.reindex(list(\"cde\"))\n",
    "print(s4)"
   ]
  },
  {
   "cell_type": "code",
   "execution_count": 5,
   "id": "8f05f8ff",
   "metadata": {},
   "outputs": [
    {
     "name": "stdout",
     "output_type": "stream",
     "text": [
      "Kelly    0.800973\n",
      "Anne     0.439333\n",
      "T-C      0.061400\n",
      "dtype: float64\n",
      "Anne     0.327409\n",
      "Kelly    0.407978\n",
      "Lily     0.924100\n",
      "dtype: float64\n",
      "Anne     0.766742\n",
      "Kelly    1.208952\n",
      "Lily          NaN\n",
      "T-C           NaN\n",
      "dtype: float64\n"
     ]
    }
   ],
   "source": [
    "# 3.对齐运算：数据清洗的重要过程，可按索引对齐进行运算，没对齐的位置为NaN，最后也可以填充NaN\n",
    "s1=pd.Series(np.random.rand(3),index=[\"Kelly\",\"Anne\",\"T-C\"])\n",
    "s2=pd.Series(np.random.rand(3),index=[\"Anne\",\"Kelly\",\"Lily\"])\n",
    "print(s1)\n",
    "print(s2)\n",
    "print(s1+s2)"
   ]
  },
  {
   "cell_type": "code",
   "execution_count": null,
   "id": "28e8ba23",
   "metadata": {},
   "outputs": [
    {
     "name": "stdout",
     "output_type": "stream",
     "text": [
      "a    0.571765\n",
      "b    0.389033\n",
      "c    0.436564\n",
      "d    0.434136\n",
      "e    0.616471\n",
      "dtype: float64\n",
      "b    0.389033\n",
      "c    0.436564\n",
      "d    0.434136\n",
      "e    0.616471\n",
      "dtype: float64\n",
      "a    0.571765\n",
      "b    0.389033\n",
      "c    0.436564\n",
      "d    0.434136\n",
      "e    0.616471\n",
      "dtype: float64\n",
      "a    0.071764\n",
      "b    0.569287\n",
      "c    0.597608\n",
      "d    0.326738\n",
      "e    0.495439\n",
      "dtype: float64\n",
      "None\n",
      "b    0.569287\n",
      "c    0.597608\n",
      "d    0.326738\n",
      "e    0.495439\n",
      "dtype: float64\n"
     ]
    }
   ],
   "source": [
    "# 4.删除，drop()方法\n",
    "# (1)删除（默认inplace=False）\n",
    "s=pd.Series(np.random.rand(5),index=list(\"abcde\"))\n",
    "print(s)\n",
    "s1=s.drop(\"a\")  # 返回删除后的值，原值不改变，默认inplace=False\n",
    "print(s1)\n",
    "print(s)\n",
    "\n",
    "# (2)删除（inplace=True）\n",
    "s=pd.Series(np.random.rand(5),index=list(\"abcde\"))\n",
    "print(s)\n",
    "s1=s.drop(\"a\",inplace=True)  # 原值发生变化，返回s1=None\n",
    "print(s1)\n",
    "print(s)"
   ]
  },
  {
   "cell_type": "code",
   "execution_count": 7,
   "id": "8bfa214b",
   "metadata": {},
   "outputs": [
    {
     "name": "stdout",
     "output_type": "stream",
     "text": [
      "a    0.315505\n",
      "b    0.768033\n",
      "c    0.391821\n",
      "d    0.737141\n",
      "e    0.060865\n",
      "dtype: float64\n",
      "a      0.315505\n",
      "b      0.768033\n",
      "c      0.391821\n",
      "d      0.737141\n",
      "e      0.060865\n",
      "s    100.000000\n",
      "dtype: float64\n"
     ]
    }
   ],
   "source": [
    "# 5.添加\n",
    "s1=pd.Series(np.random.rand(5),index=list(\"abcde\"))\n",
    "print(s1)\n",
    "\n",
    "s1[\"s\"]=100\n",
    "print(s1)"
   ]
  }
 ],
 "metadata": {
  "kernelspec": {
   "display_name": "my_ai_env",
   "language": "python",
   "name": "python3"
  },
  "language_info": {
   "codemirror_mode": {
    "name": "ipython",
    "version": 3
   },
   "file_extension": ".py",
   "mimetype": "text/x-python",
   "name": "python",
   "nbconvert_exporter": "python",
   "pygments_lexer": "ipython3",
   "version": "3.10.12"
  }
 },
 "nbformat": 4,
 "nbformat_minor": 5
}
