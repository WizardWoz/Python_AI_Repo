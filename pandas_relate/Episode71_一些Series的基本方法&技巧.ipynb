{
 "cells": [
  {
   "cell_type": "code",
   "execution_count": 1,
   "id": "5d4cf007",
   "metadata": {},
   "outputs": [],
   "source": [
    "import numpy as np\n",
    "import pandas as pd"
   ]
  },
  {
   "cell_type": "code",
   "execution_count": 6,
   "id": "344a26ec",
   "metadata": {},
   "outputs": [
    {
     "name": "stdout",
     "output_type": "stream",
     "text": [
      "0     0.676128\n",
      "1     0.212961\n",
      "2     0.728300\n",
      "3     0.708062\n",
      "4     0.840263\n",
      "5     0.992743\n",
      "6     0.713716\n",
      "7     0.666527\n",
      "8     0.130207\n",
      "9     0.451293\n",
      "10    0.446643\n",
      "11    0.981935\n",
      "12    0.047926\n",
      "13    0.918597\n",
      "14    0.632516\n",
      "dtype: float64\n",
      "0    0.676128\n",
      "1    0.212961\n",
      "2    0.728300\n",
      "3    0.708062\n",
      "4    0.840263\n",
      "dtype: float64\n",
      "0    0.676128\n",
      "dtype: float64\n",
      "10    0.446643\n",
      "11    0.981935\n",
      "12    0.047926\n",
      "13    0.918597\n",
      "14    0.632516\n",
      "dtype: float64\n",
      "12    0.047926\n",
      "13    0.918597\n",
      "14    0.632516\n",
      "dtype: float64\n"
     ]
    }
   ],
   "source": [
    "# 1.查看前几条&后几条数据\n",
    "s=pd.Series(np.random.rand(15))\n",
    "print(s)\n",
    "\n",
    "# (1)默认查看前5条数据\n",
    "print(s.head())\n",
    "\n",
    "# (2)查看前1条数据\n",
    "print(s.head(1))\n",
    "\n",
    "# (3)默认查看后5条数据\n",
    "print(s.tail())\n",
    "\n",
    "# (4)查看后3条数据\n",
    "print(s.tail(3))"
   ]
  },
  {
   "cell_type": "code",
   "execution_count": 11,
   "id": "3ce0c899",
   "metadata": {},
   "outputs": [
    {
     "name": "stdout",
     "output_type": "stream",
     "text": [
      "a    0.847642\n",
      "b    0.421954\n",
      "c    0.973773\n",
      "d    0.771855\n",
      "e    0.361366\n",
      "dtype: float64\n",
      "c    0.973773\n",
      "d    0.771855\n",
      "e    0.361366\n",
      "1         NaN\n",
      "2         NaN\n",
      "dtype: float64\n",
      "c    0.973773\n",
      "d    0.771855\n",
      "e    0.361366\n",
      "1    0.000000\n",
      "2    0.000000\n",
      "dtype: float64\n",
      "c    0.973773\n",
      "d    0.771855\n",
      "e    0.361366\n",
      "dtype: float64\n"
     ]
    }
   ],
   "source": [
    "# 2.重新索引\n",
    "s1=pd.Series(np.random.rand(5),index=list(\"abcde\"))\n",
    "print(s1)\n",
    "\n",
    "# (1)新索引在上一个索引中不存在，生成新对象时，对应的值设置为NaN\n",
    "s2=s1.reindex(list(\"cde12\"))\n",
    "print(s2)\n",
    "\n",
    "# (2)设置填充值fill_value\n",
    "s3=s1.reindex(list(\"cde12\"),fill_value=0)\n",
    "print(s3)\n",
    "\n",
    "# (3)新索引比原索引短\n",
    "s4=s1.reindex(list(\"cde\"))\n",
    "print(s4)"
   ]
  },
  {
   "cell_type": "code",
   "execution_count": 13,
   "id": "8f05f8ff",
   "metadata": {},
   "outputs": [
    {
     "name": "stdout",
     "output_type": "stream",
     "text": [
      "Kelly    0.334728\n",
      "Anne     0.517039\n",
      "T-C      0.266333\n",
      "dtype: float64\n",
      "Anne     0.901816\n",
      "Kelly    0.727886\n",
      "Lily     0.255209\n",
      "dtype: float64\n",
      "Anne     1.418854\n",
      "Kelly    1.062614\n",
      "Lily          NaN\n",
      "T-C           NaN\n",
      "dtype: float64\n"
     ]
    }
   ],
   "source": [
    "# 3.对齐运算：数据清洗的重要过程，可按索引对齐进行运算，没对齐的位置为NaN，最后也可以填充NaN\n",
    "s1=pd.Series(np.random.rand(3),index=[\"Kelly\",\"Anne\",\"T-C\"])\n",
    "s2=pd.Series(np.random.rand(3),index=[\"Anne\",\"Kelly\",\"Lily\"])\n",
    "print(s1)\n",
    "print(s2)\n",
    "print(s1+s2)"
   ]
  },
  {
   "cell_type": "code",
   "execution_count": 17,
   "id": "28e8ba23",
   "metadata": {},
   "outputs": [
    {
     "name": "stdout",
     "output_type": "stream",
     "text": [
      "a    0.689915\n",
      "b    0.793148\n",
      "c    0.882643\n",
      "d    0.102160\n",
      "e    0.484048\n",
      "dtype: float64\n",
      "b    0.793148\n",
      "c    0.882643\n",
      "d    0.102160\n",
      "e    0.484048\n",
      "dtype: float64\n",
      "a    0.689915\n",
      "b    0.793148\n",
      "c    0.882643\n",
      "d    0.102160\n",
      "e    0.484048\n",
      "dtype: float64\n",
      "a    0.942746\n",
      "b    0.461994\n",
      "c    0.790697\n",
      "d    0.366835\n",
      "e    0.044807\n",
      "dtype: float64\n",
      "None\n",
      "b    0.461994\n",
      "c    0.790697\n",
      "d    0.366835\n",
      "e    0.044807\n",
      "dtype: float64\n"
     ]
    }
   ],
   "source": [
    "# 4.删除\n",
    "# (1)删除（默认inplace=False）\n",
    "s=pd.Series(np.random.rand(5),index=list(\"abcde\"))\n",
    "print(s)\n",
    "s1=s.drop(\"a\")  # 返回删除后的值，原值不改变，默认inplace=False\n",
    "print(s1)\n",
    "print(s)\n",
    "\n",
    "# (2)删除（inplace=True）\n",
    "s=pd.Series(np.random.rand(5),index=list(\"abcde\"))\n",
    "print(s)\n",
    "s1=s.drop(\"a\",inplace=True)  # 原值发生变化，返回s1=None\n",
    "print(s1)\n",
    "print(s)"
   ]
  },
  {
   "cell_type": "code",
   "execution_count": 19,
   "id": "8bfa214b",
   "metadata": {},
   "outputs": [
    {
     "name": "stdout",
     "output_type": "stream",
     "text": [
      "a    0.007969\n",
      "b    0.656846\n",
      "c    0.086764\n",
      "d    0.401418\n",
      "e    0.311464\n",
      "dtype: float64\n",
      "a      0.007969\n",
      "b      0.656846\n",
      "c      0.086764\n",
      "d      0.401418\n",
      "e      0.311464\n",
      "s    100.000000\n",
      "dtype: float64\n"
     ]
    }
   ],
   "source": [
    "# 5.添加\n",
    "s1=pd.Series(np.random.rand(5),index=list(\"abcde\"))\n",
    "print(s1)\n",
    "\n",
    "s1[\"s\"]=100\n",
    "print(s1)"
   ]
  }
 ],
 "metadata": {
  "kernelspec": {
   "display_name": "my_ai_env",
   "language": "python",
   "name": "python3"
  },
  "language_info": {
   "codemirror_mode": {
    "name": "ipython",
    "version": 3
   },
   "file_extension": ".py",
   "mimetype": "text/x-python",
   "name": "python",
   "nbconvert_exporter": "python",
   "pygments_lexer": "ipython3",
   "version": "3.10.18"
  }
 },
 "nbformat": 4,
 "nbformat_minor": 5
}
