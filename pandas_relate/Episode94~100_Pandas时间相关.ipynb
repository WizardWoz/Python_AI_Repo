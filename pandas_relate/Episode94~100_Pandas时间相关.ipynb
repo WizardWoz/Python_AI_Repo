{
 "cells": [
  {
   "cell_type": "code",
   "execution_count": 73,
   "id": "cd47e536",
   "metadata": {},
   "outputs": [],
   "source": [
    "# Python的time模块\n",
    "# 1.timestamp时间戳：表示从1970年1月1日00:00:00开始按秒计算的偏移量\n",
    "# 例：1753945396.144133、1753945396\n",
    "# 2.struct_time时间元组：共有九个元素组（同时也作为timestamp与format time相互转换的桥梁）\n",
    "# 例：tm_year=2025, tm_mon=7, tm_mday=31, tm_hour=15, tm_min=22, tm_sec=17, tm_wday=3, tm_yday=212, tm_isdst=0\n",
    "# 3.format time格式化时间：使时间更具可读性（包括自定义格式&固定格式）\n",
    "# 例：2025-07-31、2290-01-21 11:33:20\n",
    "import time"
   ]
  },
  {
   "cell_type": "code",
   "execution_count": 74,
   "id": "090e64bf",
   "metadata": {},
   "outputs": [
    {
     "name": "stdout",
     "output_type": "stream",
     "text": [
      "1753954014.2785583\n",
      "1753954014\n"
     ]
    }
   ],
   "source": [
    "# timestamp时间戳\n",
    "print(time.time())\n",
    "print(int(time.time()))"
   ]
  },
  {
   "cell_type": "code",
   "execution_count": 75,
   "id": "40cf9cf8",
   "metadata": {},
   "outputs": [
    {
     "name": "stdout",
     "output_type": "stream",
     "text": [
      "程序消耗时间= 5.005245685577393\n"
     ]
    }
   ],
   "source": [
    "# 程序开始时间\n",
    "start_time=time.time()\n",
    "# 程序本体\n",
    "s=\"\"\n",
    "for i in range(5):\n",
    "    s+=str(i)\n",
    "    # sleep(睡眠秒数)\n",
    "    time.sleep(1)   # 程序暂停1s后再执行\n",
    "end_time=time.time()\n",
    "print(\"程序消耗时间=\",end_time-start_time)"
   ]
  },
  {
   "cell_type": "code",
   "execution_count": 76,
   "id": "bd2d2039",
   "metadata": {},
   "outputs": [
    {
     "name": "stdout",
     "output_type": "stream",
     "text": [
      "time.struct_time(tm_year=2025, tm_mon=7, tm_mday=31, tm_hour=17, tm_min=26, tm_sec=59, tm_wday=3, tm_yday=212, tm_isdst=0)\n",
      "2025\n",
      "7\n",
      "31\n",
      "time.struct_time(tm_year=2290, tm_mon=1, tm_mday=21, tm_hour=11, tm_min=33, tm_sec=20, tm_wday=1, tm_yday=21, tm_isdst=0)\n",
      "1753947570.0\n",
      "2025-07-31\n",
      "2290-01-21 11:33:20\n",
      "time.struct_time(tm_year=2290, tm_mon=1, tm_mday=21, tm_hour=11, tm_min=33, tm_sec=20, tm_wday=1, tm_yday=21, tm_isdst=-1)\n"
     ]
    }
   ],
   "source": [
    "# time.localtime()：由timestamp生成struct_time\n",
    "my_time=time.localtime()\n",
    "print(my_time)\n",
    "print(my_time.tm_year)\n",
    "print(my_time.tm_mon)\n",
    "print(my_time.tm_mday)\n",
    "print(time.localtime(10100000000))\n",
    "\n",
    "# time.mktime()：由struct_time生成timestamp\n",
    "my_str=\"2025-07-31 15:39:30\"\n",
    "st=time.strptime(my_str,\"%Y-%m-%d %X\")\n",
    "print(time.mktime(st))\n",
    "\n",
    "# time.strftime()：由struct_time生成格式化时间\n",
    "# 显示当前格式化后的时间\n",
    "print(time.strftime('%Y-%m-%d'))\n",
    "# 显示指定struct_time格式化后的时间\n",
    "print(time.strftime('%Y-%m-%d %X',time.localtime(10100000000)))\n",
    "\n",
    "# time.strptime()：由格式化时间生成struct_time\n",
    "print(time.strptime('2290-01-21 11:33:20',\"%Y-%m-%d %X\"))"
   ]
  },
  {
   "cell_type": "code",
   "execution_count": 77,
   "id": "98720eb6",
   "metadata": {},
   "outputs": [
    {
     "name": "stdout",
     "output_type": "stream",
     "text": [
      "2011-06-04 16:37:06\n"
     ]
    }
   ],
   "source": [
    "# 例1：'2011-05-25 16:37:06'加10天\n",
    "my_str='2011-05-25 16:37:06'\n",
    "st=time.strptime(my_str,'%Y-%m-%d %X')\n",
    "after_10=time.mktime(st)+24*60*60*10\n",
    "print(time.strftime('%Y-%m-%d %X',time.localtime(after_10)))"
   ]
  },
  {
   "cell_type": "code",
   "execution_count": 78,
   "id": "d37722c8",
   "metadata": {},
   "outputs": [],
   "source": [
    "# datetime模块：重新封装了time模块，提供更多接口，提供的类有：date,time,datetime,timedelta,tzinfo\n",
    "from datetime import date\n",
    "from datetime import datetime\n",
    "from datetime import timedelta"
   ]
  },
  {
   "cell_type": "code",
   "execution_count": 79,
   "id": "404afe81",
   "metadata": {},
   "outputs": [
    {
     "name": "stdout",
     "output_type": "stream",
     "text": [
      "date.today()： 2025-07-31\n",
      "date.fromtimestamp(timestamp)： 2025-07-31\n",
      "2025-07-01\n",
      "4\n",
      "2025.07.31\n",
      "2021 10 26\n",
      "now： 2021-10-26 ，当月第一天： 2021-10-01\n",
      "timetuple()： time.struct_time(tm_year=2021, tm_mon=10, tm_mday=26, tm_hour=0, tm_min=0, tm_sec=0, tm_wday=1, tm_yday=299, tm_isdst=-1)\n",
      "weekday()： 1\n",
      "isoweekday()： 2\n",
      "isoformat()： 2021-10-26\n",
      "strftime()： 2021.10.26\n"
     ]
    }
   ],
   "source": [
    "# 1.date类\n",
    "# date.today()：返回一个表示当前本地日期的date对象\n",
    "# date.fromtimestamp(timestamp)：根据给定时间戳，返回一个date对象\n",
    "print('date.today()：',date.today())\n",
    "print('date.fromtimestamp(timestamp)：',date.fromtimestamp(time.time()))\n",
    "\n",
    "now=date.today()\n",
    "# 当月第一天\n",
    "print(now.replace(day=1).isoformat())\n",
    "# 本周的星期几\n",
    "print(now.isoweekday())\n",
    "# 自定义输出格式\n",
    "print(now.strftime('%Y.%m.%d'))\n",
    "\n",
    "now=date(2021,10,26)\n",
    "print(now.year,now.month,now.day)\n",
    "m_1=now.replace(day=1)\n",
    "print('now：',now,'，当月第一天：',m_1)\n",
    "print('timetuple()：',now.timetuple())\n",
    "print('weekday()：',now.weekday())\n",
    "print('isoweekday()：',now.isoweekday())\n",
    "print('isoformat()：',now.isoformat())\n",
    "print('strftime()：',now.strftime('%Y.%m.%d'))"
   ]
  },
  {
   "cell_type": "code",
   "execution_count": 80,
   "id": "885595ea",
   "metadata": {},
   "outputs": [
    {
     "name": "stdout",
     "output_type": "stream",
     "text": [
      "2025-07-31 17:26:59.321653 <class 'datetime.datetime'>\n",
      "2025-07-31 17:26:59.321742\n",
      "2025-07-31T17:26:59.321764\n",
      "2025-07-31 17:26:59\n",
      "2025 07-31 17:26\n",
      "2011-05-25 16:37:00 <class 'datetime.datetime'>\n"
     ]
    }
   ],
   "source": [
    "# 2.datetime类\n",
    "now=datetime.now()\n",
    "print(now,type(now))\n",
    "# datetime.now()等同于datetime.today()\n",
    "print(datetime.today())\n",
    "print(datetime.now().isoformat())\n",
    "# 将datetime转化为指定格式的字符串\n",
    "print(now.strftime(\"%Y-%m-%d %X\"))\n",
    "print(now.strftime(\"%Y %m-%d %H:%M\"))\n",
    "\n",
    "my_str='2011-05-25 16:37'\n",
    "my_datetime=datetime.strptime(my_str,\"%Y-%m-%d %H:%M\")\n",
    "print(my_datetime,type(my_datetime))"
   ]
  },
  {
   "cell_type": "code",
   "execution_count": 81,
   "id": "874ca467",
   "metadata": {},
   "outputs": [
    {
     "name": "stdout",
     "output_type": "stream",
     "text": [
      "2025-07-30 17:26:59.327207\n",
      "2025-07-30 17:26:59.327207\n",
      "2025-08-01 17:26:59.327207\n",
      "2\n",
      "172800.0\n"
     ]
    }
   ],
   "source": [
    "# 3.timedelta类：方便在日期上作天day，小时hour，分钟，秒钟等时间单位的计算，如果要计算月份则需要另外的办法\n",
    "dt=datetime.now()\n",
    "# 日期减一天\n",
    "dt_1=dt+timedelta(days=-1)\n",
    "print(dt_1)\n",
    "dt_11=dt-timedelta(days=1)\n",
    "print(dt_11)\n",
    "# 日期加一天\n",
    "dt_2=dt+timedelta(days=1)\n",
    "print(dt_2)\n",
    "# 明天的datetime-昨天的datetime\n",
    "s=dt_2-dt_1\n",
    "print(s.days)\n",
    "print(s.total_seconds())"
   ]
  }
 ],
 "metadata": {
  "kernelspec": {
   "display_name": "my_ai_env",
   "language": "python",
   "name": "python3"
  },
  "language_info": {
   "codemirror_mode": {
    "name": "ipython",
    "version": 3
   },
   "file_extension": ".py",
   "mimetype": "text/x-python",
   "name": "python",
   "nbconvert_exporter": "python",
   "pygments_lexer": "ipython3",
   "version": "3.10.18"
  }
 },
 "nbformat": 4,
 "nbformat_minor": 5
}
