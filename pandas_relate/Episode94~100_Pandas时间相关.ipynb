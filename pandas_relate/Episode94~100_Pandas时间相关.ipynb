{
 "cells": [
  {
   "cell_type": "code",
   "execution_count": 2,
   "id": "cd47e536",
   "metadata": {},
   "outputs": [],
   "source": [
    "# Python的time模块\n",
    "# 1.timestamp时间戳：表示从1970年1月1日00:00:00开始按秒计算的偏移量\n",
    "# 例：1753945396.144133、1753945396\n",
    "# 2.struct_time时间元组：共有九个元素组（同时也作为timestamp与format time相互转换的桥梁）\n",
    "# 例：tm_year=2025, tm_mon=7, tm_mday=31, tm_hour=15, tm_min=22, tm_sec=17, tm_wday=3, tm_yday=212, tm_isdst=0\n",
    "# 3.format time格式化时间：使时间更具可读性（包括自定义格式&固定格式）\n",
    "# 例：2025-07-31、2290-01-21 11:33:20\n",
    "import time"
   ]
  },
  {
   "cell_type": "code",
   "execution_count": 3,
   "id": "090e64bf",
   "metadata": {},
   "outputs": [
    {
     "name": "stdout",
     "output_type": "stream",
     "text": [
      "1754094079.853538\n",
      "1754094079\n"
     ]
    }
   ],
   "source": [
    "# timestamp时间戳\n",
    "print(time.time())\n",
    "print(int(time.time()))"
   ]
  },
  {
   "cell_type": "code",
   "execution_count": 4,
   "id": "40cf9cf8",
   "metadata": {},
   "outputs": [
    {
     "name": "stdout",
     "output_type": "stream",
     "text": [
      "程序消耗时间= 5.004218101501465\n"
     ]
    }
   ],
   "source": [
    "# 程序开始时间\n",
    "start_time=time.time()\n",
    "# 程序本体\n",
    "s=\"\"\n",
    "for i in range(5):\n",
    "    s+=str(i)\n",
    "    # sleep(睡眠秒数)\n",
    "    time.sleep(1)   # 程序暂停1s后再执行\n",
    "end_time=time.time()\n",
    "print(\"程序消耗时间=\",end_time-start_time)"
   ]
  },
  {
   "cell_type": "code",
   "execution_count": 5,
   "id": "bd2d2039",
   "metadata": {},
   "outputs": [
    {
     "name": "stdout",
     "output_type": "stream",
     "text": [
      "time.struct_time(tm_year=2025, tm_mon=8, tm_mday=2, tm_hour=8, tm_min=21, tm_sec=24, tm_wday=5, tm_yday=214, tm_isdst=0)\n",
      "2025\n",
      "8\n",
      "2\n",
      "time.struct_time(tm_year=2290, tm_mon=1, tm_mday=21, tm_hour=11, tm_min=33, tm_sec=20, tm_wday=1, tm_yday=21, tm_isdst=0)\n",
      "1753947570.0\n",
      "2025-08-02\n",
      "2290-01-21 11:33:20\n",
      "time.struct_time(tm_year=2290, tm_mon=1, tm_mday=21, tm_hour=11, tm_min=33, tm_sec=20, tm_wday=1, tm_yday=21, tm_isdst=-1)\n"
     ]
    }
   ],
   "source": [
    "# time.localtime()：由timestamp生成struct_time\n",
    "my_time=time.localtime()\n",
    "print(my_time)\n",
    "print(my_time.tm_year)\n",
    "print(my_time.tm_mon)\n",
    "print(my_time.tm_mday)\n",
    "print(time.localtime(10100000000))\n",
    "\n",
    "# time.mktime()：由struct_time生成timestamp\n",
    "my_str=\"2025-07-31 15:39:30\"\n",
    "st=time.strptime(my_str,\"%Y-%m-%d %X\")\n",
    "print(time.mktime(st))\n",
    "\n",
    "# time.strftime()：由struct_time生成格式化时间\n",
    "# 显示当前格式化后的时间\n",
    "print(time.strftime('%Y-%m-%d'))\n",
    "# 显示指定struct_time格式化后的时间\n",
    "print(time.strftime('%Y-%m-%d %X',time.localtime(10100000000)))\n",
    "\n",
    "# time.strptime()：由格式化时间生成struct_time\n",
    "print(time.strptime('2290-01-21 11:33:20',\"%Y-%m-%d %X\"))"
   ]
  },
  {
   "cell_type": "code",
   "execution_count": 6,
   "id": "98720eb6",
   "metadata": {},
   "outputs": [
    {
     "name": "stdout",
     "output_type": "stream",
     "text": [
      "2011-06-04 16:37:06\n"
     ]
    }
   ],
   "source": [
    "# 例1：'2011-05-25 16:37:06'加10天\n",
    "my_str='2011-05-25 16:37:06'\n",
    "st=time.strptime(my_str,'%Y-%m-%d %X')\n",
    "after_10=time.mktime(st)+24*60*60*10\n",
    "print(time.strftime('%Y-%m-%d %X',time.localtime(after_10)))"
   ]
  },
  {
   "cell_type": "code",
   "execution_count": 7,
   "id": "d37722c8",
   "metadata": {},
   "outputs": [],
   "source": [
    "# datetime模块：重新封装了time模块，提供更多接口，提供的类有：date,time,datetime,timedelta,tzinfo\n",
    "from datetime import date\n",
    "from datetime import datetime\n",
    "from datetime import timedelta"
   ]
  },
  {
   "cell_type": "code",
   "execution_count": 8,
   "id": "404afe81",
   "metadata": {},
   "outputs": [
    {
     "name": "stdout",
     "output_type": "stream",
     "text": [
      "date.today()： 2025-08-02\n",
      "date.fromtimestamp(timestamp)： 2025-08-02\n",
      "2025-08-01\n",
      "6\n",
      "2025.08.02\n",
      "2021 10 26\n",
      "now： 2021-10-26 ，当月第一天： 2021-10-01\n",
      "timetuple()： time.struct_time(tm_year=2021, tm_mon=10, tm_mday=26, tm_hour=0, tm_min=0, tm_sec=0, tm_wday=1, tm_yday=299, tm_isdst=-1)\n",
      "weekday()： 1\n",
      "isoweekday()： 2\n",
      "isoformat()： 2021-10-26\n",
      "strftime()： 2021.10.26\n"
     ]
    }
   ],
   "source": [
    "# 1.date类\n",
    "# date.today()：返回一个表示当前本地日期的date对象\n",
    "# date.fromtimestamp(timestamp)：根据给定时间戳，返回一个date对象\n",
    "print('date.today()：',date.today())\n",
    "print('date.fromtimestamp(timestamp)：',date.fromtimestamp(time.time()))\n",
    "\n",
    "now=date.today()\n",
    "# 当月第一天\n",
    "print(now.replace(day=1).isoformat())\n",
    "# 本周的星期几\n",
    "print(now.isoweekday())\n",
    "# 自定义输出格式\n",
    "print(now.strftime('%Y.%m.%d'))\n",
    "\n",
    "now=date(2021,10,26)\n",
    "print(now.year,now.month,now.day)\n",
    "m_1=now.replace(day=1)\n",
    "print('now：',now,'，当月第一天：',m_1)\n",
    "print('timetuple()：',now.timetuple())\n",
    "print('weekday()：',now.weekday())\n",
    "print('isoweekday()：',now.isoweekday())\n",
    "print('isoformat()：',now.isoformat())\n",
    "print('strftime()：',now.strftime('%Y.%m.%d'))"
   ]
  },
  {
   "cell_type": "code",
   "execution_count": 9,
   "id": "885595ea",
   "metadata": {},
   "outputs": [
    {
     "name": "stdout",
     "output_type": "stream",
     "text": [
      "2025-08-02 08:21:24.901192 <class 'datetime.datetime'>\n",
      "2025-08-02 08:21:24.901345\n",
      "2025-08-02T08:21:24.901394\n",
      "2025-08-02 08:21:24\n",
      "2025 08-02 08:21\n",
      "2011-05-25 16:37:00 <class 'datetime.datetime'>\n"
     ]
    }
   ],
   "source": [
    "# 2.datetime类\n",
    "now=datetime.now()\n",
    "print(now,type(now))\n",
    "# datetime.now()等同于datetime.today()\n",
    "print(datetime.today())\n",
    "print(datetime.now().isoformat())\n",
    "# 将datetime转化为指定格式的字符串\n",
    "print(now.strftime(\"%Y-%m-%d %X\"))\n",
    "print(now.strftime(\"%Y %m-%d %H:%M\"))\n",
    "\n",
    "my_str='2011-05-25 16:37'\n",
    "my_datetime=datetime.strptime(my_str,\"%Y-%m-%d %H:%M\")\n",
    "print(my_datetime,type(my_datetime))"
   ]
  },
  {
   "cell_type": "code",
   "execution_count": 10,
   "id": "874ca467",
   "metadata": {},
   "outputs": [
    {
     "name": "stdout",
     "output_type": "stream",
     "text": [
      "2025-08-01 08:21:24.909502\n",
      "2025-08-01 08:21:24.909502\n",
      "2025-08-03 08:21:24.909502\n",
      "2\n",
      "172800.0\n"
     ]
    }
   ],
   "source": [
    "# 3.timedelta类：方便在日期上作天day，小时hour，分钟，秒钟等时间单位的计算，如果要计算月份则需要另外的办法\n",
    "dt=datetime.now()\n",
    "# 日期减一天\n",
    "dt_1=dt+timedelta(days=-1)\n",
    "print(dt_1)\n",
    "dt_11=dt-timedelta(days=1)\n",
    "print(dt_11)\n",
    "# 日期加一天\n",
    "dt_2=dt+timedelta(days=1)\n",
    "print(dt_2)\n",
    "# 明天的datetime-昨天的datetime\n",
    "s=dt_2-dt_1\n",
    "print(s.days)\n",
    "print(s.total_seconds())"
   ]
  },
  {
   "cell_type": "code",
   "execution_count": 11,
   "id": "206565f1",
   "metadata": {},
   "outputs": [],
   "source": [
    "# Pandas提供四种类型的生成日期时间对象：日期时间、时间增量、时间跨度、日期偏移量\n",
    "# 1.日期时间（Date Times）：具有时区支持的特定日期与时间；与Python标准库中的datetime.datetime类似，如：2020年12月6日13点37分50秒\n",
    "# 2.时间增量（Time Deltas）：绝对持续时间，用于在指定时间点基础上增加指定的增量，如在某年月日基础上增加2天、增加2个月、减少4小时等，最后产生一个新的时间点\n",
    "# 3.时间跨度（Time Span）：由时间点及其相关周期定义的时间跨度，如连续产生一年四个季度的时间序列\n",
    "# 4.日期偏移（Date Offsets）：以日历计算的相对持续时间，表示时间间隔，两个时间点之间的长度，如日、周、月、季度、年\n",
    "import pandas as pd\n",
    "import numpy as np\n",
    "import time\n",
    "import datetime"
   ]
  },
  {
   "cell_type": "code",
   "execution_count": 12,
   "id": "ef896d6e",
   "metadata": {},
   "outputs": [
    {
     "name": "stdout",
     "output_type": "stream",
     "text": [
      "2025-01-01 00:00:00\n",
      "2022-01-01 00:00:00\n",
      "2022-01-01 00:00:00\n",
      "2022-01-01 12:00:00\n",
      "2022-01-01 12:00:00\n",
      "2022-02-28 00:00:00\n",
      "2025-08-02 00:21:25.310085058\n",
      "2025-08-02 00:21:25\n",
      "2022-01-10 00:00:00\n"
     ]
    }
   ],
   "source": [
    "# 1.时间序列类型\n",
    "# (1)时间戳Timestamp：Python datetime的替代品，大多数情况下可以与之互换；用于组成DatetimeIndex的条目，以及pandas中其他面向时间序列的数据结构\n",
    "print(pd.Timestamp('2025'))\n",
    "print(pd.Timestamp('2022-01'))\n",
    "print(pd.Timestamp('2022-01-01'))\n",
    "print(pd.Timestamp('2022-01-01 12'))\n",
    "print(pd.Timestamp('01-01-2022 12'))\n",
    "# 报错DateParseError: hour must be in 0..23: 01-01-2022 25\n",
    "# print(pd.Timestamp('01-01-2022 25'))\n",
    "print(pd.Timestamp('2022-2-28'))\n",
    "# 报错DateParseError: day is out of range for month: 2022-2-29\n",
    "# print(pd.Timestamp('2022-2-29'))\n",
    "\n",
    "# unit参数为s：将转换以秒为单位表示Unix历元的浮点值；1970年1月1日正是Unix系统的起始时间\n",
    "# 因为time.time()返回毫秒值，所以应先通过int()取整\n",
    "print(pd.Timestamp(time.time(),unit='s'))\n",
    "print(pd.Timestamp(int(time.time()),unit='s'))\n",
    "\n",
    "# 提供年月日\n",
    "# year、month、day、hour、minute、second、microsecond单独设置时间\n",
    "# 报错ValueError: month must be in 1..12\n",
    "# print(pd.Timestamp(2022,13,20))\n",
    "print(pd.Timestamp(year=2022,day=10,month=1))"
   ]
  },
  {
   "cell_type": "code",
   "execution_count": 13,
   "id": "6ed4600c",
   "metadata": {},
   "outputs": [
    {
     "name": "stdout",
     "output_type": "stream",
     "text": [
      "2022-01-01 12:00:00\n",
      "2021-12-31 12:00:00\n",
      "5 days 00:50:20\n",
      "435020.0\n",
      "2022-01-06 12:50:20\n",
      "2025-11-10 08:21:25.317262 <class 'datetime.datetime'>\n"
     ]
    },
    {
     "data": {
      "text/plain": [
       "'2025-11-10'"
      ]
     },
     "execution_count": 13,
     "metadata": {},
     "output_type": "execute_result"
    }
   ],
   "source": [
    "# (2)时间间隔Timedelta\n",
    "ts=pd.Timestamp('2022-01-01 12')\n",
    "print(ts)\n",
    "# 往后减一天\n",
    "print(ts+pd.Timedelta(-1,'D'))\n",
    "# 往前加五天\n",
    "td=pd.Timedelta(days=5,minutes=50,seconds=20)\n",
    "print(td)\n",
    "# 返回 5 days 00:50:20 的总秒数\n",
    "print(td.total_seconds())\n",
    "print(ts+td)\n",
    "# 计算当前时间往后100天的日期\n",
    "now=datetime.datetime.now()\n",
    "dt=now+datetime.timedelta(days=100)\n",
    "print(dt,type(dt))\n",
    "# 只显示年月日\n",
    "dt.strftime('%Y-%m-%d')"
   ]
  },
  {
   "cell_type": "code",
   "execution_count": 21,
   "id": "67b5b8c7",
   "metadata": {},
   "outputs": [
    {
     "name": "stdout",
     "output_type": "stream",
     "text": [
      "   year  month  day\n",
      "0  2015      2    4\n",
      "1  2016      3    5\n",
      "DatetimeIndex(['2021-11-12'], dtype='datetime64[ns]', freq=None)\n",
      "2005-06-21 00:00:00\n",
      "2021-06-05 00:00:00\n",
      "DatetimeIndex(['2020-01-12', '2020-01-13', '2020-01-14'], dtype='datetime64[ns]', freq=None)\n",
      "DatetimeIndex(['2020-01-11 01:00:00', '2020-01-11 02:00:00',\n",
      "               '2020-01-11 03:00:00'],\n",
      "              dtype='datetime64[ns]', freq=None)\n",
      "DatetimeIndex(['2020-01-11 00:01:00', '2020-01-11 00:02:00',\n",
      "               '2020-01-11 00:03:00'],\n",
      "              dtype='datetime64[ns]', freq=None)\n",
      "DatetimeIndex(['2020-01-11 00:00:01', '2020-01-11 00:00:02',\n",
      "               '2020-01-11 00:00:03'],\n",
      "              dtype='datetime64[ns]', freq=None)\n",
      "Index(['120211204', '20210101'], dtype='object')\n"
     ]
    },
    {
     "name": "stderr",
     "output_type": "stream",
     "text": [
      "/tmp/ipykernel_5907/1915908713.py:24: UserWarning: Could not infer format, so each element will be parsed individually, falling back to `dateutil`. To ensure parsing is consistent and as-expected, please specify a format.\n",
      "  print(pd.to_datetime(['120211204','20210101'],errors='ignore'))\n"
     ]
    }
   ],
   "source": [
    "# 2.时间转化\n",
    "# to_datetime：将字符串转换为时间戳\n",
    "# (1)处理各种输入格式：从一个数据帧的多个列中组装日期时间，键名可以是常见的缩写，也可以是相同的复数形式\n",
    "df=pd.DataFrame({'year':[2015,2016],'month':[2,3],'day':[4,5]})\n",
    "print(df)\n",
    "# (2)将字符串转datetime\n",
    "print(pd.to_datetime(['11-12-2021']))\n",
    "# (3)自动识别异常\n",
    "print(pd.to_datetime('210605'))     # 日-月-年\n",
    "print(pd.to_datetime('210605',yearfirst=True))      #年-月-日\n",
    "# (4)配合unit参数，使用非unix时间；\n",
    "# 在时间2020-01-11的基础上分别加上1,2,3天\n",
    "print(pd.to_datetime([1,2,3],unit='D',origin=pd.Timestamp('2020-01-11')))\n",
    "# 在时间2020-01-11 00:00:00的基础上分别加上1,2,3h\n",
    "print(pd.to_datetime([1,2,3],unit='h',origin=pd.Timestamp('2020-01-11')))\n",
    "# 在时间2020-01-11 00:00:00的基础上分别加上1,2,3m\n",
    "print(pd.to_datetime([1,2,3],unit='m',origin=pd.Timestamp('2020-01-11')))\n",
    "# 在时间2020-01-11 00:00:00的基础上分别加上1,2,3s\n",
    "print(pd.to_datetime([1,2,3],unit='s',origin=pd.Timestamp('2020-01-11')))\n",
    "# (5)错误处理\n",
    "# 报错DateParseError: year 120211204 is out of range: 120211204, at position 0\n",
    "# print(pd.to_datetime(['120211204','20210101']))\n",
    "# 无效的转换，UserWarning: Could not infer format, so each element will be parsed individually\n",
    "print(pd.to_datetime(['120211204','20210101'],errors='ignore'))"
   ]
  },
  {
   "cell_type": "code",
   "execution_count": null,
   "id": "3d13fa49",
   "metadata": {},
   "outputs": [
    {
     "name": "stdout",
     "output_type": "stream",
     "text": [
      "DatetimeIndex(['2021-01-01', '2021-01-02', '2021-01-03', '2021-01-04',\n",
      "               '2021-01-05', '2021-01-06', '2021-01-07', '2021-01-08'],\n",
      "              dtype='datetime64[ns]', freq='D')\n",
      "DatetimeIndex(['2021-01-01', '2021-01-02', '2021-01-03', '2021-01-04',\n",
      "               '2021-01-05', '2021-01-06', '2021-01-07', '2021-01-08',\n",
      "               '2021-01-09', '2021-01-10',\n",
      "               ...\n",
      "               '2021-12-23', '2021-12-24', '2021-12-25', '2021-12-26',\n",
      "               '2021-12-27', '2021-12-28', '2021-12-29', '2021-12-30',\n",
      "               '2021-12-31', '2022-01-01'],\n",
      "              dtype='datetime64[ns]', length=366, freq='D')\n",
      "DatetimeIndex(['2018-01-01', '2018-01-02', '2018-01-03', '2018-01-04',\n",
      "               '2018-01-05', '2018-01-06', '2018-01-07', '2018-01-08'],\n",
      "              dtype='datetime64[ns]', freq='D')\n",
      "DatetimeIndex(['2018-04-24 00:00:00', '2018-04-25 12:00:00',\n",
      "               '2018-04-27 00:00:00'],\n",
      "              dtype='datetime64[ns]', freq=None)\n",
      "DatetimeIndex(['2022-01-03', '2022-01-04', '2022-01-05'], dtype='datetime64[ns]', freq='B')\n",
      "DatetimeIndex(['2022-01-01 00:00:00', '2022-01-01 01:00:00',\n",
      "               '2022-01-01 02:00:00', '2022-01-01 03:00:00',\n",
      "               '2022-01-01 04:00:00', '2022-01-01 05:00:00',\n",
      "               '2022-01-01 06:00:00', '2022-01-01 07:00:00',\n",
      "               '2022-01-01 08:00:00', '2022-01-01 09:00:00',\n",
      "               '2022-01-01 10:00:00', '2022-01-01 11:00:00',\n",
      "               '2022-01-01 12:00:00', '2022-01-01 13:00:00',\n",
      "               '2022-01-01 14:00:00', '2022-01-01 15:00:00',\n",
      "               '2022-01-01 16:00:00', '2022-01-01 17:00:00',\n",
      "               '2022-01-01 18:00:00', '2022-01-01 19:00:00',\n",
      "               '2022-01-01 20:00:00', '2022-01-01 21:00:00',\n",
      "               '2022-01-01 22:00:00', '2022-01-01 23:00:00',\n",
      "               '2022-01-02 00:00:00'],\n",
      "              dtype='datetime64[ns]', freq='H')\n",
      "DatetimeIndex(['2022-01-01 12:00:00', '2022-01-01 12:01:00',\n",
      "               '2022-01-01 12:02:00', '2022-01-01 12:03:00',\n",
      "               '2022-01-01 12:04:00', '2022-01-01 12:05:00',\n",
      "               '2022-01-01 12:06:00', '2022-01-01 12:07:00',\n",
      "               '2022-01-01 12:08:00', '2022-01-01 12:09:00',\n",
      "               '2022-01-01 12:10:00'],\n",
      "              dtype='datetime64[ns]', freq='T')\n",
      "DatetimeIndex(['2022-01-01 12:00:00', '2022-01-01 12:00:01',\n",
      "               '2022-01-01 12:00:02', '2022-01-01 12:00:03',\n",
      "               '2022-01-01 12:00:04', '2022-01-01 12:00:05',\n",
      "               '2022-01-01 12:00:06', '2022-01-01 12:00:07',\n",
      "               '2022-01-01 12:00:08', '2022-01-01 12:00:09',\n",
      "               '2022-01-01 12:00:10'],\n",
      "              dtype='datetime64[ns]', freq='S')\n"
     ]
    }
   ],
   "source": [
    "# 3.生成时间戳范围\n",
    "# (1)date_range()：返回固定频率的DatetimeIndex\n",
    "print(pd.date_range(start='1/1/2021',end='1/08/2021'))\n",
    "# 此时包含了2022/01/01,可以设置closed参数；closed=left左闭右开；closed=right左开右闭\n",
    "print(pd.date_range(start='2021',end='2022',closed='left'))\n",
    "print(pd.date_range(start='2021',end='2022',closed='right'))\n",
    "# (2)指定开始日期，设置期间数\n",
    "print(pd.date_range(start='1/1/2018',periods=8))\n",
    "# (3)指定开始、结束时间，频率自动生成（线性间隔）\n",
    "# '2018-04-24 00:00:00', '2018-04-25 12:00:00', '2018-04-27 00:00:00'\n",
    "print(pd.date_range(start='2018-04-24',end='2018/04/27',periods=3))\n",
    "# B：每工作日\n",
    "print(pd.date_range('2022/1/1','2022/1/5',freq='B'))\n",
    "# H：每小时\n",
    "print(pd.date_range('2022/1/1','2022/1/2',freq='H'))\n",
    "# T/MIN：每分钟\n",
    "print(pd.date_range('2022/1/1 12:00','2022/1/1 12:10',freq=\"MIN\"))\n",
    "# S：秒\n",
    "print(pd.date_range('2022/1/1 12:00:00','2022/1/1 12:00:10',freq=\"S\"))"
   ]
  }
 ],
 "metadata": {
  "kernelspec": {
   "display_name": "my_ai_env",
   "language": "python",
   "name": "python3"
  },
  "language_info": {
   "codemirror_mode": {
    "name": "ipython",
    "version": 3
   },
   "file_extension": ".py",
   "mimetype": "text/x-python",
   "name": "python",
   "nbconvert_exporter": "python",
   "pygments_lexer": "ipython3",
   "version": "3.10.18"
  }
 },
 "nbformat": 4,
 "nbformat_minor": 5
}
