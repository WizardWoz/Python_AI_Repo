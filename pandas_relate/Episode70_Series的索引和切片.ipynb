{
 "cells": [
  {
   "cell_type": "code",
   "execution_count": 1,
   "id": "522abf80",
   "metadata": {},
   "outputs": [],
   "source": [
    "import pandas as pd\n",
    "import numpy as np"
   ]
  },
  {
   "cell_type": "code",
   "execution_count": 3,
   "id": "27b8d56d",
   "metadata": {},
   "outputs": [
    {
     "name": "stdout",
     "output_type": "stream",
     "text": [
      "0    0.567568\n",
      "1    0.410639\n",
      "2    0.435458\n",
      "3    0.601437\n",
      "4    0.631198\n",
      "dtype: float64\n",
      "0.601437413232606 <class 'numpy.float64'> float64\n"
     ]
    }
   ],
   "source": [
    "# 1.下标索引，类似于列表索引；位置索引和标签索引刚好一致，会使用标签索引；使用负值时并不存在负数的标签索引\n",
    "s=pd.Series(np.random.rand(5))\n",
    "print(s)\n",
    "print(s[3],type(s[3]),s[3].dtype)"
   ]
  },
  {
   "cell_type": "code",
   "execution_count": 7,
   "id": "948a7971",
   "metadata": {},
   "outputs": [
    {
     "name": "stdout",
     "output_type": "stream",
     "text": [
      "0.203277641024327 <class 'numpy.float64'> float64\n",
      "a    6\n",
      "c    8\n",
      "d    9\n",
      "dtype: int64\n",
      "s3: b    10.000000\n",
      "a     0.229681\n",
      "e     0.605899\n",
      "dtype: float64\n",
      "s1原数据： a    0.229681\n",
      "b    0.203278\n",
      "c    0.735541\n",
      "d    0.116499\n",
      "e    0.605899\n",
      "dtype: float64\n"
     ]
    }
   ],
   "source": [
    "# 2.标签索引\n",
    "# 索引为object类型，既可以使用标签索引也可以使用位置索引\n",
    "# Series类似固定大小的dict，把index中的索引标签当作key，而把Series序列中的元素值当作value，然后通过index索引标签来访问或修改元素值\n",
    "# (1)使用索引标签访问单个元素值\n",
    "s1=pd.Series(np.random.rand(5),index=list('abcde'))\n",
    "print(s1[\"b\"],type(s1[\"b\"]),s1[\"b\"].dtype)\n",
    "\n",
    "# (2)使用索引标签访问多个元素值\n",
    "s2=pd.Series([6,7,8,9,10],index=['a','b','c','d','e'])\n",
    "# 注意：需要选择多个标签的值\n",
    "print(s2[['a','c','d']])\n",
    "\n",
    "# (3)多标签会创建一个新的数组\n",
    "s3=s1[['b','a','e']]\n",
    "s3['b']=10\n",
    "print(\"s3:\",s3)\n",
    "print(\"s1原数据：\",s1)"
   ]
  },
  {
   "cell_type": "code",
   "execution_count": 18,
   "id": "28990ee3",
   "metadata": {},
   "outputs": [
    {
     "name": "stdout",
     "output_type": "stream",
     "text": [
      "0    0.039450\n",
      "1    0.363182\n",
      "2    0.835635\n",
      "3    0.459562\n",
      "4    0.016246\n",
      "5    0.443247\n",
      "6    0.656993\n",
      "7    0.328148\n",
      "8    0.439695\n",
      "9    0.842984\n",
      "dtype: float64\n",
      "1    0.363182\n",
      "2    0.835635\n",
      "3    0.459562\n",
      "4    0.016246\n",
      "dtype: float64\n",
      "a    1\n",
      "b    2\n",
      "c    3\n",
      "d    4\n",
      "e    5\n",
      "dtype: int64\n",
      "b    2\n",
      "c    3\n",
      "d    4\n",
      "e    5\n",
      "dtype: int64\n",
      "a    1\n",
      "b    2\n",
      "c    3\n",
      "d    4\n",
      "dtype: int64\n",
      "c    3\n",
      "d    4\n",
      "e    5\n",
      "dtype: int64\n",
      "c    3\n",
      "dtype: int64\n",
      "a    1\n",
      "b    2\n",
      "c    3\n",
      "dtype: int64\n",
      "Series([], dtype: int64)\n"
     ]
    }
   ],
   "source": [
    "# 3.切片：Series使用的标签切片运算与普通的Python切片运算不同；Series使用标签切片时，其末端是包含的\n",
    "# Series使用Python切片运算，即使用位置数值切片，末端不包含\n",
    "s1=pd.Series(np.random.rand(10))\n",
    "print(s1)\n",
    "# (1)位置索引和标签索引刚好一致，使用切片时如果是数值会认为是python切片运算，不包含末端\n",
    "print(s1[1:5])\n",
    "s2=pd.Series([1,2,3,4,5],index=['a','b','c','d','e'])\n",
    "# 0->'a'->1；1->'b'->2；2->'c'->3；3->'d'->4；4->'e'->5\n",
    "print(s2)\n",
    "print(s2[1:5])\n",
    "print(s2[:4])\n",
    "print(s2[-3:])\n",
    "\n",
    "# (2)使用的是标签\n",
    "print(s2['c':'c'])\n",
    "print(s2['a':'c'])\n",
    "print(s2['c':'a'])      # 为空Series对象"
   ]
  }
 ],
 "metadata": {
  "kernelspec": {
   "display_name": "my_ai_env",
   "language": "python",
   "name": "python3"
  },
  "language_info": {
   "codemirror_mode": {
    "name": "ipython",
    "version": 3
   },
   "file_extension": ".py",
   "mimetype": "text/x-python",
   "name": "python",
   "nbconvert_exporter": "python",
   "pygments_lexer": "ipython3",
   "version": "3.10.18"
  }
 },
 "nbformat": 4,
 "nbformat_minor": 5
}
