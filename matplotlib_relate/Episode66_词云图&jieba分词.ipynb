{
 "cells": [
  {
   "cell_type": "code",
   "execution_count": 3,
   "id": "ae9250c6",
   "metadata": {},
   "outputs": [],
   "source": [
    "# 词云图：对文本中出现频率较高的“关键词”进行可视化，过滤掉大量低频低质的文本信息，常用于文本分析和数据挖掘\n",
    "# WordCloud是一款Python环境下的词云图工具包，同时支持python2和python3，能通过代码的形式把关键词数据转换成直观且有趣的图文模式\n",
    "# %pip install wordcloud\n",
    "import matplotlib.pyplot as plt\n",
    "from wordcloud import WordCloud\n",
    "import numpy as np"
   ]
  },
  {
   "cell_type": "code",
   "execution_count": null,
   "id": "69796d82",
   "metadata": {},
   "outputs": [],
   "source": [
    "with open('data/a_new_hope.txt', encoding='utf-8') as file:\n",
    "    # 数据文件\n",
    "    txt=file.read()\n",
    "    # 如果数据文件中包含中文，font_path必须指定字体，否则中文会乱码\n",
    "    # collocations：是否包括两个词的搭配，默认为True。如果为True的时候会有重复数据，不需要重复数据则设置为False\n",
    "    # width：幕布的宽度，height：幕布的高度\n",
    "    # max_words：要显示的词的最大个数；generate：读取文本文件\n",
    "    wordcloud=WordCloud(font_path='data/simhei.ttf',collocations=False,background_color='black',\n",
    "                        width=800,height=600,max_words=50).generate(txt)\n",
    "    # 生成图片\n",
    "    image=wordcloud.to_image()\n",
    "    # 显示图片\n",
    "    image.show()\n",
    "    # 写入文件\n",
    "    wordcloud.to_file('data/wordcloud.png')"
   ]
  }
 ],
 "metadata": {
  "kernelspec": {
   "display_name": "my_ai_env",
   "language": "python",
   "name": "python3"
  },
  "language_info": {
   "codemirror_mode": {
    "name": "ipython",
    "version": 3
   },
   "file_extension": ".py",
   "mimetype": "text/x-python",
   "name": "python",
   "nbconvert_exporter": "python",
   "pygments_lexer": "ipython3",
   "version": "3.10.12"
  }
 },
 "nbformat": 4,
 "nbformat_minor": 5
}
