{
 "cells": [
  {
   "cell_type": "code",
   "execution_count": 2,
   "id": "3b78d943",
   "metadata": {},
   "outputs": [
    {
     "name": "stdout",
     "output_type": "stream",
     "text": [
      "[[ 1  2  3]\n",
      " [11 12 13]\n",
      " [21 22 23]\n",
      " [31 32 33]]\n"
     ]
    }
   ],
   "source": [
    "# 广播：numpy对不同形状的数组进行数值计算的方式\n",
    "# 核心：对形状较小的数组，在横向/纵向上进行一定次数的重复，使其与形状较大的数组拥有相同的维度\n",
    "# 1.所有输入数组都向其中最长的看齐，缺少的维度先用1补齐；\n",
    "# 2.输出数组的形状是输入数组形状在各个维度上的最大值；\n",
    "# 3.输入数组某个维度和输出数组对应维度长度相同/长度为1时，该数组才能用来计算；\n",
    "# 4.输入数组某个维度长度为1时，沿着该维度计算都用第1组值\n",
    "\n",
    "import numpy as np\n",
    "\n",
    "a=np.array([\n",
    "    [0,0,0],\n",
    "    [10,10,10],\n",
    "    [20,20,20],\n",
    "    [30,30,30]\n",
    "])\n",
    "b=np.array([1,2,3])\n",
    "# b最终变为[[1,2,3],[1,2,3],[1,2,3],[1,2,3]]\n",
    "print(a+b)"
   ]
  },
  {
   "cell_type": "code",
   "execution_count": 7,
   "id": "b9fdb581",
   "metadata": {},
   "outputs": [
    {
     "name": "stdout",
     "output_type": "stream",
     "text": [
      "a: [[0 1 2]\n",
      " [3 4 5]]\n",
      "b: [5]\n",
      "[[ 0  5 10]\n",
      " [15 20 25]]\n",
      "a: [[[0 1 2]]\n",
      "\n",
      " [[3 4 5]]]\n",
      "b: [[0]\n",
      " [1]\n",
      " [2]\n",
      " [3]]\n",
      "[[[0 1 2]\n",
      "  [1 2 3]\n",
      "  [2 3 4]\n",
      "  [3 4 5]]\n",
      "\n",
      " [[3 4 5]\n",
      "  [4 5 6]\n",
      "  [5 6 7]\n",
      "  [6 7 8]]]\n"
     ]
    }
   ],
   "source": [
    "# 也可以如下简单理解：\n",
    "# 1.两个数组维度大小右对齐，然后比较对应维度上的数值\n",
    "# 2.如果数值相等/其中有一个为1/为空，则可以进行广播运算\n",
    "# 3.输出的维度大小为取数值大的数值，否则不能进行数组运算\n",
    "\n",
    "# 数组a大小为(2,3)\n",
    "a=np.arange(6).reshape(2,3)\n",
    "print('a:',a)\n",
    "# 数组b大小为(1,)\n",
    "b=np.array([5])\n",
    "print('b:',b)\n",
    "# 2   3\n",
    "#     1\n",
    "# ——————\n",
    "# 2   3\n",
    "c=a*b\n",
    "print(c)\n",
    "\n",
    "# 数组a大小为(2,1,3)\n",
    "a=np.arange(6).reshape(2,1,3)\n",
    "print('a:',a)\n",
    "# 数组b大小为(4,1)\n",
    "b=np.arange(4).reshape(4,1)\n",
    "print('b:',b)\n",
    "# 2   1   3\n",
    "#     4   1\n",
    "# ——————————\n",
    "# 2   4   3\n",
    "c=a+b\n",
    "print(c)"
   ]
  },
  {
   "cell_type": "code",
   "execution_count": null,
   "id": "bf3d4ce6",
   "metadata": {},
   "outputs": [
    {
     "name": "stdout",
     "output_type": "stream",
     "text": [
      "a: [[[0 1 2]]\n",
      "\n",
      " [[3 4 5]]]\n",
      "b: [[0 1]\n",
      " [2 3]\n",
      " [4 5]\n",
      " [6 7]]\n"
     ]
    },
    {
     "ename": "ValueError",
     "evalue": "operands could not be broadcast together with shapes (2,1,3) (4,2) ",
     "output_type": "error",
     "traceback": [
      "\u001b[0;31m---------------------------------------------------------------------------\u001b[0m",
      "\u001b[0;31mValueError\u001b[0m                                Traceback (most recent call last)",
      "Cell \u001b[0;32mIn[8], line 11\u001b[0m\n\u001b[1;32m      6\u001b[0m \u001b[38;5;28mprint\u001b[39m(\u001b[38;5;124m'\u001b[39m\u001b[38;5;124mb:\u001b[39m\u001b[38;5;124m'\u001b[39m,b)\n\u001b[1;32m      7\u001b[0m \u001b[38;5;66;03m# 2   1   3\u001b[39;00m\n\u001b[1;32m      8\u001b[0m \u001b[38;5;66;03m#     4   2\u001b[39;00m\n\u001b[1;32m      9\u001b[0m \u001b[38;5;66;03m# ——————————\u001b[39;00m\n\u001b[1;32m     10\u001b[0m \u001b[38;5;66;03m# 2   4   X\u001b[39;00m\n\u001b[0;32m---> 11\u001b[0m c\u001b[38;5;241m=\u001b[39m\u001b[43ma\u001b[49m\u001b[38;5;241;43m+\u001b[39;49m\u001b[43mb\u001b[49m\n\u001b[1;32m     12\u001b[0m \u001b[38;5;28mprint\u001b[39m(c)\n",
      "\u001b[0;31mValueError\u001b[0m: operands could not be broadcast together with shapes (2,1,3) (4,2) "
     ]
    }
   ],
   "source": [
    "# 数组a大小为(2,1,3)\n",
    "a=np.arange(6).reshape(2,1,3)\n",
    "print('a:',a)\n",
    "# 数组b大小为(4,2)\n",
    "b=np.arange(8).reshape(4,2)\n",
    "print('b:',b)\n",
    "# 2   1   3\n",
    "#     4   2\n",
    "# ——————————\n",
    "# 2   4   X\n",
    "# 数组之间必须满足广播规则，否则就会报错；事实上相同大小的数组运算也遵循广播机制\n",
    "c=a+b\n",
    "print(c)"
   ]
  }
 ],
 "metadata": {
  "kernelspec": {
   "display_name": "my_ai_env",
   "language": "python",
   "name": "python3"
  },
  "language_info": {
   "codemirror_mode": {
    "name": "ipython",
    "version": 3
   },
   "file_extension": ".py",
   "mimetype": "text/x-python",
   "name": "python",
   "nbconvert_exporter": "python",
   "pygments_lexer": "ipython3",
   "version": "3.10.18"
  }
 },
 "nbformat": 4,
 "nbformat_minor": 5
}
