{
 "cells": [
  {
   "cell_type": "code",
   "execution_count": null,
   "id": "a59d87e9",
   "metadata": {},
   "outputs": [
    {
     "data": {
      "text/plain": [
       "'2.1.2'"
      ]
     },
     "execution_count": 20,
     "metadata": {},
     "output_type": "execute_result"
    }
   ],
   "source": [
    "# 引入numpy包\n",
    "import numpy as np\n",
    "np.__version__"
   ]
  },
  {
   "cell_type": "code",
   "execution_count": null,
   "id": "88a1fc27",
   "metadata": {},
   "outputs": [
    {
     "data": {
      "text/plain": [
       "[0, 2, 12, 36, 80, 150, 252, 392, 576, 810]"
      ]
     },
     "execution_count": 21,
     "metadata": {},
     "output_type": "execute_result"
    }
   ],
   "source": [
    "# 原生Python实现代码\n",
    "def python_sum(n):\n",
    "    \"\"\"\n",
    "    原生Python实现2个数组的加法\n",
    "    \"\"\"\n",
    "    A = [i**2 for i in range(n)]    #使用列表推导式生成平方数数组，数组A：0～N-1的平方数\n",
    "    B = [i**3 for i in range(n)]    #使用列表推导式生成立方数数组，数组B：0～N-1的立方数\n",
    "    # print('A=',A),print('B=',B)  # 输出结果\n",
    "    #创建新列表\n",
    "    ab_sum = []\n",
    "    #遍历两个数组，计算对应元素的和\n",
    "    for i in range(n):\n",
    "        ab_sum.append(A[i] + B[i])  #A中的元素加上B中对应的元素\n",
    "    return ab_sum\n",
    "# 调用实现函数\n",
    "python_sum(10)"
   ]
  },
  {
   "cell_type": "code",
   "execution_count": 22,
   "id": "fda89707",
   "metadata": {},
   "outputs": [
    {
     "data": {
      "text/plain": [
       "array([  0,   2,  12,  36,  80, 150, 252, 392, 576, 810])"
      ]
     },
     "execution_count": 22,
     "metadata": {},
     "output_type": "execute_result"
    }
   ],
   "source": [
    "# numpy实现代码\n",
    "def numpy_sum(n):\n",
    "    \"\"\"\n",
    "    numpy实现2个数组的加法\n",
    "    \"\"\"\n",
    "    A = np.arange(n)**2  #使用numpy的arange函数生成平方数数组\n",
    "    B = np.arange(n)**3  #使用numpy的arange函数生成立方数数组\n",
    "    # print('A=',A),print('B=',B)  # 输出结果\n",
    "    ab_sum = A + B  #直接使用numpy的加法操作\n",
    "    return ab_sum\n",
    "# 调用实现函数\n",
    "numpy_sum(10)"
   ]
  },
  {
   "cell_type": "code",
   "execution_count": 23,
   "id": "d72c8c01",
   "metadata": {},
   "outputs": [
    {
     "name": "stdout",
     "output_type": "stream",
     "text": [
      "383 μs ± 646 ns per loop (mean ± std. dev. of 7 runs, 1,000 loops each)\n",
      "4.47 μs ± 11 ns per loop (mean ± std. dev. of 7 runs, 100,000 loops each)\n"
     ]
    }
   ],
   "source": [
    "# 对比实现1000次的时间\n",
    "%timeit python_sum(1000)  # 测试原生Python实现的时间\n",
    "%timeit numpy_sum(1000)  # 测试numpy实现的时间\n",
    "# 原生Python实现的时间通常会比numpy实现的时间长，因为numpy使用了底层的C语言优化，能够更高效地处理数组操作。\n",
    "# 原生Python实现时间：376 μs ± 1.2 μs per loop (mean ± std. dev. of 7 runs, 1,000 loops each)\n",
    "# numpy实现时间：4.54 μs ± 21.9 ns per loop (mean ± std. dev. of 7 runs, 100,000 loops each)"
   ]
  },
  {
   "cell_type": "code",
   "execution_count": 24,
   "id": "3df98bf5",
   "metadata": {},
   "outputs": [
    {
     "name": "stdout",
     "output_type": "stream",
     "text": [
      "44.6 ms ± 56.4 μs per loop (mean ± std. dev. of 7 runs, 10 loops each)\n",
      "184 μs ± 2.23 μs per loop (mean ± std. dev. of 7 runs, 10,000 loops each)\n"
     ]
    }
   ],
   "source": [
    "# 对比实现100000次的时间\n",
    "%timeit python_sum(100000)  # 测试原生Python实现的时间\n",
    "%timeit numpy_sum(100000)  # 测试numpy实现的时间"
   ]
  },
  {
   "cell_type": "code",
   "execution_count": 25,
   "id": "1fadba49",
   "metadata": {},
   "outputs": [
    {
     "name": "stdout",
     "output_type": "stream",
     "text": [
      "468 ms ± 3.89 ms per loop (mean ± std. dev. of 7 runs, 1 loop each)\n",
      "5.78 ms ± 78.4 μs per loop (mean ± std. dev. of 7 runs, 100 loops each)\n"
     ]
    }
   ],
   "source": [
    "# 对比实现1000000次的时间\n",
    "%timeit python_sum(1000000)  # 测试原生Python实现的时间\n",
    "%timeit numpy_sum(1000000)  # 测试numpy实现的时间"
   ]
  },
  {
   "cell_type": "code",
   "execution_count": 33,
   "id": "ba317d90",
   "metadata": {},
   "outputs": [],
   "source": [
    "# %pip install matplotlib  # 安装matplotlib库，用于绘图\n",
    "# 绘图对比\n",
    "import pandas as pd\n",
    "# 创建数据\n",
    "python_times = [376, 400, 420]  # 原生Python实现的时间（μs）\n",
    "numpy_times = [4.54, 5, 5.5]  # numpy（μs）"
   ]
  },
  {
   "cell_type": "code",
   "execution_count": 43,
   "id": "9bfa1a22",
   "metadata": {},
   "outputs": [],
   "source": [
    "# 创建DataFrame类型的数据\n",
    "charts_data = pd.DataFrame({\n",
    "    'python_times': python_times,\n",
    "    'numpy_times': numpy_times\n",
    "})"
   ]
  },
  {
   "cell_type": "code",
   "execution_count": 41,
   "id": "cedb158a",
   "metadata": {},
   "outputs": [
    {
     "data": {
      "application/vnd.microsoft.datawrangler.viewer.v0+json": {
       "columns": [
        {
         "name": "index",
         "rawType": "int64",
         "type": "integer"
        },
        {
         "name": "python_times",
         "rawType": "int64",
         "type": "integer"
        },
        {
         "name": "numpy_times",
         "rawType": "float64",
         "type": "float"
        }
       ],
       "ref": "4c8d0b3e-b8a5-4628-b4cd-e64cf16c17e1",
       "rows": [
        [
         "0",
         "376",
         "4.54"
        ],
        [
         "1",
         "400",
         "5.0"
        ],
        [
         "2",
         "420",
         "5.5"
        ]
       ],
       "shape": {
        "columns": 2,
        "rows": 3
       }
      },
      "text/html": [
       "<div>\n",
       "<style scoped>\n",
       "    .dataframe tbody tr th:only-of-type {\n",
       "        vertical-align: middle;\n",
       "    }\n",
       "\n",
       "    .dataframe tbody tr th {\n",
       "        vertical-align: top;\n",
       "    }\n",
       "\n",
       "    .dataframe thead th {\n",
       "        text-align: right;\n",
       "    }\n",
       "</style>\n",
       "<table border=\"1\" class=\"dataframe\">\n",
       "  <thead>\n",
       "    <tr style=\"text-align: right;\">\n",
       "      <th></th>\n",
       "      <th>python_times</th>\n",
       "      <th>numpy_times</th>\n",
       "    </tr>\n",
       "  </thead>\n",
       "  <tbody>\n",
       "    <tr>\n",
       "      <th>0</th>\n",
       "      <td>376</td>\n",
       "      <td>4.54</td>\n",
       "    </tr>\n",
       "    <tr>\n",
       "      <th>1</th>\n",
       "      <td>400</td>\n",
       "      <td>5.00</td>\n",
       "    </tr>\n",
       "    <tr>\n",
       "      <th>2</th>\n",
       "      <td>420</td>\n",
       "      <td>5.50</td>\n",
       "    </tr>\n",
       "  </tbody>\n",
       "</table>\n",
       "</div>"
      ],
      "text/plain": [
       "   python_times  numpy_times\n",
       "0           376         4.54\n",
       "1           400         5.00\n",
       "2           420         5.50"
      ]
     },
     "execution_count": 41,
     "metadata": {},
     "output_type": "execute_result"
    }
   ],
   "source": [
    "charts_data"
   ]
  },
  {
   "cell_type": "code",
   "execution_count": 44,
   "id": "ff1184e6",
   "metadata": {},
   "outputs": [
    {
     "data": {
      "text/plain": [
       "<Axes: >"
      ]
     },
     "execution_count": 44,
     "metadata": {},
     "output_type": "execute_result"
    },
    {
     "data": {
      "image/png": "[encoded data removed]",
      "text/plain": [
       "<Figure size 640x480 with 1 Axes>"
      ]
     },
     "metadata": {},
     "output_type": "display_data"
    },
    {
     "data": {
      "image/png": "[encoded data removed]",
      "text/plain": [
       "<Figure size 640x480 with 1 Axes>"
      ]
     },
     "metadata": {},
     "output_type": "display_data"
    }
   ],
   "source": [
    "# 线性图\n",
    "charts_data.plot()\n",
    "# 柱状图\n",
    "charts_data.plot(kind='bar')\n",
    "# charts_data.plot().bar()"
   ]
  }
 ],
 "metadata": {
  "kernelspec": {
   "display_name": "my_ai_env",
   "language": "python",
   "name": "python3"
  },
  "language_info": {
   "codemirror_mode": {
    "name": "ipython",
    "version": 3
   },
   "file_extension": ".py",
   "mimetype": "text/x-python",
   "name": "python",
   "nbconvert_exporter": "python",
   "pygments_lexer": "ipython3",
   "version": "3.10.18"
  }
 },
 "nbformat": 4,
 "nbformat_minor": 5
}
