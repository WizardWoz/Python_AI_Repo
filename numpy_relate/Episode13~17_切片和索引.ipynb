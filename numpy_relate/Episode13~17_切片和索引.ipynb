{
 "cells": [
  {
   "cell_type": "code",
   "execution_count": 2,
   "id": "5ec60e27",
   "metadata": {},
   "outputs": [
    {
     "name": "stdout",
     "output_type": "stream",
     "text": [
      "[0 1 2 3 4 5 6 7 8 9]\n",
      "4\n",
      "9\n"
     ]
    }
   ],
   "source": [
    "# ndarray对象内容可通过索引或切片访问/修改，与Python中list的切片操作一样；基于0~n的下标进行索引\n",
    "# 区别在于ndarray数组切片是原始数组视图（切片执行的任何修改，原始数组也会跟着进行修改）；如果不想更改原始数组则需要进行显式复制.copy()\n",
    "# 而Python的list切片是新数组试图（切片执行的任何修改，原始数组也会跟着进行修改）\n",
    "import numpy as np\n",
    "\n",
    "ar1=np.arange(10)\n",
    "print(ar1)      # 从0开始\n",
    "print(ar1[4])\n",
    "print(ar1[-1])"
   ]
  },
  {
   "cell_type": "code",
   "execution_count": 3,
   "id": "049eb19d",
   "metadata": {},
   "outputs": [
    {
     "name": "stdout",
     "output_type": "stream",
     "text": [
      "[2 4 6]\n"
     ]
    }
   ],
   "source": [
    "# 对ar1切片，从索引2开始到索引8-1=7停止，间隔为2\n",
    "ar2=ar1[2:8:2]\n",
    "print(ar2)"
   ]
  },
  {
   "cell_type": "code",
   "execution_count": 4,
   "id": "1f625de3",
   "metadata": {},
   "outputs": [
    {
     "name": "stdout",
     "output_type": "stream",
     "text": [
      "[2 3 4 5 6 7 8 9]\n",
      "[0 1 2 3 4 5 6]\n"
     ]
    }
   ],
   "source": [
    "# 对ar1切片，从索引2开始直到最后\n",
    "ar3=ar1[2:]\n",
    "print(ar3)\n",
    "\n",
    "# 对ar1切片，从索引0开始直到索引7-1=6\n",
    "ar4=ar1[:7]\n",
    "print(ar4)"
   ]
  },
  {
   "cell_type": "code",
   "execution_count": 7,
   "id": "efc3c939",
   "metadata": {},
   "outputs": [
    {
     "name": "stdout",
     "output_type": "stream",
     "text": [
      "[[ 0  1  2  3  4]\n",
      " [ 5  6  7  8  9]\n",
      " [10 11 12 13 14]\n",
      " [15 16 17 18 19]]\n",
      "2\n",
      "[10 11 12 13 14]\n",
      "12\n",
      "12\n",
      "[[ 5  6  7  8  9]\n",
      " [10 11 12 13 14]\n",
      " [15 16 17 18 19]]\n",
      "[[ 0  1  2  3  4]\n",
      " [ 5  6  7  8  9]\n",
      " [10 11 12 13 14]]\n",
      "[[ 0  1  2  3  4]\n",
      " [10 11 12 13 14]]\n",
      "[ 1  6 11 16]\n",
      "[5 6 7 8 9]\n",
      "[[ 1  2  3  4]\n",
      " [ 6  7  8  9]\n",
      " [11 12 13 14]\n",
      " [16 17 18 19]]\n"
     ]
    }
   ],
   "source": [
    "# 定义4行5列的数组\n",
    "ar4_5=np.arange(20).reshape(4,5)\n",
    "print(ar4_5)\n",
    "\n",
    "# 返回ar4_5的秩（维数）\n",
    "print(ar4_5.ndim)\n",
    "\n",
    "# 切片为下一维度的一个元素，所以是一维数组\n",
    "print(ar4_5[2])\n",
    "\n",
    "# 二次索引取得一维数组的元素\n",
    "print(ar4_5[2][2])\n",
    "print(ar4_5[2,2])   # 等同于print(ar4_5[2][2])\n",
    "\n",
    "print(ar4_5[1:])\n",
    "\n",
    "print(ar4_5[:3])\n",
    "\n",
    "print(ar4_5[:3:2])\n",
    "\n",
    "# 在行位置使用省略号，返回值将包含所有行；在列位置使用省略号，返回值将包含所有列\n",
    "print(ar4_5[...,1])     # [ 1  6 11 16]\n",
    "# 相当于s=ar4_5[...]  s[1]\n",
    "print(ar4_5[...][1])    # [5 6 7 8 9]\n",
    "\n",
    "print(ar4_5[...,1:])"
   ]
  },
  {
   "cell_type": "code",
   "execution_count": 12,
   "id": "ffb68595",
   "metadata": {},
   "outputs": [
    {
     "name": "stdout",
     "output_type": "stream",
     "text": [
      "[1 4 5]\n",
      "[[ 0  2]\n",
      " [ 9 11]]\n",
      "[[5 6]\n",
      " [8 9]]\n",
      "[[5 6]\n",
      " [8 9]]\n",
      "[[2 3]\n",
      " [5 6]\n",
      " [8 9]]\n"
     ]
    }
   ],
   "source": [
    "# 整数数组索引\n",
    "x=np.array([\n",
    "    [1,2],\n",
    "    [3,4],\n",
    "    [5,6]\n",
    "])\n",
    "\n",
    "# [0,1,2]代表行索引，[0,1,0]代表列索引；分别获取x[0][0]；x[1,1]；x[2][0]\n",
    "y=x[[0,1,2],[0,1,0]]\n",
    "print(y)\n",
    "\n",
    "# 获取4*3数组的四个角上元素，对应的行索引是[0,0],[3,3]，对应的列索引是[0,2],[0,2]\n",
    "x=np.array([\n",
    "    [0,1,2],\n",
    "    [3,4,5],\n",
    "    [6,7,8],\n",
    "    [9,10,11]\n",
    "])\n",
    "r=np.array([[0,0],[3,3]]).reshape(4)\n",
    "l=np.array([[0,2],[0,2]]).reshape(4)\n",
    "y=x[r,l].reshape((2,2))\n",
    "print(y)\n",
    "\n",
    "x=np.array([\n",
    "    [1,2,3],\n",
    "    [4,5,6],\n",
    "    [7,8,9]\n",
    "])\n",
    "b=x[1:3,1:3]\n",
    "c=x[1:3,[1,2]]\n",
    "d=x[...,1:]\n",
    "print(b)\n",
    "print(c)\n",
    "print(d)"
   ]
  },
  {
   "cell_type": "code",
   "execution_count": 17,
   "id": "34f54fdb",
   "metadata": {},
   "outputs": [
    {
     "name": "stdout",
     "output_type": "stream",
     "text": [
      "[[0 0 0 0 0 0 0 0]\n",
      " [0 0 0 0 0 0 0 0]\n",
      " [0 0 0 0 0 0 0 0]\n",
      " [0 0 0 0 0 0 0 0]\n",
      " [0 0 0 0 0 0 0 0]\n",
      " [0 0 0 0 0 0 0 0]\n",
      " [0 0 0 0 0 0 0 0]\n",
      " [0 0 0 0 0 0 0 0]]\n",
      "[[0 0 0 0 0 0 0 0]\n",
      " [1 0 1 0 1 0 1 0]\n",
      " [0 0 0 0 0 0 0 0]\n",
      " [1 0 1 0 1 0 1 0]\n",
      " [0 0 0 0 0 0 0 0]\n",
      " [1 0 1 0 1 0 1 0]\n",
      " [0 0 0 0 0 0 0 0]\n",
      " [1 0 1 0 1 0 1 0]]\n",
      "[[0 1 0 1 0 1 0 1]\n",
      " [1 0 1 0 1 0 1 0]\n",
      " [0 1 0 1 0 1 0 1]\n",
      " [1 0 1 0 1 0 1 0]\n",
      " [0 1 0 1 0 1 0 1]\n",
      " [1 0 1 0 1 0 1 0]\n",
      " [0 1 0 1 0 1 0 1]\n",
      " [1 0 1 0 1 0 1 0]]\n"
     ]
    }
   ],
   "source": [
    "# 创建一个8*8的国际象棋棋盘矩阵，黑块为0白块为1\n",
    "Z=np.zeros((8,8),dtype=int)\n",
    "print(Z)\n",
    "Z[1::2,::2]=1\n",
    "print(Z)\n",
    "Z[::2,1::2]=1\n",
    "print(Z)"
   ]
  },
  {
   "cell_type": "code",
   "execution_count": 24,
   "id": "306320d1",
   "metadata": {},
   "outputs": [
    {
     "name": "stdout",
     "output_type": "stream",
     "text": [
      "[ 7  8  9 10 11]\n",
      "[ 1  3  5  7  9 11]\n",
      "[[ 0 -1  2]\n",
      " [-1  4 -1]\n",
      " [ 6 -1  8]\n",
      " [-1 10 -1]]\n",
      "[6 8]\n",
      "[ 0 -1  2 -1  4 -1  6 -1  8 -1 10 -1]\n"
     ]
    }
   ],
   "source": [
    "# 布尔数组索引：输出结果需经过布尔运算，使用的高级索引方式\n",
    "x=np.array([\n",
    "    [0,1,2],\n",
    "    [3,4,5],\n",
    "    [6,7,8],\n",
    "    [9,10,11]\n",
    "])\n",
    "\n",
    "# 输出值>6的元素\n",
    "print(x[x>6])\n",
    "\n",
    "# 输出数组中的所有奇数\n",
    "print(x[x%2==1])\n",
    "\n",
    "# 将数组中的所有奇数值修改为-1\n",
    "x[x%2==1]=-1\n",
    "print(x)\n",
    "\n",
    "# 筛选出指定区间内数据\n",
    "print(x[(x>4)&(x<9)])\n",
    "print(x[(x>4)|(x<9)])"
   ]
  },
  {
   "cell_type": "code",
   "execution_count": null,
   "id": "9ab2a079",
   "metadata": {},
   "outputs": [
    {
     "name": "stdout",
     "output_type": "stream",
     "text": [
      "[[ 0  1  2  3]\n",
      " [ 4  5  6  7]\n",
      " [ 8  9 10 11]]\n",
      "[[ 4  5  6  7]\n",
      " [ 8  9 10 11]]\n",
      "[[ 0  2]\n",
      " [ 4  6]\n",
      " [ 8 10]]\n",
      "[ 4 10]\n"
     ]
    }
   ],
   "source": [
    "# 布尔数组作切片\n",
    "a3_4=np.arange(12).reshape(3,4)\n",
    "print(a3_4)\n",
    "\n",
    "# 行变量存在3个元素\n",
    "row1=np.array([False,True,True])\n",
    "# 列变量存在3个元素\n",
    "column1=np.array([True,False,True,False])\n",
    "\n",
    "# a3_4是3行，作切片时也提供三个元素的数组，轴的长度一致\n",
    "print(a3_4[row1])\n",
    "print(a3_4[:,column1])\n",
    "\n",
    "# 使用两个布尔数组作切片（两个一维布尔数组内的True个数相等）\n",
    "print(a3_4[row1,column1])"
   ]
  }
 ],
 "metadata": {
  "kernelspec": {
   "display_name": "my_ai_env",
   "language": "python",
   "name": "python3"
  },
  "language_info": {
   "codemirror_mode": {
    "name": "ipython",
    "version": 3
   },
   "file_extension": ".py",
   "mimetype": "text/x-python",
   "name": "python",
   "nbconvert_exporter": "python",
   "pygments_lexer": "ipython3",
   "version": "3.10.18"
  }
 },
 "nbformat": 4,
 "nbformat_minor": 5
}
