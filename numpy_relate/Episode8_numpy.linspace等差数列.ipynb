{
 "cells": [
  {
   "cell_type": "code",
   "execution_count": null,
   "id": "ea24cc86",
   "metadata": {},
   "outputs": [
    {
     "name": "stdout",
     "output_type": "stream",
     "text": [
      "[ 1.  2.  3.  4.  5.  6.  7.  8.  9. 10.]\n"
     ]
    }
   ],
   "source": [
    "import numpy as np\n",
    "\n",
    "# 设置起始值=1，终止值=10，元素个数为10\n",
    "ar1=np.linspace(1,10,10)\n",
    "print(ar1)"
   ]
  },
  {
   "cell_type": "code",
   "execution_count": null,
   "id": "39ff4431",
   "metadata": {},
   "outputs": [
    {
     "name": "stdout",
     "output_type": "stream",
     "text": [
      "[0.  0.5 1.  1.5 2.  2.5 3.  3.5 4. ]\n",
      "[ 1.  2.  3.  4.  5.  6.  7.  8.  9. 10.]\n"
     ]
    }
   ],
   "source": [
    "# 实现输出0 0.5 1 1.5 2 2.5 3 3.5 4\n",
    "ar2=np.linspace(0,4,9)\n",
    "print(ar2)"
   ]
  },
  {
   "cell_type": "code",
   "execution_count": null,
   "id": "990b27ed",
   "metadata": {},
   "outputs": [
    {
     "name": "stdout",
     "output_type": "stream",
     "text": [
      "[2.   2.25 2.5  2.75 3.  ]\n"
     ]
    }
   ],
   "source": [
    "# 设置起始值=2.0，终止值=3.0，元素个数为5\n",
    "ar3=np.linspace(2.0,3.0,num=5)\n",
    "print(ar3)"
   ]
  },
  {
   "cell_type": "code",
   "execution_count": 16,
   "id": "aab45aa1",
   "metadata": {},
   "outputs": [
    {
     "name": "stdout",
     "output_type": "stream",
     "text": [
      "[2.  2.2 2.4 2.6 2.8]\n"
     ]
    }
   ],
   "source": [
    "# 设置起始值=2.0，元素个数为5，无终止值\n",
    "ar4=np.linspace(2.0,3.0,num=5,endpoint=False)\n",
    "print(ar4)"
   ]
  },
  {
   "cell_type": "code",
   "execution_count": 19,
   "id": "8459fb02",
   "metadata": {},
   "outputs": [
    {
     "name": "stdout",
     "output_type": "stream",
     "text": [
      "(array([2.  , 2.25, 2.5 , 2.75, 3.  ]), 0.25) <class 'tuple'>\n"
     ]
    }
   ],
   "source": [
    "# 设置retstep显示计算后的步长\n",
    "ar5=np.linspace(2.0,3.0,num=5,retstep=True)\n",
    "print(ar5,type(ar5))"
   ]
  },
  {
   "cell_type": "code",
   "execution_count": 21,
   "id": "7e0f95ae",
   "metadata": {},
   "outputs": [
    {
     "name": "stdout",
     "output_type": "stream",
     "text": [
      "(array([2. , 2.2, 2.4, 2.6, 2.8]), 0.2)\n"
     ]
    }
   ],
   "source": [
    "# 设置起始值=2.0，元素个数为5，无终止值，retstep显示计算后的步长\n",
    "ar6=np.linspace(2.0,3.0,num=5,endpoint=False,retstep=True)\n",
    "print(ar6)"
   ]
  },
  {
   "cell_type": "code",
   "execution_count": null,
   "id": "b4339d4e",
   "metadata": {},
   "outputs": [],
   "source": []
  }
 ],
 "metadata": {
  "kernelspec": {
   "display_name": "my_ai_env",
   "language": "python",
   "name": "python3"
  },
  "language_info": {
   "codemirror_mode": {
    "name": "ipython",
    "version": 3
   },
   "file_extension": ".py",
   "mimetype": "text/x-python",
   "name": "python",
   "nbconvert_exporter": "python",
   "pygments_lexer": "ipython3",
   "version": "3.10.18"
  }
 },
 "nbformat": 4,
 "nbformat_minor": 5
}
