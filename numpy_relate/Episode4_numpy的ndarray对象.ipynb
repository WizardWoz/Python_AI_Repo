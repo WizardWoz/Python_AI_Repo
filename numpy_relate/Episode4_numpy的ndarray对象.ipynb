{
 "cells": [
  {
   "cell_type": "code",
   "execution_count": null,
   "id": "cd736ef8",
   "metadata": {},
   "outputs": [
    {
     "name": "stdout",
     "output_type": "stream",
     "text": [
      "[1 2 3 4 5]\n",
      "[1 2 3 4 5]\n",
      "[1 2 3 4 5]\n",
      "[0 1 2 3 4]\n",
      "[ 0  1  4  9 16]\n"
     ]
    }
   ],
   "source": [
    "# 引入numpy\n",
    "import numpy as np\n",
    "# array()创建数组，括号内可以是列表、元组或其他数组（迭代对象），\n",
    "print(np.array([1, 2, 3, 4, 5]))  # 列表\n",
    "print(np.array((1, 2, 3, 4, 5)))  # 元组\n",
    "a=np.array([1, 2, 3, 4, 5])  # 数组\n",
    "print(np.array(a))  # 数组\n",
    "print(np.array(range(5)))  # range对象\n",
    "print(np.array([i**2 for i in range(5)]))  # 列表推导式（生成器）"
   ]
  },
  {
   "cell_type": "code",
   "execution_count": null,
   "id": "a3966123",
   "metadata": {},
   "outputs": [],
   "source": []
  }
 ],
 "metadata": {
  "kernelspec": {
   "display_name": "my_ai_env",
   "language": "python",
   "name": "python3"
  },
  "language_info": {
   "codemirror_mode": {
    "name": "ipython",
    "version": 3
   },
   "file_extension": ".py",
   "mimetype": "text/x-python",
   "name": "python",
   "nbconvert_exporter": "python",
   "pygments_lexer": "ipython3",
   "version": "3.10.18"
  }
 },
 "nbformat": 4,
 "nbformat_minor": 5
}
