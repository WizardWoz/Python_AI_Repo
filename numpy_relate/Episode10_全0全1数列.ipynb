{
 "cells": [
  {
   "cell_type": "code",
   "execution_count": 7,
   "id": "e6a79f83",
   "metadata": {},
   "outputs": [
    {
     "name": "stdout",
     "output_type": "stream",
     "text": [
      "[0. 0. 0. 0. 0.]\n",
      "[0 0 0 0 0]\n",
      "[[0. 0.]\n",
      " [0. 0.]]\n",
      "[[0 0 0]\n",
      " [0 0 0]]\n"
     ]
    }
   ],
   "source": [
    "import numpy as np\n",
    "\n",
    "# 默认数据类型为浮点数\n",
    "ar1=np.zeros(5)\n",
    "print(ar1)\n",
    "\n",
    "# 设置为整形\n",
    "ar2=np.zeros(5,dtype='int')\n",
    "print(ar2)\n",
    "\n",
    "# 2行2列的全0数组\n",
    "ar3=np.zeros((2,2))\n",
    "print(ar3)\n",
    "\n",
    "# zero_like返回具有与给定数组相同形状、类型的全0数组\n",
    "ar=np.array([[1,2,3],[4,5,6]])\n",
    "ar4=np.zeros_like(ar)\n",
    "print(ar4)"
   ]
  },
  {
   "cell_type": "code",
   "execution_count": 8,
   "id": "5582b6b9",
   "metadata": {},
   "outputs": [
    {
     "name": "stdout",
     "output_type": "stream",
     "text": [
      "[1. 1. 1. 1. 1. 1. 1. 1. 1.]\n",
      "[[[1. 1. 1. 1.]\n",
      "  [1. 1. 1. 1.]\n",
      "  [1. 1. 1. 1.]]\n",
      "\n",
      " [[1. 1. 1. 1.]\n",
      "  [1. 1. 1. 1.]\n",
      "  [1. 1. 1. 1.]]]\n",
      "[[1 1 1]\n",
      " [1 1 1]]\n"
     ]
    }
   ],
   "source": [
    "# 全1数列\n",
    "ar5=np.ones(9)\n",
    "print(ar5)\n",
    "\n",
    "ar6=np.ones((2,3,4))\n",
    "print(ar6)\n",
    "\n",
    "ar7=np.ones_like(ar)\n",
    "print(ar7)"
   ]
  }
 ],
 "metadata": {
  "kernelspec": {
   "display_name": "my_ai_env",
   "language": "python",
   "name": "python3"
  },
  "language_info": {
   "codemirror_mode": {
    "name": "ipython",
    "version": 3
   },
   "file_extension": ".py",
   "mimetype": "text/x-python",
   "name": "python",
   "nbconvert_exporter": "python",
   "pygments_lexer": "ipython3",
   "version": "3.10.12"
  }
 },
 "nbformat": 4,
 "nbformat_minor": 5
}
