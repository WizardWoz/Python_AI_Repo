{
 "cells": [
  {
   "cell_type": "code",
   "execution_count": 3,
   "id": "39bf502e",
   "metadata": {},
   "outputs": [
    {
     "name": "stdout",
     "output_type": "stream",
     "text": [
      "一维数组： (6,)\n",
      "二维数组： (2, 3)\n",
      "三维数组： (2, 2, 3)\n"
     ]
    }
   ],
   "source": [
    "import numpy as np\n",
    "\n",
    "# shape属性：包含数组维度的元组\n",
    "ar1=np.array([1,2,3,4,5,6])\n",
    "print(\"一维数组：\",ar1.shape)\n",
    "\n",
    "ar2=np.array([[1,2,3],[4,5,6]])\n",
    "print(\"二维数组：\",ar2.shape)\n",
    "\n",
    "ar3=np.array([\n",
    "    [\n",
    "        [1,2,3],\n",
    "        [4,5,6]\n",
    "    ],\n",
    "    [\n",
    "        [11,22,33],\n",
    "        [44,55,66]\n",
    "    ]\n",
    "]\n",
    ")\n",
    "print(\"三维数组：\",ar3.shape)"
   ]
  },
  {
   "cell_type": "code",
   "execution_count": null,
   "id": "031a1101",
   "metadata": {},
   "outputs": [
    {
     "name": "stdout",
     "output_type": "stream",
     "text": [
      "一维数组： (6,)\n",
      "ar4的形状: (2, 3)\n"
     ]
    }
   ],
   "source": [
    "# ndarray.reshape()：调整数组维度,参数是包含新数组各个维度长度的元组/列表，返回调整后的副本，不改变原ndarray\n",
    "ar=np.array([1,2,3,4,5,6])\n",
    "print(\"一维数组：\",ar.shape)\n",
    "\n",
    "# ar4=ar.reshape([2,3])\n",
    "ar4=np.reshape(ar,(2,3))\n",
    "print(\"ar4的形状:\",ar4.shape)"
   ]
  },
  {
   "cell_type": "code",
   "execution_count": null,
   "id": "437718a6",
   "metadata": {},
   "outputs": [
    {
     "name": "stdout",
     "output_type": "stream",
     "text": [
      "[[0 1 2]\n",
      " [3 0 1]]\n",
      "[[0]\n",
      " [1]]\n"
     ]
    }
   ],
   "source": [
    "# numpy.resize(a,new_shape):调整数组维度,参数是包含新数组各个维度长度的元组/列表，如果新数组大于原数组,则用原数组重复填充\n",
    "ar=np.array([[0,1],[2,3]])\n",
    "ar5=np.resize(ar,(2,3))\n",
    "print(ar5)\n",
    "\n",
    "# resize(new_shape):调整数组维度,参数是包含新数组各个维度长度的元组/列表\n",
    "ar6=np.resize(ar,(2,1))\n",
    "print(ar6)"
   ]
  },
  {
   "cell_type": "code",
   "execution_count": null,
   "id": "c1cb9413",
   "metadata": {},
   "outputs": [
    {
     "name": "stdout",
     "output_type": "stream",
     "text": [
      "ar1的维度: 1\n",
      "ar2的维度: 2\n",
      "ar3的维度: 3\n",
      "ar1的元素个数: 6\n",
      "ar2的元素个数: 6\n",
      "ar3的元素个数: 12\n",
      "ar1的元素类型: int64\n",
      "ar2的元素类型: float64\n"
     ]
    }
   ],
   "source": [
    "# ndarray.ndim：数组的维度（轴的数量），是一个标量\n",
    "print(\"ar1的维度:\",ar1.ndim)\n",
    "print(\"ar2的维度:\",ar2.ndim)\n",
    "print(\"ar3的维度:\",ar3.ndim)\n",
    "\n",
    "# ndarray.size：数组元素的总个数\n",
    "print(\"ar1的元素个数:\",ar1.size)\n",
    "print(\"ar2的元素个数:\",ar2.size)\n",
    "print(\"ar3的元素个数:\",ar3.size)\n",
    "\n",
    "# ndarray.dtype：数组元素的数据类型\n",
    "print(\"ar1的元素类型:\",ar1.dtype)\n",
    "ar2=np.array([[1.0,2,3],[4,5,6]])   # 以最大的数据类型生成array\n",
    "print(\"ar2的元素类型:\",ar2.dtype)"
   ]
  },
  {
   "cell_type": "code",
   "execution_count": 22,
   "id": "5fc171c6",
   "metadata": {},
   "outputs": [
    {
     "name": "stdout",
     "output_type": "stream",
     "text": [
      "ar的元素类型: float64\n",
      "astype()修改ar的数据类型： float32\n",
      "原ar的元素类型: float64\n",
      "再次赋值后ar的元素类型: float32\n"
     ]
    }
   ],
   "source": [
    "# astype()：数据类型转换，返回数据类型修改后的数组，但原数组的类型不改变\n",
    "ar=np.array([1.1,2.2])\n",
    "print(\"ar的元素类型:\",ar.dtype)\n",
    "print(\"astype()修改ar的数据类型：\",ar.astype('float32').dtype)\n",
    "print(\"原ar的元素类型:\",ar.dtype)\n",
    "\n",
    "# 正确操作，修改类型后应再次赋值\n",
    "ar=ar.astype('float32')\n",
    "print(\"再次赋值后ar的元素类型:\",ar.dtype)"
   ]
  },
  {
   "cell_type": "code",
   "execution_count": null,
   "id": "28982217",
   "metadata": {},
   "outputs": [
    {
     "name": "stdout",
     "output_type": "stream",
     "text": [
      "dtype： float64 itemsize： 8\n",
      "dtype： int64 itemsize： 8\n"
     ]
    }
   ],
   "source": [
    "# ndarray.itemsize：以占用字节数形式返回数组中每个元素的大小\n",
    "ar=np.array([1.1,2.2,3.3])\n",
    "print('dtype：',ar.dtype,'itemsize：',ar.itemsize)\n",
    "\n",
    "ar=np.array([1,2,3,4,5])\n",
    "print('dtype：',ar.dtype,'itemsize：',ar.itemsize)"
   ]
  }
 ],
 "metadata": {
  "kernelspec": {
   "display_name": "my_ai_env",
   "language": "python",
   "name": "python3"
  },
  "language_info": {
   "codemirror_mode": {
    "name": "ipython",
    "version": 3
   },
   "file_extension": ".py",
   "mimetype": "text/x-python",
   "name": "python",
   "nbconvert_exporter": "python",
   "pygments_lexer": "ipython3",
   "version": "3.10.12"
  }
 },
 "nbformat": 4,
 "nbformat_minor": 5
}
