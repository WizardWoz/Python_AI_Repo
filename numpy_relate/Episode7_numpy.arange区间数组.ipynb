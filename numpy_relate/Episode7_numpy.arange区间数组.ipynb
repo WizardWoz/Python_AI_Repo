{
 "cells": [
  {
   "cell_type": "code",
   "execution_count": 6,
   "id": "6c3358ca",
   "metadata": {},
   "outputs": [
    {
     "name": "stdout",
     "output_type": "stream",
     "text": [
      "[0 1 2 3 4 5 6 7 8 9]\n",
      "[0. 1. 2. 3.]\n",
      "[0. 1. 2. 3. 4.]\n",
      "range(0, 5)\n"
     ]
    }
   ],
   "source": [
    "import numpy as np\n",
    "\n",
    "# 元素为整数\n",
    "ar1=np.arange(10)\n",
    "print(ar1)\n",
    "\n",
    "# 元素为浮点数\n",
    "ar2=np.arange(3.1)\n",
    "print(ar2)\n",
    "\n",
    "# 可通过dtype指定类型\n",
    "ar3=np.arange(5,dtype=float)\n",
    "print(ar3)\n",
    "\n",
    "# 会报错，range参数必须是int类型\n",
    "# range(3.1)\n",
    "ar4=range(5)\n",
    "print(ar4)"
   ]
  },
  {
   "cell_type": "code",
   "execution_count": 14,
   "id": "abfea21c",
   "metadata": {},
   "outputs": [
    {
     "name": "stdout",
     "output_type": "stream",
     "text": [
      "[10 12 14 16 18]\n",
      "[]\n",
      "[ 0  2  4  6  8 10 12 14 16 18]\n",
      "[   0    1    2 ... 9997 9998 9999]\n"
     ]
    }
   ],
   "source": [
    "# 设置起始值、终止值、步长\n",
    "ar1=np.arange(10,20,2)\n",
    "print(ar1)\n",
    "\n",
    "# 此时起始值=20,终止值=2,无步长\n",
    "ar2=np.arange(20,2)\n",
    "print(ar2)\n",
    "\n",
    "# 指定参数赋值\n",
    "ar2=np.arange(20,step=2)\n",
    "print(ar2)\n",
    "\n",
    "# 如果数组太大而无法打印，numpy会自动跳过数组中心部分，只打印边角\n",
    "ar3=np.arange(10000)\n",
    "print(ar3)"
   ]
  },
  {
   "cell_type": "code",
   "execution_count": 19,
   "id": "f34deb2c",
   "metadata": {},
   "outputs": [
    {
     "data": {
      "text/plain": [
       "array([0.1, 0.2, 0.3, 0.4])"
      ]
     },
     "execution_count": 19,
     "metadata": {},
     "output_type": "execute_result"
    }
   ],
   "source": [
    "# 想得到一个长度为3,从0.1开始的间隔为0.1的数组\n",
    "np.arange(0.1,0.4,0.1)"
   ]
  }
 ],
 "metadata": {
  "kernelspec": {
   "display_name": "my_ai_env",
   "language": "python",
   "name": "python3"
  },
  "language_info": {
   "codemirror_mode": {
    "name": "ipython",
    "version": 3
   },
   "file_extension": ".py",
   "mimetype": "text/x-python",
   "name": "python",
   "nbconvert_exporter": "python",
   "pygments_lexer": "ipython3",
   "version": "3.10.12"
  }
 },
 "nbformat": 4,
 "nbformat_minor": 5
}
