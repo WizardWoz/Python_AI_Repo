{
 "cells": [
  {
   "cell_type": "code",
   "execution_count": 34,
   "id": "f8f7cd81",
   "metadata": {},
   "outputs": [],
   "source": [
    "# 1.numpy自带的各种数据类型：\n",
    "# bool_/bool8：布尔型数据类型（True/False）\n",
    "# int：默认整数类型，类似C语言中的long、int32、int64\n",
    "# intc：和C语言的int类型一样，一般是int32或int64\n",
    "# intp：用于索引的整数类型，类似C语言的ssize_t，通常是int32或int64\n",
    "# int8/16/32/64：代表与1B/2B/4B/8B相同的8位/16位/32位/64位整数\n",
    "# uint8/16/32/64：代表与1B/2B/4B/8B相同的8位/16位/32位/64位无符号整数\n",
    "# float_：浮点数类型，等同于float64\n",
    "# float16/32/64：半精度浮点数（1个符号位，5个指数位，10个尾数位）；单精度浮点数（1个符号位，8个指数位，23个尾数位）；双精度浮点数（1个符号位，11个指数位，52个尾数位）\n",
    "# complex：复数类型，complex128复数类型的简写\n",
    "# complex64/128：双32位浮点数（实数部分、虚数部分）；双64位浮点数（实数部分、虚数部分）\n",
    "# str：表示字符串类型\n",
    "# string：表示字节串类型，也就是bytes类型\n",
    "\n",
    "import numpy as np"
   ]
  },
  {
   "cell_type": "code",
   "execution_count": 35,
   "id": "e2d2f4fe",
   "metadata": {},
   "outputs": [
    {
     "name": "stdout",
     "output_type": "stream",
     "text": [
      "[1 2 3 4] int64\n",
      "[1 2 3 4] int8\n"
     ]
    }
   ],
   "source": [
    "# numpy的默认整数类型是int64\n",
    "a=np.array([1,2,3,4])\n",
    "print(a,a.dtype)\n",
    "\n",
    "# 将数组中的数据存储为整数类型int8\n",
    "a=np.array([1,2,3,4],dtype=np.int8)\n",
    "print(a,a.dtype)"
   ]
  },
  {
   "cell_type": "code",
   "execution_count": 36,
   "id": "dc8d7698",
   "metadata": {},
   "outputs": [
    {
     "name": "stdout",
     "output_type": "stream",
     "text": [
      "[1. 2. 3. 4.] float64\n",
      "[1. 2. 3. 4.] float64\n"
     ]
    }
   ],
   "source": [
    "# 将数组中的数据存储为双精度浮点类型float64\n",
    "a=np.array([1,2,3,4],dtype=np.float64)\n",
    "print(a,a.dtype)\n",
    "\n",
    "# 将数组中的数据存储为自适应精度浮点类型float_\n",
    "a=np.array([1,2,3,4],dtype=np.float_)\n",
    "print(a,a.dtype)"
   ]
  },
  {
   "cell_type": "code",
   "execution_count": 37,
   "id": "c13492df",
   "metadata": {},
   "outputs": [
    {
     "name": "stdout",
     "output_type": "stream",
     "text": [
      "[False  True  True  True  True]\n"
     ]
    }
   ],
   "source": [
    "# 将数组中的数据存储为布尔类型\n",
    "a=np.array([0,1,2,3,4],dtype=np.bool_)\n",
    "print(a)"
   ]
  },
  {
   "cell_type": "code",
   "execution_count": 38,
   "id": "e8df0239",
   "metadata": {},
   "outputs": [
    {
     "name": "stdout",
     "output_type": "stream",
     "text": [
      "['1' '2' '3' '4' '5' '6'] <U1\n",
      "[b'1' b'2' b'3' b'4' b'5' b'6'] |S1\n",
      "['我们' '2' '3' '4' '5' '6'] <U2\n"
     ]
    }
   ],
   "source": [
    "# str_与string_区别\n",
    "# Python3内存中统一使用Unicode，记录到硬盘或者编辑文本的时候均转换成UTF-8\n",
    "str1=np.array([1,2,3,4,5,6],dtype=np.str_)\n",
    "string1=np.array([1,2,3,4,5,6],dtype=np.string_)\n",
    "str2=np.array(['我们',2,3,4,5,6],dtype=np.str_)\n",
    "print(str1,str1.dtype)\n",
    "print(string1,string1.dtype)\n",
    "print(str2,str2.dtype)"
   ]
  },
  {
   "cell_type": "code",
   "execution_count": 39,
   "id": "8f9dbd3a",
   "metadata": {},
   "outputs": [
    {
     "name": "stdout",
     "output_type": "stream",
     "text": [
      "[('age', 'i1')]\n",
      "[(18,) (19,)] [('age', 'i1')] 1\n",
      "[18 19] int8\n"
     ]
    }
   ],
   "source": [
    "# 2.定义结构化数据，数据类型标识码如下：\n",
    "# b：布尔型；i：带符号整形；u：无符号整形；f：浮点型；c：复数浮点型；m：时间间隔；M：日期时间；\n",
    "# O：Python对象；S：字节串；a：字符串；U：Unicode；V：原始数据\n",
    "\n",
    "# 首先创建结构化数据类型\n",
    "dt=np.dtype([('age','i1')])     # i1即int8\n",
    "print(dt)\n",
    "# 将数据类型dt应用于ndarray对象\n",
    "students=np.array([(18),(19)],dtype=dt)     # dtype=自定义结构化数据类型dt\n",
    "print(students,students.dtype,students.ndim)\n",
    "print(students['age'],students['age'].dtype)"
   ]
  },
  {
   "cell_type": "code",
   "execution_count": 40,
   "id": "ce6b4af7",
   "metadata": {},
   "outputs": [
    {
     "name": "stdout",
     "output_type": "stream",
     "text": [
      "['a' 'ab' 'abc' '我们' '我们是谁' '12345'] <U5\n",
      "['a' '12345' 'abc' '我们' '我们是谁' '12345'] <U5\n",
      "['a' 'ab' 'abc' '我们' '我们是谁' '12345'] <U8\n",
      "['a' '123456' 'abc' '我们' '我们是谁' '12345'] <U8\n",
      "['a' '12345678' 'abc' '我们' '我们是谁' '12345'] <U8\n",
      "['a' 'ab' 'abc' '我们' '我们是谁' '12345'] object\n",
      "['a' '123456' 'abc' '我们' '我们是谁' '12345'] object\n",
      "['a' '123456789' 'abc' '我们' '我们是谁' '12345'] object\n"
     ]
    }
   ],
   "source": [
    "# 定长字符串：不灵活效率高；变长字符串：灵活但效率低\n",
    "# 创建字符串数组时，会取最大长度\n",
    "a=np.array(['a','ab','abc','我们','我们是谁','12345'],dtype=np.str_)\n",
    "print(a,a.dtype)\n",
    "\n",
    "# 当修改内部元素时，也只能保留长度为5的字符串\n",
    "a[1]='123456'\n",
    "print(a,a.dtype)\n",
    "\n",
    "# 显示设置每个字符串元素的最大长度\n",
    "a=np.array(['a','ab','abc','我们','我们是谁','12345'],dtype='U8')\n",
    "print(a,a.dtype)\n",
    "a[1]='123456'\n",
    "print(a,a.dtype)\n",
    "a[1]='123456789'\n",
    "print(a,a.dtype)\n",
    "\n",
    "# 还可接受可变长的字符串，修改数据类型dtype=object\n",
    "a=np.array(['a','ab','abc','我们','我们是谁','12345'],dtype=object)\n",
    "print(a,a.dtype)\n",
    "a[1]='123456'\n",
    "print(a,a.dtype)\n",
    "a[1]='123456789'\n",
    "print(a,a.dtype)\n"
   ]
  }
 ],
 "metadata": {
  "kernelspec": {
   "display_name": "my_ai_env",
   "language": "python",
   "name": "python3"
  },
  "language_info": {
   "codemirror_mode": {
    "name": "ipython",
    "version": 3
   },
   "file_extension": ".py",
   "mimetype": "text/x-python",
   "name": "python",
   "nbconvert_exporter": "python",
   "pygments_lexer": "ipython3",
   "version": "3.10.18"
  }
 },
 "nbformat": 4,
 "nbformat_minor": 5
}
