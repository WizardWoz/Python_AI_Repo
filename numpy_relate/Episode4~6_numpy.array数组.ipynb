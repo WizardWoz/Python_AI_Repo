{
 "cells": [
  {
   "cell_type": "code",
   "execution_count": 21,
   "id": "ca5bf0cb",
   "metadata": {},
   "outputs": [],
   "source": [
    "# 注意：默认为numpy包设置别名np\n",
    "import numpy as np"
   ]
  },
  {
   "cell_type": "code",
   "execution_count": 22,
   "id": "3156bb32",
   "metadata": {},
   "outputs": [
    {
     "data": {
      "text/plain": [
       "numpy.ndarray"
      ]
     },
     "execution_count": 22,
     "metadata": {},
     "output_type": "execute_result"
    }
   ],
   "source": [
    "# array()：括号内可以是元组、列表、数组、迭代对象、生成器\n",
    "np.array([1,2,3,4,5])\n",
    "type(np.array([1,2,3,4,5]))"
   ]
  },
  {
   "cell_type": "code",
   "execution_count": 23,
   "id": "cc152047",
   "metadata": {},
   "outputs": [
    {
     "data": {
      "text/plain": [
       "array([1, 2, 3, 4, 5])"
      ]
     },
     "execution_count": 23,
     "metadata": {},
     "output_type": "execute_result"
    }
   ],
   "source": [
    "# 元组\n",
    "np.array((1,2,3,4,5))"
   ]
  },
  {
   "cell_type": "code",
   "execution_count": 24,
   "id": "2f80d128",
   "metadata": {},
   "outputs": [
    {
     "data": {
      "text/plain": [
       "array([1, 2, 3, 4, 5])"
      ]
     },
     "execution_count": 24,
     "metadata": {},
     "output_type": "execute_result"
    }
   ],
   "source": [
    "# 数组\n",
    "a=np.array([1,2,3,4,5])\n",
    "np.array(a)"
   ]
  },
  {
   "cell_type": "code",
   "execution_count": null,
   "id": "b61acf8e",
   "metadata": {},
   "outputs": [
    {
     "data": {
      "text/plain": [
       "array([0, 1, 2, 3, 4, 5, 6, 7, 8, 9])"
      ]
     },
     "execution_count": 25,
     "metadata": {},
     "output_type": "execute_result"
    }
   ],
   "source": [
    "# 迭代对象\n",
    "np.array(range(10))"
   ]
  },
  {
   "cell_type": "code",
   "execution_count": 26,
   "id": "0e4eda0c",
   "metadata": {},
   "outputs": [
    {
     "data": {
      "text/plain": [
       "array([ 0,  1,  4,  9, 16, 25, 36, 49, 64, 81])"
      ]
     },
     "execution_count": 26,
     "metadata": {},
     "output_type": "execute_result"
    }
   ],
   "source": [
    "# 生成器\n",
    "np.array([i**2 for i in range(10)])"
   ]
  },
  {
   "cell_type": "code",
   "execution_count": 27,
   "id": "6da6ee66",
   "metadata": {},
   "outputs": [
    {
     "data": {
      "text/plain": [
       "array([0, 2, 4, 6, 8])"
      ]
     },
     "execution_count": 27,
     "metadata": {},
     "output_type": "execute_result"
    }
   ],
   "source": [
    "# 创建10以内偶数的数组，if条件语句放在生成器最后面（只能是一个if）\n",
    "np.array([i for i in range(10) if(i%2==0)])"
   ]
  },
  {
   "cell_type": "code",
   "execution_count": 28,
   "id": "43c515e4",
   "metadata": {},
   "outputs": [
    {
     "data": {
      "text/plain": [
       "array(['1', '1', '5', '3', '4', '5', '5'], dtype='<U21')"
      ]
     },
     "execution_count": 28,
     "metadata": {},
     "output_type": "execute_result"
    }
   ],
   "source": [
    "# 列表中元素类型不相同\n",
    "np.array([1,1,5,3,4,5,'5'])"
   ]
  },
  {
   "cell_type": "code",
   "execution_count": 29,
   "id": "07d92172",
   "metadata": {},
   "outputs": [
    {
     "data": {
      "text/plain": [
       "array([['1', '2', '3'],\n",
       "       ['a', 'b', 'c']], dtype='<U21')"
      ]
     },
     "execution_count": 29,
     "metadata": {},
     "output_type": "execute_result"
    }
   ],
   "source": [
    "# 二维数组：嵌套序列（列表、元组均可）\n",
    "np.array([[1,2,3],('a','b','c')])"
   ]
  },
  {
   "cell_type": "code",
   "execution_count": 30,
   "id": "4643f1c5",
   "metadata": {},
   "outputs": [
    {
     "name": "stdout",
     "output_type": "stream",
     "text": [
      "[list([1, 2, 3]) ('a', 'b', 'c', 'd')]\n",
      "1 (2,)\n"
     ]
    }
   ],
   "source": [
    "# 嵌套序列不同行元素数量不一样\n",
    "ar=np.array([[1,2,3],('a','b','c','d')],dtype=object)\n",
    "print(ar)\n",
    "print(ar.ndim,ar.shape)"
   ]
  },
  {
   "cell_type": "code",
   "execution_count": 31,
   "id": "e58d0e1c",
   "metadata": {},
   "outputs": [
    {
     "data": {
      "text/plain": [
       "array([list([1, 2, 3]), list([1, 2, 3, 4])], dtype=object)"
      ]
     },
     "execution_count": 31,
     "metadata": {},
     "output_type": "execute_result"
    }
   ],
   "source": [
    "# 嵌套序列不同行元素数量不一样\n",
    "np.array([[1,2,3],[1,2,3,4]],dtype=object)"
   ]
  },
  {
   "cell_type": "code",
   "execution_count": 33,
   "id": "14eee1ca",
   "metadata": {},
   "outputs": [
    {
     "name": "stdout",
     "output_type": "stream",
     "text": [
      "[1. 2. 3. 4. 5.]\n",
      "[1 2 3 4 5]\n"
     ]
    }
   ],
   "source": [
    "# dtype参数：指定元素数据类型（默认自动识别）\n",
    "ar=np.array([1,2,3,4,5],dtype=float)\n",
    "print(ar)\n",
    "# 将小数直接转为int类型，将直接截断小数部分保留整数部分\n",
    "ar=np.array([1.1,2.3,3.5,4.6,5.7],dtype=int)\n",
    "print(ar)"
   ]
  },
  {
   "cell_type": "code",
   "execution_count": 50,
   "id": "11de0743",
   "metadata": {},
   "outputs": [
    {
     "name": "stdout",
     "output_type": "stream",
     "text": [
      "a: 139678445127312  b: 139678447368112\n",
      "a: [1 2 3 4 5]  b: [10  2  3  4  5]\n",
      "a: [ 1 20  3  4  5]  b: [10  2  3  4  5]\n",
      "a: 139678445129136  b: 139678445129136\n",
      "a: [10  2  3  4  5]  b: [10  2  3  4  5]\n",
      "a: [10 20  3  4  5]  b: [10 20  3  4  5]\n"
     ]
    }
   ],
   "source": [
    "# copy参数：深拷贝，默认为True深拷贝\n",
    "a=np.array([1,2,3,4,5])\n",
    "b=np.array(a)\n",
    "print('a:',id(a),\" b:\",id(b))\n",
    "# 修改b的元素，a不会发生变化\n",
    "b[0]=10\n",
    "print('a:',a,' b:',b)\n",
    "# 修改a的元素，b不会发生变化\n",
    "a[1]=20\n",
    "print('a:',a,' b:',b)\n",
    "\n",
    "# copy=False：浅拷贝\n",
    "a=np.array([1,2,3,4,5])\n",
    "b=np.array(a,copy=False)\n",
    "print('a:',id(a),\" b:\",id(b))\n",
    "# 修改b的元素，a也会发生变化\n",
    "b[0]=10\n",
    "print('a:',a,' b:',b)\n",
    "# 修改a的元素，b也会发生变化\n",
    "a[1]=20\n",
    "print('a:',a,' b:',b)"
   ]
  },
  {
   "cell_type": "code",
   "execution_count": null,
   "id": "04954d1e",
   "metadata": {},
   "outputs": [
    {
     "name": "stdout",
     "output_type": "stream",
     "text": [
      "a: 139678451721456  b: 139678451725584\n"
     ]
    }
   ],
   "source": [
    "# 数组的copy方法，也属于深拷贝\n",
    "a=np.array([1,2,3,4,5])\n",
    "b=a.copy()\n",
    "print('a:',id(a),\" b:\",id(b))"
   ]
  },
  {
   "cell_type": "code",
   "execution_count": 44,
   "id": "2932dcec",
   "metadata": {},
   "outputs": [
    {
     "name": "stdout",
     "output_type": "stream",
     "text": [
      "a: 139679314789456  b: 139679314789456\n",
      "a: [10  2  3  4  5]  b: [10  2  3  4  5]\n",
      "a: [10 20  3  4  5]  b: [10 20  3  4  5]\n"
     ]
    }
   ],
   "source": [
    "# 直接赋值，视作浅拷贝，b和a指向同一内存地址\n",
    "a=np.array([1,2,3,4,5])\n",
    "b=a\n",
    "print('a:',id(a),\" b:\",id(b))\n",
    "# 修改b的元素，a也会发生变化\n",
    "b[0]=10\n",
    "print('a:',a,' b:',b)\n",
    "# 修改a的元素，b也会发生变化\n",
    "a[1]=20\n",
    "print('a:',a,' b:',b)"
   ]
  },
  {
   "cell_type": "code",
   "execution_count": 46,
   "id": "14544474",
   "metadata": {},
   "outputs": [
    {
     "name": "stdout",
     "output_type": "stream",
     "text": [
      "2\n"
     ]
    }
   ],
   "source": [
    "# ndmin：用于指定数组维度\n",
    "a=np.array([1,2,3,4,5],ndmin=2)\n",
    "print(a.ndim)"
   ]
  },
  {
   "cell_type": "code",
   "execution_count": 49,
   "id": "7cddd56f",
   "metadata": {},
   "outputs": [
    {
     "name": "stdout",
     "output_type": "stream",
     "text": [
      "<class 'numpy.matrix'>\n",
      "at，subok=True： <class 'numpy.matrix'>\n",
      "af，subok=False： <class 'numpy.ndarray'>\n",
      "a: 139678451580224  at: 139678451572544  af: 139678447359568\n"
     ]
    }
   ],
   "source": [
    "# subok：=True，使用object的内部数据类型；=False，使用数组的数据类型（默认为False）\n",
    "a=np.mat([1,2,3,4,5])\n",
    "print(type(a))  # 输出矩阵类型\n",
    "\n",
    "at=np.array(a,subok=True)\n",
    "af=np.array(a)\n",
    "print('at，subok=True：',type(at))\n",
    "print('af，subok=False：',type(af))\n",
    "print('a:',id(a),\" at:\",id(at),\" af:\",id(af))"
   ]
  }
 ],
 "metadata": {
  "kernelspec": {
   "display_name": "my_ai_env",
   "language": "python",
   "name": "python3"
  },
  "language_info": {
   "codemirror_mode": {
    "name": "ipython",
    "version": 3
   },
   "file_extension": ".py",
   "mimetype": "text/x-python",
   "name": "python",
   "nbconvert_exporter": "python",
   "pygments_lexer": "ipython3",
   "version": "3.10.18"
  }
 },
 "nbformat": 4,
 "nbformat_minor": 5
}
