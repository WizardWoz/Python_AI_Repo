{
 "cells": [
  {
   "cell_type": "code",
   "execution_count": 2,
   "id": "2a82129e",
   "metadata": {},
   "outputs": [
    {
     "name": "stdout",
     "output_type": "stream",
     "text": [
      "[[ 0  1  2  3  4]\n",
      " [ 5  6  7  8  9]\n",
      " [10 11 12 13 14]\n",
      " [15 16 17 18 19]]\n"
     ]
    }
   ],
   "source": [
    "import numpy as np\n",
    "\n",
    "m1=np.arange(20).reshape(4,5)\n",
    "print(m1)"
   ]
  },
  {
   "cell_type": "code",
   "execution_count": 3,
   "id": "425708c7",
   "metadata": {},
   "outputs": [
    {
     "name": "stdout",
     "output_type": "stream",
     "text": [
      "9.5\n",
      "[ 7.5  8.5  9.5 10.5 11.5]\n",
      "[ 2.  7. 12. 17.]\n"
     ]
    }
   ],
   "source": [
    "# 1.mean()：求平均值\n",
    "# 默认求出数组所有元素的平均值\n",
    "print(m1.mean())\n",
    "\n",
    "# 求某一维度的平均值，设置axis参数\n",
    "# axis=0从上往下计算；axis=1从左往右计算\n",
    "print(m1.mean(axis=0))\n",
    "print(m1.mean(axis=1))"
   ]
  },
  {
   "cell_type": "code",
   "execution_count": 4,
   "id": "4f37a35c",
   "metadata": {},
   "outputs": [
    {
     "name": "stdout",
     "output_type": "stream",
     "text": [
      "5.0\n",
      "5.5\n"
     ]
    }
   ],
   "source": [
    "# 2.np.median：中位数（中点数、中值）\n",
    "# 按顺序排列的一组数据中居于中间位置的数；代表一个样本、种群或概率分布中的一个数值\n",
    "ar1=np.array([1,3,5,6,8])       # 奇数个元素，直接取最中间\n",
    "print(np.median(ar1))\n",
    "\n",
    "ar2=np.array([1,3,5,6,8,9])     # 偶数个元素，取中间两个元素的平均数\n",
    "print(np.median(ar2))"
   ]
  },
  {
   "cell_type": "code",
   "execution_count": 5,
   "id": "1950d374",
   "metadata": {},
   "outputs": [
    {
     "name": "stdout",
     "output_type": "stream",
     "text": [
      "17.07825127659933\n",
      "2.160246899469287\n"
     ]
    },
    {
     "data": {
      "text/plain": [
       "17.07825127659933"
      ]
     },
     "execution_count": 5,
     "metadata": {},
     "output_type": "execute_result"
    }
   ],
   "source": [
    "# 3.ndarray.std：求标准差\n",
    "# 标准差定义：总体各单位标准值与其平均数离差平方的算术平均数的平方根（有计量单位，是表示精确度的重要指标）\n",
    "# 在概率统计中最常使用，作为统计分布程度上的测量，是反映一组数据离散程度最常用的一种量化形式（数据平均值分散程度的一种度量）\n",
    "a=np.array([95,85,75,65,55,45])\n",
    "b=np.array([73,72,71,69,68,67])\n",
    "\n",
    "# 利用numpy函数np.std()求标准差\n",
    "print(np.std(a))\n",
    "print(np.std(b))\n",
    "\n",
    "# 按定义求标准差\n",
    "import math\n",
    "math.sqrt(np.sum(((a-np.mean(a))**2)/a.size))"
   ]
  },
  {
   "cell_type": "code",
   "execution_count": null,
   "id": "78fb4967",
   "metadata": {},
   "outputs": [
    {
     "name": "stdout",
     "output_type": "stream",
     "text": [
      "291.6666666666667\n",
      "4.666666666666667\n"
     ]
    }
   ],
   "source": [
    "# 4.ndarray.var()：求方差（无计量单位）\n",
    "a=np.array([95,85,75,65,55,45])\n",
    "b=np.array([73,72,71,69,68,67])\n",
    "\n",
    "# 利用numpy函数np.var()求方差\n",
    "print(np.var(a))\n",
    "print(np.var(b))"
   ]
  },
  {
   "cell_type": "code",
   "execution_count": null,
   "id": "72dace26",
   "metadata": {},
   "outputs": [
    {
     "name": "stdout",
     "output_type": "stream",
     "text": [
      "[[ 0  1  2  3  4]\n",
      " [ 5  6  7  8  9]\n",
      " [10 11 12 13 14]\n",
      " [15 16 17 18 19]]\n",
      "19\n",
      "[15 16 17 18 19]\n",
      "[ 4  9 14 19]\n"
     ]
    }
   ],
   "source": [
    "# 5.ndarray.max()：求最大值\n",
    "print(m1)\n",
    "print(m1.max())\n",
    "\n",
    "# 求某一维度的最大值，设置axis参数\n",
    "# axis=0从上往下查找；axis=1从左往右查找\n",
    "print(m1.max(axis=0))\n",
    "print(m1.max(axis=1))"
   ]
  },
  {
   "cell_type": "code",
   "execution_count": null,
   "id": "70aff715",
   "metadata": {},
   "outputs": [
    {
     "name": "stdout",
     "output_type": "stream",
     "text": [
      "[[ 0  1  2  3  4]\n",
      " [ 5  6  7  8  9]\n",
      " [10 11 12 13 14]\n",
      " [15 16 17 18 19]]\n",
      "0\n",
      "[0 1 2 3 4]\n",
      "[ 0  5 10 15]\n"
     ]
    }
   ],
   "source": [
    "# 6.ndarray.min()：求最小值\n",
    "print(m1)\n",
    "print(m1.min())\n",
    "\n",
    "# 求某一维度的最小值，设置axis参数\n",
    "# axis=0从上往下查找；axis=1从左往右查找\n",
    "print(m1.min(axis=0))\n",
    "print(m1.min(axis=1))"
   ]
  },
  {
   "cell_type": "code",
   "execution_count": null,
   "id": "dfb2ff06",
   "metadata": {},
   "outputs": [
    {
     "name": "stdout",
     "output_type": "stream",
     "text": [
      "[[ 0  1  2  3  4]\n",
      " [ 5  6  7  8  9]\n",
      " [10 11 12 13 14]\n",
      " [15 16 17 18 19]]\n",
      "190\n",
      "[30 34 38 42 46]\n",
      "[10 35 60 85]\n"
     ]
    }
   ],
   "source": [
    "# 7.ndarray.sum()：求和\n",
    "print(m1)\n",
    "print(m1.sum())\n",
    "\n",
    "# 求某一维度的总和，设置axis参数\n",
    "# axis=0从上往下查找；axis=1从左往右查找\n",
    "print(m1.sum(axis=0))\n",
    "print(m1.sum(axis=1))"
   ]
  },
  {
   "cell_type": "code",
   "execution_count": 13,
   "id": "48ddc0c1",
   "metadata": {},
   "outputs": [
    {
     "name": "stdout",
     "output_type": "stream",
     "text": [
      "33.333333333333336\n",
      "33.333333333333336\n",
      "90.5\n",
      "86.0\n"
     ]
    }
   ],
   "source": [
    "# 8.numpy.average()：加权平均值\n",
    "# 将各数值乘以相应的权数，然后求总和得到总体值，再除以总的单位数\n",
    "average_a1=[20,30,50]\n",
    "\n",
    "print(np.average(average_a1))   # 无权重时等同于numpy.mean()方法\n",
    "print(np.mean(average_a1))\n",
    "\n",
    "xiaoming=np.array([80,90,95])\n",
    "xiaogang=np.array([95,90,80])\n",
    "weights=np.array([0.2,0.3,0.5])     # 权重数组\n",
    "# 分别计算小明和小刚的加权平均成绩\n",
    "print(np.average(xiaoming,weights=weights))\n",
    "print(np.average(xiaogang,weights=weights))"
   ]
  }
 ],
 "metadata": {
  "kernelspec": {
   "display_name": "my_ai_env",
   "language": "python",
   "name": "python3"
  },
  "language_info": {
   "codemirror_mode": {
    "name": "ipython",
    "version": 3
   },
   "file_extension": ".py",
   "mimetype": "text/x-python",
   "name": "python",
   "nbconvert_exporter": "python",
   "pygments_lexer": "ipython3",
   "version": "3.10.18"
  }
 },
 "nbformat": 4,
 "nbformat_minor": 5
}
