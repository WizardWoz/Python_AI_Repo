{
 "cells": [
  {
   "cell_type": "code",
   "execution_count": 36,
   "id": "657a8bdf",
   "metadata": {},
   "outputs": [],
   "source": [
    "# loadtxt：读取.csv/.txt文件；参数如下：\n",
    "# (1)fname：指定文件名称的字符串，支持压缩文件（.zip/.bz/.gz......）\n",
    "# (2)dtype：数据类型，默认为float\n",
    "# (3)comments：字符串/字符串组成的列表。表示注释字符集开始的标志，默认为#\n",
    "# (4)delimiter：字符串分隔符\n",
    "# (5)converters：字典，将特定列的数据转换为字典中对应的函数的浮点型数据（例：空值转换为0，默认为空）\n",
    "# (6)skiprows：跳过特定行数据（例：跳过前一行标题/注释，默认为0）\n",
    "# (7)usecols：元组，用来指定要读取数据的列，第一列为0，默认为空）\n",
    "# (8)unpack：布尔型，指定是否转置数组，为True则转置\n",
    "# (9)ndmin：整数型，指定返回的数组中至少包含特定维度的数组，可以取0，1，2，默认为0\n",
    "# (10)encoding：编码，确认文件是gbk还是utf-8格式\n",
    "# 返回值：从文件中读取的数组\n",
    "\n",
    "import numpy as np"
   ]
  },
  {
   "cell_type": "code",
   "execution_count": 37,
   "id": "95f38432",
   "metadata": {},
   "outputs": [
    {
     "name": "stdout",
     "output_type": "stream",
     "text": [
      "[[ 0  1  2  3  4  5  6  7  8  9]\n",
      " [10 11 12 13 14 15 16 17 18 19]\n",
      " [20 21 22 23 24 25 26 27 28 29]] int32 (3, 10)\n"
     ]
    }
   ],
   "source": [
    "# 1.读取.txt文件，可以不用设置分隔符（空格/制表符）\n",
    "data=np.loadtxt('./data/data1.txt',dtype=np.int32)\n",
    "print(data,data.dtype,data.shape)"
   ]
  },
  {
   "cell_type": "code",
   "execution_count": 38,
   "id": "66265d93",
   "metadata": {},
   "outputs": [
    {
     "name": "stdout",
     "output_type": "stream",
     "text": [
      "[[ 0  1  2  3  4  5  6  7  8  9]\n",
      " [10 11 12 13 14 15 16 17 18 19]\n",
      " [20 21 22 23 24 25 26 27 28 29]] int32 (3, 10)\n"
     ]
    }
   ],
   "source": [
    "# 2.读取.csv文件，设置分隔符，默认为','\n",
    "data=np.loadtxt('./data/csv_test.csv',dtype=np.int32,delimiter=',')\n",
    "print(data,data.dtype,data.shape)"
   ]
  },
  {
   "cell_type": "code",
   "execution_count": 41,
   "id": "8f52b1a2",
   "metadata": {},
   "outputs": [
    {
     "name": "stdout",
     "output_type": "stream",
     "text": [
      "[('name', '<U10'), ('age', 'i1'), ('gender', '<U1'), ('height', '<i2')]\n",
      "[('小王', 21, '男', 170) ('老王', 50, '男', 180) ('小红', 23, '女', 176)\n",
      " ('老红', 34, '女', 167)]\n",
      "[[ 21 170]\n",
      " [ 50 180]\n",
      " [ 23 176]\n",
      " [ 34 167]]\n",
      "[('age', 'i1'), ('height', '<i2')]\n",
      "[(21, 170) (50, 180) (23, 176) (34, 167)]\n"
     ]
    }
   ],
   "source": [
    "# 3.不同列标识不同信息，数据读取\n",
    "# 因为不同列数据标识的含义和类型不同，所以需要自定义数据类型\n",
    "user_info=np.dtype([('name','U10'),('age','i1'),('gender','U1'),('height','i2')])\n",
    "print(user_info)\n",
    "\n",
    "# 使用自定义的数据类型读取数据\n",
    "data=np.loadtxt('./data/has_title.txt',dtype=user_info,skiprows=1,encoding='utf-8')\n",
    "print(data)\n",
    "\n",
    "data=np.loadtxt('./data/has_title.txt',dtype=int,skiprows=1,usecols=(1,3),encoding='utf-8')\n",
    "print(data)\n",
    "\n",
    "user_info=np.dtype([('age','i1'),('height','i2')])\n",
    "print(user_info)\n",
    "data=np.loadtxt('./data/has_title.csv',dtype=user_info,skiprows=1,usecols=(1,3),delimiter=',')\n",
    "print(data)"
   ]
  },
  {
   "cell_type": "code",
   "execution_count": 44,
   "id": "63732647",
   "metadata": {},
   "outputs": [
    {
     "name": "stdout",
     "output_type": "stream",
     "text": [
      "32.0\n",
      "[False False  True  True]\n",
      "[170 180 176 167]\n",
      "[176 167]\n",
      "171.5\n"
     ]
    },
    {
     "data": {
      "text/plain": [
       "'171.50'"
      ]
     },
     "execution_count": 44,
     "metadata": {},
     "output_type": "execute_result"
    }
   ],
   "source": [
    "user_info=np.dtype([('name','U10'),('age','i1'),('gender','U1'),('height','i2')])\n",
    "data=np.loadtxt('./data/has_title.txt',dtype=user_info,skiprows=1,encoding='utf-8')\n",
    "\n",
    "# 计算平均年龄\n",
    "ages=data['age']\n",
    "print(ages.mean())\n",
    "\n",
    "# 计算女生的平均身高\n",
    "isgirl=data['gender']=='女'\n",
    "print(isgirl)\n",
    "print(data['height'])\n",
    "print(data['height'][isgirl])\n",
    "girl_mean=np.mean(data['height'][isgirl])\n",
    "print(girl_mean)\n",
    "'{:.2f}'.format(girl_mean)"
   ]
  }
 ],
 "metadata": {
  "kernelspec": {
   "display_name": "my_ai_env",
   "language": "python",
   "name": "python3"
  },
  "language_info": {
   "codemirror_mode": {
    "name": "ipython",
    "version": 3
   },
   "file_extension": ".py",
   "mimetype": "text/x-python",
   "name": "python",
   "nbconvert_exporter": "python",
   "pygments_lexer": "ipython3",
   "version": "3.10.18"
  }
 },
 "nbformat": 4,
 "nbformat_minor": 5
}
