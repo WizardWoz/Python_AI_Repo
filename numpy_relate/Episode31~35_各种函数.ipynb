{
 "cells": [
  {
   "cell_type": "code",
   "execution_count": 45,
   "id": "f0269f64",
   "metadata": {},
   "outputs": [],
   "source": [
    "# 随机函数（包含在random模块中）\n",
    "\n",
    "import numpy as np\n",
    "from matplotlib import pyplot as plt    # 等同于import matplotlib.pyplot as plt"
   ]
  },
  {
   "cell_type": "code",
   "execution_count": 46,
   "id": "085c4aa1",
   "metadata": {},
   "outputs": [
    {
     "name": "stdout",
     "output_type": "stream",
     "text": [
      "[0.77574927 0.62538219 0.03571874 ... 0.22686108 0.15019657 0.63143469]\n",
      "[[0.10013644 0.35471631]\n",
      " [0.29083065 0.38066188]\n",
      " [0.35852868 0.3642536 ]\n",
      " [0.32232381 0.62370632]]\n",
      "[[[0.03594608 0.75159953 0.24653829]\n",
      "  [0.75022058 0.32913801 0.31379268]]\n",
      "\n",
      " [[0.47048696 0.06235668 0.30571584]\n",
      "  [0.56695227 0.09169286 0.92271924]]]\n"
     ]
    },
    {
     "data": {
      "image/png": "[encoded data removed]",
      "text/plain": [
       "<Figure size 640x480 with 1 Axes>"
      ]
     },
     "metadata": {},
     "output_type": "display_data"
    }
   ],
   "source": [
    "# 1.random.rand()：根据给定维度生成(0,1)之间的一维数据，包含0不包含1，返回指定维度的array\n",
    "a=np.random.rand(10000)\n",
    "print(a)\n",
    "plt.hist(a)\n",
    "\n",
    "# 创建多维数据\n",
    "print(np.random.rand(4,2))\n",
    "print(np.random.rand(2,2,3))"
   ]
  },
  {
   "cell_type": "code",
   "execution_count": 51,
   "id": "dbb28fe7",
   "metadata": {},
   "outputs": [
    {
     "name": "stdout",
     "output_type": "stream",
     "text": [
      "[-0.65972214 -0.04613774  0.21151403 ... -0.03557352  0.31551251\n",
      " -0.87735477]\n",
      "[[ 1.10366517 -0.73124025]\n",
      " [ 1.03615635  0.51788873]\n",
      " [ 1.08449476 -0.09772724]]\n",
      "[ 3.52616309  6.2646472  15.00807575 ...  5.52057556  1.08084738\n",
      "  2.4439348 ]\n"
     ]
    },
    {
     "data": {
      "text/plain": [
       "(array([   4.,   28.,  277., 1118., 2511., 3084., 2019.,  778.,  159.,\n",
       "          22.]),\n",
       " array([-7.69949439, -5.3316152 , -2.96373601, -0.59585682,  1.77202237,\n",
       "         4.13990157,  6.50778076,  8.87565995, 11.24353914, 13.61141833,\n",
       "        15.97929753]),\n",
       " <BarContainer object of 10 artists>)"
      ]
     },
     "execution_count": 51,
     "metadata": {},
     "output_type": "execute_result"
    },
    {
     "data": {
      "image/png": "[encoded data removed]",
      "text/plain": [
       "<Figure size 640x480 with 1 Axes>"
      ]
     },
     "metadata": {},
     "output_type": "display_data"
    }
   ],
   "source": [
    "# 2.random.randn()：返回一个/一组样本，具有标准正态分布，返回值为指定维度的array\n",
    "# 标准正态分布称为u分布，以0为均值，1为标准差的正态分布，记作N(0,1)\n",
    "b=np.random.randn(10000)\n",
    "print(b)\n",
    "plt.hist(b)\n",
    "\n",
    "# 标准正态分布，3行2列\n",
    "a=np.random.normal(0,1,(3,2))\n",
    "print(a)\n",
    "\n",
    "# 均值为1,标准差为3的正态分布\n",
    "b=np.random.normal(5,3,(10000,))\n",
    "print(b)\n",
    "plt.hist(b)"
   ]
  },
  {
   "cell_type": "code",
   "execution_count": 48,
   "id": "c61f4fcd",
   "metadata": {},
   "outputs": [
    {
     "name": "stdout",
     "output_type": "stream",
     "text": [
      "0\n",
      "[1 1 1 1 1]\n",
      "[[ 2  1]\n",
      " [-3 -2]]\n",
      "[[[ 4  4  4 -5]\n",
      "  [ 0  4 -3 -4]\n",
      "  [ 2  0 -4 -2]]\n",
      "\n",
      " [[-3  1  4  1]\n",
      "  [-1  0 -3  0]\n",
      "  [ 3 -4  0  4]]]\n"
     ]
    }
   ],
   "source": [
    "# 3.random.randint()：返回随机整数，范围区间[low,high)；high没填写时默认生成随机数范围是[0,low)\n",
    "\n",
    "# 返回[0,1)之间的整数，所以只有0\n",
    "print(np.random.randint(0,1))\n",
    "\n",
    "# 返回[0,2)之间的整数\n",
    "print(np.random.randint(2,size=5))\n",
    "\n",
    "# 返回[-5,5)之间不包含5的2行2列数据\n",
    "print(np.random.randint(-5,5,size=(2,2)))\n",
    "\n",
    "# 返回[-5,5)之间不包含5的2块3行4列数据\n",
    "print(np.random.randint(low=-5,high=5,size=(2,3,4)))"
   ]
  },
  {
   "cell_type": "code",
   "execution_count": null,
   "id": "59f68da0",
   "metadata": {},
   "outputs": [
    {
     "name": "stdout",
     "output_type": "stream",
     "text": [
      "[[ 1.62434536 -0.61175641 -0.52817175]\n",
      " [-1.07296862  0.86540763 -2.3015387 ]\n",
      " [ 1.74481176 -0.7612069   0.3190391 ]]\n",
      "[[ 1.62434536 -0.61175641 -0.52817175]\n",
      " [-1.07296862  0.86540763 -2.3015387 ]\n",
      " [ 1.74481176 -0.7612069   0.3190391 ]]\n"
     ]
    }
   ],
   "source": [
    "# 4.np.random.seed()：随机种子，使用相同的seed()值可以使每次生成的随机数相同，使得随机数可以预测\n",
    "# 只在调用的时候seed()一下不能使生成的随机数相同，需要每次调用都seed()一下表示种子相同，从而生成的随机数相同\n",
    "np.random.seed(1)\n",
    "L1=np.random.randn(3,3)\n",
    "np.random.seed(1)\n",
    "L2=np.random.randn(3,3)\n",
    "print(L1)\n",
    "print(L2)"
   ]
  },
  {
   "cell_type": "code",
   "execution_count": 56,
   "id": "9d0d6dcd",
   "metadata": {},
   "outputs": [
    {
     "name": "stdout",
     "output_type": "stream",
     "text": [
      "[1 2 3 4 5 6 7 8 9]\n",
      "[[1 2 3]\n",
      " [4 5 6]\n",
      " [7 8 9]]\n",
      "[[1 2 3 5 5 5]\n",
      " [4 5 6 7 8 9]]\n"
     ]
    }
   ],
   "source": [
    "# 5.numpy.append()：在数组末尾添加值，默认返回一个一维数组\n",
    "a=np.array([[1,2,3],[4,5,6]])\n",
    "\n",
    "# 向数组a添加元素\n",
    "print(np.append(a,[7,8,9]))\n",
    "\n",
    "# 沿轴0添加元素（从上往下）\n",
    "print(np.append(a,[[7,8,9]],axis=0))\n",
    "\n",
    "# 沿轴1添加元素（从左往右）\n",
    "print(np.append(a,[[5,5,5],[7,8,9]],axis=1))"
   ]
  },
  {
   "cell_type": "code",
   "execution_count": 62,
   "id": "cdc13eb2",
   "metadata": {},
   "outputs": [
    {
     "name": "stdout",
     "output_type": "stream",
     "text": [
      "[[1 2]\n",
      " [3 4]\n",
      " [5 6]]\n",
      "[ 1  2  3 11 12  4  5  6]\n",
      "[[ 1  2]\n",
      " [11 11]\n",
      " [ 3  4]\n",
      " [ 5  6]]\n",
      "[[ 1 11  2]\n",
      " [ 3 11  4]\n",
      " [ 5 11  6]]\n"
     ]
    }
   ],
   "source": [
    "# 6.numpy.insert()：表示沿特定的轴，在给定索引值的前一个位置插入相应的值；如果没有提供轴，则输入数组被展开为一维数组\n",
    "a=np.array([[1,2],[3,4],[5,6]])\n",
    "print(a)\n",
    "\n",
    "# 不提供axis，数组被展开为一维数组后，在索引为3的位置插入11,12\n",
    "print(np.insert(a,3,[11,12]))\n",
    "\n",
    "# 沿轴0垂直方向，将[11]扩展为[11,11]后再插入\n",
    "print(np.insert(a,1,[11],axis=0))\n",
    "\n",
    "# 沿轴1水平方向，将11扩展为[[11],[11],[11]]后再插入\n",
    "print(np.insert(a,1,11,axis=1))"
   ]
  },
  {
   "cell_type": "code",
   "execution_count": 69,
   "id": "834b2101",
   "metadata": {},
   "outputs": [
    {
     "name": "stdout",
     "output_type": "stream",
     "text": [
      "[[ 0  1  2  3]\n",
      " [ 4  5  6  7]\n",
      " [ 8  9 10 11]]\n",
      "[ 0  1  2  3  4  6  7  8  9 10 11]\n",
      "[[ 0  2  3]\n",
      " [ 4  6  7]\n",
      " [ 8 10 11]]\n",
      "[ 1  2  3  4  5  6  7  8  9 10]\n",
      "[ 1  5  6  7  8  9 10]\n"
     ]
    }
   ],
   "source": [
    "# 7.numpy.delete()：从输入数组中删除指定的子数组，并返回一个新数组，如果没有提供轴，则输入数组被展开为一维数组（与insert()函数相似）\n",
    "a=np.arange(12).reshape(3,4)\n",
    "print(a)\n",
    "\n",
    "# 不提供axis参数情况，数组被展开为一维数组后，删除索引为5的元素\n",
    "print(np.delete(a,5))\n",
    "\n",
    "# 删除第2列\n",
    "print(np.delete(a,1,axis=1))\n",
    "\n",
    "a=np.array([1,2,3,4,5,6,7,8,9,10])\n",
    "print(a)\n",
    "\n",
    "# 删除多个位置的元素（下标为1,2,3的元素）\n",
    "print(np.delete(a,[1,2,3]))\n",
    "\n",
    "# 注意不能使用切片形式\n",
    "# print(np.delete(a,[1:4]))"
   ]
  },
  {
   "cell_type": "code",
   "execution_count": null,
   "id": "800557f6",
   "metadata": {},
   "outputs": [
    {
     "name": "stdout",
     "output_type": "stream",
     "text": [
      "slice(1, 4, None)\n",
      "[1 2 3 4]\n",
      "[[1]\n",
      " [2]\n",
      " [3]]\n"
     ]
    }
   ],
   "source": [
    "# 8.各种切片\n",
    "print(np.s_[1:4])\n",
    "print(np.r_[1:5])\n",
    "print(np.c_[1:4])"
   ]
  },
  {
   "cell_type": "code",
   "execution_count": null,
   "id": "a7c829ec",
   "metadata": {},
   "outputs": [
    {
     "name": "stdout",
     "output_type": "stream",
     "text": [
      "[[0 1 2]\n",
      " [3 4 5]]\n",
      "[[0 2]\n",
      " [1 0]\n",
      " [1 1]\n",
      " [1 2]] (4, 2)\n"
     ]
    }
   ],
   "source": [
    "# 9.numpy.argwhere()：返回数组中非0元素的索引，若是多维数组则返回行、列索引组成的索引坐标\n",
    "x=np.arange(6).reshape(2,3)\n",
    "print(x)\n",
    "\n",
    "# 返回所有大于1的元素索引\n",
    "y=np.argwhere(x>1)\n",
    "print(y,y.shape)"
   ]
  },
  {
   "cell_type": "code",
   "execution_count": 81,
   "id": "310b5fe6",
   "metadata": {},
   "outputs": [
    {
     "name": "stdout",
     "output_type": "stream",
     "text": [
      "[5 2 6 2 7 5 6 8 2 9]\n",
      "[2 5 6 7 8 9]\n",
      "[2 5 6 7 8 9]\n",
      "[1 0 2 4 7 9]\n",
      "[2 5 6 7 8 9]\n",
      "[3 2 2 1 1 1]\n"
     ]
    }
   ],
   "source": [
    "# 10.numpy.unique()：删除数组中重复的元素\n",
    "a=np.array([5,2,6,2,7,5,6,8,2,9])\n",
    "print(a)\n",
    "\n",
    "# 对a数组去重，还为去重后的数组排序\n",
    "uq=np.unique(a)\n",
    "print(uq)\n",
    "\n",
    "# 数组去重后的索引数组\n",
    "ui,indices=np.unique(a,return_index=True)\n",
    "print(ui)\n",
    "print(indices)      # 元素首次出现时对应的索引\n",
    "\n",
    "# 返回去重元素的重复数量\n",
    "uc,indices=np.unique(a,return_counts=True)\n",
    "print(uc)\n",
    "print(indices)      # 元素出现的总次数"
   ]
  },
  {
   "cell_type": "code",
   "execution_count": 89,
   "id": "4c12d0aa",
   "metadata": {},
   "outputs": [
    {
     "name": "stdout",
     "output_type": "stream",
     "text": [
      "a数组是： [[3 7 5]\n",
      " [6 1 4]]\n",
      "排序后的内容： [[3 5 7]\n",
      " [1 4 6]]\n",
      "排序后的内容： [[3 5 7]\n",
      " [1 4 6]]\n",
      "排序后的内容： [[3 1 4]\n",
      " [6 7 5]]\n",
      "[(b'raju', 21) (b'anil', 25) (b'ravi', 17) (b'amar', 27)]\n",
      "[(b'amar', 27) (b'anil', 25) (b'raju', 21) (b'ravi', 17)]\n"
     ]
    }
   ],
   "source": [
    "# 11.numpy.sort()：对输入数组执行排序，并返回一个数组副本\n",
    "a=np.array([[3,7,5],[6,1,4]])\n",
    "print('a数组是：',a)\n",
    "\n",
    "# 调用sort()方法，默认以axis=1对每一行单独排序\n",
    "print('排序后的内容：',np.sort(a))\n",
    "print('排序后的内容：',np.sort(a,axis=1))\n",
    "\n",
    "# 设置axis=0对每一列单独排序\n",
    "print('排序后的内容：',np.sort(a,axis=0))\n",
    "\n",
    "# 设置在sort()方法中的排序字段\n",
    "dt=np.dtype([('name','S10'),('age',int)])\n",
    "a=np.array([(\"raju\",21),(\"anil\",25),(\"ravi\",17),(\"amar\",27)],dtype=dt)\n",
    "# 再次打印a数组\n",
    "print(a)\n",
    "# 按name字段排序\n",
    "print(np.sort(a,order='name'))"
   ]
  },
  {
   "cell_type": "code",
   "execution_count": 91,
   "id": "20c5617f",
   "metadata": {},
   "outputs": [
    {
     "name": "stdout",
     "output_type": "stream",
     "text": [
      "原数组： [90 29 89 12]\n",
      "打印排序元素索引值： [3 1 2 0]\n",
      "[12 29 89 90]\n"
     ]
    }
   ],
   "source": [
    "# 12.numpy.argsort()：沿着特定轴，对输入数组进行排序，并返回排序后的元素索引数组\n",
    "a=np.array([90,29,89,12])\n",
    "print(\"原数组：\",a)\n",
    "sort_ind=np.argsort(a)\n",
    "print(\"打印排序元素索引值：\",sort_ind)\n",
    "print(a[sort_ind])"
   ]
  }
 ],
 "metadata": {
  "kernelspec": {
   "display_name": "my_ai_env",
   "language": "python",
   "name": "python3"
  },
  "language_info": {
   "codemirror_mode": {
    "name": "ipython",
    "version": 3
   },
   "file_extension": ".py",
   "mimetype": "text/x-python",
   "name": "python",
   "nbconvert_exporter": "python",
   "pygments_lexer": "ipython3",
   "version": "3.10.18"
  }
 },
 "nbformat": 4,
 "nbformat_minor": 5
}
