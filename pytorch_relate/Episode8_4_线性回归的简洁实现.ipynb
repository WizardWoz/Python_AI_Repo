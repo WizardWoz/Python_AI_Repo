{
 "cells": [
  {
   "cell_type": "code",
   "execution_count": 2,
   "id": "da4049e3",
   "metadata": {},
   "outputs": [
    {
     "data": {
      "text/plain": [
       "[tensor([[-0.7266,  1.3521],\n",
       "         [ 0.2117,  0.6394],\n",
       "         [-0.1134,  1.7314],\n",
       "         [-1.9603, -1.4846],\n",
       "         [-2.3029,  0.7001],\n",
       "         [ 0.4277, -0.1445],\n",
       "         [-0.2476, -0.3009],\n",
       "         [-0.3124, -3.4026],\n",
       "         [ 0.0872,  0.3100],\n",
       "         [-0.2199, -0.3072]]),\n",
       " tensor([[-1.8522],\n",
       "         [ 2.4438],\n",
       "         [-1.8982],\n",
       "         [ 5.3269],\n",
       "         [-2.7814],\n",
       "         [ 5.5528],\n",
       "         [ 4.7285],\n",
       "         [15.1452],\n",
       "         [ 3.3329],\n",
       "         [ 4.8024]])]"
      ]
     },
     "execution_count": 2,
     "metadata": {},
     "output_type": "execute_result"
    }
   ],
   "source": [
    "# 通过使用深度学习框架来简洁实现线性回归模型，生成数据集\n",
    "import numpy as np\n",
    "import torch\n",
    "from torch.utils import data\n",
    "from d2l import torch as d2l\n",
    "\n",
    "true_w=torch.tensor([2,-3.4])\n",
    "true_b=4.2\n",
    "features,labels=d2l.synthetic_data(true_w,true_b,1000)\n",
    "\n",
    "def load_array(data_arrays,batch_size,is_train=True):\n",
    "    \"\"\"\n",
    "    构造一个PyTorch数据迭代器\n",
    "    \"\"\"\n",
    "    dataset=data.TensorDataset(*data_arrays)\n",
    "    return data.DataLoader(dataset,batch_size,shuffle=is_train)\n",
    "\n",
    "batch_size=10\n",
    "data_iter=load_array((features,labels),batch_size)\n",
    "next(iter(data_iter))"
   ]
  },
  {
   "cell_type": "code",
   "execution_count": 5,
   "id": "37b1f722",
   "metadata": {},
   "outputs": [
    {
     "name": "stdout",
     "output_type": "stream",
     "text": [
      "epoch 1,loss 0.000206\n",
      "epoch 2,loss 0.000101\n",
      "epoch 3,loss 0.000099\n"
     ]
    }
   ],
   "source": [
    "# 使用框架预定义好的层\n",
    "from torch import nn    # nn是nerual network的缩写\n",
    "net=nn.Sequential(nn.Linear(2,1))\n",
    "\n",
    "# 初始化模型参数\n",
    "net[0].weight.data.normal_(0,0.01)\n",
    "net[0].bias.data.fill_(0)\n",
    "\n",
    "# 计算均方误差使用的是MSELoss类，也称为平方L2范数\n",
    "loss=nn.MSELoss()\n",
    "# 实例化SGD\n",
    "trainer=torch.optim.SGD(net.parameters(),lr=0.03)\n",
    "\n",
    "# 训练过程代码与Episode8_3类似\n",
    "num_epochs=3\n",
    "for epoch in range(num_epochs):\n",
    "    for X,y in data_iter:\n",
    "        l=loss(net(X),y)\n",
    "        trainer.zero_grad()\n",
    "        l.backward()\n",
    "        trainer.step()\n",
    "    l=loss(net(features),labels)\n",
    "    print(f'epoch {epoch+1},loss {l:f}')"
   ]
  }
 ],
 "metadata": {
  "kernelspec": {
   "display_name": "my_ai_env",
   "language": "python",
   "name": "python3"
  },
  "language_info": {
   "codemirror_mode": {
    "name": "ipython",
    "version": 3
   },
   "file_extension": ".py",
   "mimetype": "text/x-python",
   "name": "python",
   "nbconvert_exporter": "python",
   "pygments_lexer": "ipython3",
   "version": "3.10.12"
  }
 },
 "nbformat": 4,
 "nbformat_minor": 5
}
