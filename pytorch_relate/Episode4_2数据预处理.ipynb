{
 "cells": [
  {
   "cell_type": "code",
   "execution_count": null,
   "id": "02f37d38-9089-4377-995c-bcce150e7c98",
   "metadata": {},
   "outputs": [],
   "source": [
    "import os\n",
    "#1.创建一个人工数据集，并存储在../data/house_tiny.csv（逗号分隔值）文件\n",
    "os.makedirs(os.path.join('.','data'),exist_ok=True)\n",
    "data_file=os.path.join('.','data','house_tiny.csv')\n",
    "with open(data_file,'w') as f:\n",
    "    f.write('NumRooms,Alley,Price\\n')    #列名\n",
    "    f.write('NA,Pave,127500\\n')    #每行表示一个数据样本\n",
    "    f.write('2,NA,106000\\n')\n",
    "    f.write('4,NA,178100\\n')\n",
    "    f.write('NA,NA,140000\\n')"
   ]
  },
  {
   "cell_type": "code",
   "execution_count": 14,
   "id": "dcec9170-54b5-4de3-8962-f26b174718e7",
   "metadata": {},
   "outputs": [
    {
     "name": "stdout",
     "output_type": "stream",
     "text": [
      "   NumRooms Alley   Price\n",
      "0       NaN  Pave  127500\n",
      "1       2.0   NaN  106000\n",
      "2       4.0   NaN  178100\n",
      "3       NaN   NaN  140000\n"
     ]
    }
   ],
   "source": [
    "#2.从创建的../data/house_tiny.csv文件中加载原始数据集\n",
    "#如果没有安装pandas，只需取消对以下行的注释：\n",
    "# %pip install pandas\n",
    "import pandas as pd\n",
    "\n",
    "data=pd.read_csv(data_file)\n",
    "print(data)"
   ]
  },
  {
   "cell_type": "code",
   "execution_count": null,
   "id": "5b568e94-5384-486e-9599-909fbac9b22d",
   "metadata": {},
   "outputs": [
    {
     "name": "stdout",
     "output_type": "stream",
     "text": [
      "   NumRooms Alley\n",
      "0       3.0  Pave\n",
      "1       2.0   NaN\n",
      "2       4.0   NaN\n",
      "3       3.0   NaN\n"
     ]
    }
   ],
   "source": [
    "#3.处理缺失的数据，典型方法：插值、删除；在这里选择使用插值\n",
    "inputs,outputs=data.iloc[:,0:2],data.iloc[:,2]  #iloc：index location，将data数据作分片，并分离输入和输出\n",
    "inputs=inputs.fillna(inputs.mean(numeric_only=True))  #用均值填充缺失值，mean(numeric_only=True)只计算数值列的均值\n",
    "print(inputs)"
   ]
  },
  {
   "cell_type": "code",
   "execution_count": null,
   "id": "1012ac47",
   "metadata": {},
   "outputs": [],
   "source": [
    "#4.对于inputs中的类别值或离散值，将\"NaN\"视为一个类别\n",
    "inputs=pd.get_dummies(inputs, dummy_na=True)  #get_dummies：将类别值转换为独热编码，dummy_na=True表示将NaN视为一个类别\n",
    "print(inputs)"
   ]
  }
 ],
 "metadata": {
  "kernelspec": {
   "display_name": "my_ai_env",
   "language": "python",
   "name": "python3"
  },
  "language_info": {
   "codemirror_mode": {
    "name": "ipython",
    "version": 3
   },
   "file_extension": ".py",
   "mimetype": "text/x-python",
   "name": "python",
   "nbconvert_exporter": "python",
   "pygments_lexer": "ipython3",
   "version": "3.10.18"
  }
 },
 "nbformat": 4,
 "nbformat_minor": 5
}
