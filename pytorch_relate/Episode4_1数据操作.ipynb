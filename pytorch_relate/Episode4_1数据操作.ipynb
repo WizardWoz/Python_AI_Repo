{
 "cells": [
  {
   "cell_type": "code",
   "execution_count": 25,
   "id": "9c37648e-3977-491f-95c7-3fd3d95ad93e",
   "metadata": {},
   "outputs": [],
   "source": [
    "#Ctrl+Enter：只运行当前节即停止；Ctrl+Shift+Enter：运行当前节及其下方所有节\n",
    "#Ctrl+Alt+Enter：运行当前节及其上方所有节；Shift+Enter：运行当前节并跳转到下一节\n",
    "#Ctrl+S：保存当前文件；Ctrl+F5：运行当前文件\n",
    "import torch"
   ]
  },
  {
   "cell_type": "code",
   "execution_count": 4,
   "id": "9c95eb50-20b0-41fb-abab-fb83cb25b76d",
   "metadata": {},
   "outputs": [
    {
     "data": {
      "text/plain": [
       "tensor([ 0,  1,  2,  3,  4,  5,  6,  7,  8,  9, 10, 11])"
      ]
     },
     "execution_count": 4,
     "metadata": {},
     "output_type": "execute_result"
    }
   ],
   "source": [
    "x=torch.arange(12)    #张量表示一个数值组成的数组，这个数组可能有多个维度\n",
    "x    #x是张量类torch.arange的一个实例化对象"
   ]
  },
  {
   "cell_type": "code",
   "execution_count": 5,
   "id": "57c2ab23-9654-4c69-8ac2-7c636f4490a2",
   "metadata": {},
   "outputs": [
    {
     "data": {
      "text/plain": [
       "torch.Size([12])"
      ]
     },
     "execution_count": 5,
     "metadata": {},
     "output_type": "execute_result"
    }
   ],
   "source": [
    "x.shape    #可以通过张量类torch.arange的 shape 属性访问张量的形状&张量中元素的个数"
   ]
  },
  {
   "cell_type": "code",
   "execution_count": 6,
   "id": "9e25f212-139d-46a5-8315-c8eaf2d9d3ac",
   "metadata": {},
   "outputs": [
    {
     "data": {
      "text/plain": [
       "12"
      ]
     },
     "execution_count": 6,
     "metadata": {},
     "output_type": "execute_result"
    }
   ],
   "source": [
    "x.numel()    #张量类torch.arange的方法numel()：number of element，即元素总数"
   ]
  },
  {
   "cell_type": "code",
   "execution_count": 7,
   "id": "7b3e04d3-32ac-45d8-b72f-0886da9c6620",
   "metadata": {},
   "outputs": [
    {
     "data": {
      "text/plain": [
       "tensor([[ 0,  1,  2,  3],\n",
       "        [ 4,  5,  6,  7],\n",
       "        [ 8,  9, 10, 11]])"
      ]
     },
     "execution_count": 7,
     "metadata": {},
     "output_type": "execute_result"
    }
   ],
   "source": [
    "X=x.reshape(3,4)    #要改变一个张量的形状而不改变元素数量和元素值\n",
    "X"
   ]
  },
  {
   "cell_type": "code",
   "execution_count": 8,
   "id": "06f81478-434a-4ea8-8355-17ee73796bcf",
   "metadata": {},
   "outputs": [
    {
     "data": {
      "text/plain": [
       "tensor([[[0., 0., 0., 0.],\n",
       "         [0., 0., 0., 0.],\n",
       "         [0., 0., 0., 0.]],\n",
       "\n",
       "        [[0., 0., 0., 0.],\n",
       "         [0., 0., 0., 0.],\n",
       "         [0., 0., 0., 0.]]])"
      ]
     },
     "execution_count": 8,
     "metadata": {},
     "output_type": "execute_result"
    }
   ],
   "source": [
    "torch.zeros((2,3,4))    #使用全0的2层、3行、4列三维矩阵"
   ]
  },
  {
   "cell_type": "code",
   "execution_count": 9,
   "id": "40041152-8307-474e-9506-42786028d472",
   "metadata": {},
   "outputs": [
    {
     "data": {
      "text/plain": [
       "tensor([[[1., 1., 1., 1.],\n",
       "         [1., 1., 1., 1.],\n",
       "         [1., 1., 1., 1.]],\n",
       "\n",
       "        [[1., 1., 1., 1.],\n",
       "         [1., 1., 1., 1.],\n",
       "         [1., 1., 1., 1.]]])"
      ]
     },
     "execution_count": 9,
     "metadata": {},
     "output_type": "execute_result"
    }
   ],
   "source": [
    "torch.ones((2,3,4))    #使用全1的2层、3行、4列三维矩阵"
   ]
  },
  {
   "cell_type": "code",
   "execution_count": 10,
   "id": "f27cccd3-0f46-4207-a451-2beb6ea54eeb",
   "metadata": {},
   "outputs": [
    {
     "data": {
      "text/plain": [
       "tensor([[2, 1, 4, 3],\n",
       "        [1, 2, 3, 4],\n",
       "        [4, 3, 2, 1]])"
      ]
     },
     "execution_count": 10,
     "metadata": {},
     "output_type": "execute_result"
    }
   ],
   "source": [
    "torch.tensor([[2,1,4,3],[1,2,3,4],[4,3,2,1]])    #通过提供包含数值的Python列表（或嵌套列表）来为所需张量中的每个元素赋值"
   ]
  },
  {
   "cell_type": "code",
   "execution_count": 11,
   "id": "71fe470b-0d6b-4141-8208-d196554e9263",
   "metadata": {},
   "outputs": [
    {
     "data": {
      "text/plain": [
       "(tensor([ 3,  4,  6, 10]),\n",
       " tensor([-1,  0,  2,  6]),\n",
       " tensor([ 2,  4,  8, 16]),\n",
       " tensor([0.5000, 1.0000, 2.0000, 4.0000]),\n",
       " tensor([ 1,  4, 16, 64]))"
      ]
     },
     "execution_count": 11,
     "metadata": {},
     "output_type": "execute_result"
    }
   ],
   "source": [
    "x=torch.tensor([1,2,4,8])    #标准算术运算符被升级为按元素运算\n",
    "y=torch.tensor([2,2,2,2])\n",
    "x+y,x-y,x*y,x/y,x**y"
   ]
  },
  {
   "cell_type": "code",
   "execution_count": 12,
   "id": "d44fde59-a014-4afb-9a58-332164b812f2",
   "metadata": {},
   "outputs": [
    {
     "data": {
      "text/plain": [
       "(tensor([[ 0.,  1.,  2.,  3.],\n",
       "         [ 4.,  5.,  6.,  7.],\n",
       "         [ 8.,  9., 10., 11.],\n",
       "         [ 2.,  1.,  4.,  3.],\n",
       "         [ 1.,  2.,  3.,  4.],\n",
       "         [ 4.,  3.,  2.,  1.]]),\n",
       " tensor([[ 0.,  1.,  2.,  3.,  2.,  1.,  4.,  3.],\n",
       "         [ 4.,  5.,  6.,  7.,  1.,  2.,  3.,  4.],\n",
       "         [ 8.,  9., 10., 11.,  4.,  3.,  2.,  1.]]))"
      ]
     },
     "execution_count": 12,
     "metadata": {},
     "output_type": "execute_result"
    }
   ],
   "source": [
    "X=torch.arange(12,dtype=torch.float32).reshape((3,4))\n",
    "Y=torch.tensor([[2.0,1,4,3],[1,2,3,4],[4,3,2,1]])\n",
    "torch.cat((X,Y),dim=0),torch.cat((X,Y),dim=1)    #torch.cat可将多个向量连接在一起，dim=0按第0维行来相连；dim=1按第1维列来相连"
   ]
  },
  {
   "cell_type": "code",
   "execution_count": 13,
   "id": "3a8d39c1-10d1-42df-82e5-86b21a126636",
   "metadata": {},
   "outputs": [
    {
     "data": {
      "text/plain": [
       "tensor([[False,  True, False,  True],\n",
       "        [False, False, False, False],\n",
       "        [False, False, False, False]])"
      ]
     },
     "execution_count": 13,
     "metadata": {},
     "output_type": "execute_result"
    }
   ],
   "source": [
    "X==Y    #通过逻辑运算符构建二维张量"
   ]
  },
  {
   "cell_type": "code",
   "execution_count": 14,
   "id": "94c432e0-1629-4db1-a0c0-ff7abd164d44",
   "metadata": {},
   "outputs": [
    {
     "data": {
      "text/plain": [
       "tensor(66.)"
      ]
     },
     "execution_count": 14,
     "metadata": {},
     "output_type": "execute_result"
    }
   ],
   "source": [
    "X.sum()    #对张量中所有元素求和，会产生一个只有一个元素的张量"
   ]
  },
  {
   "cell_type": "code",
   "execution_count": 15,
   "id": "57517d3c-3772-4a52-83ca-26cebcb15e9b",
   "metadata": {},
   "outputs": [
    {
     "data": {
      "text/plain": [
       "(tensor([[0],\n",
       "         [1],\n",
       "         [2]]),\n",
       " tensor([[0, 1]]))"
      ]
     },
     "execution_count": 15,
     "metadata": {},
     "output_type": "execute_result"
    }
   ],
   "source": [
    "a=torch.arange(3).reshape((3,1))    #列扩充为2列\n",
    "b=torch.arange(2).reshape((1,2))    #行扩充为3行\n",
    "a,b"
   ]
  },
  {
   "cell_type": "code",
   "execution_count": 16,
   "id": "6b9c4e8b-b2a7-4def-af46-aeb4a92e5175",
   "metadata": {},
   "outputs": [
    {
     "data": {
      "text/plain": [
       "tensor([[0, 1],\n",
       "        [1, 2],\n",
       "        [2, 3]])"
      ]
     },
     "execution_count": 16,
     "metadata": {},
     "output_type": "execute_result"
    }
   ],
   "source": [
    "a+b    #即使两个张量形状不同，仍可通过调用广播机制（Numpy中也有）来执行按元素操作"
   ]
  },
  {
   "cell_type": "code",
   "execution_count": 17,
   "id": "9f2c7adb-cef9-4723-bb24-0caa1b1f18b9",
   "metadata": {},
   "outputs": [
    {
     "data": {
      "text/plain": [
       "(tensor([ 8.,  9., 10., 11.]),\n",
       " tensor([[ 4.,  5.,  6.,  7.],\n",
       "         [ 8.,  9., 10., 11.]]))"
      ]
     },
     "execution_count": 17,
     "metadata": {},
     "output_type": "execute_result"
    }
   ],
   "source": [
    "X[-1],X[1:3]    #下标从开始；[-1]选择该维度最后一个元素；[1:3]选择第2个和第3个元素（下标为1～下标为3-1=2）"
   ]
  },
  {
   "cell_type": "code",
   "execution_count": 18,
   "id": "67d75ee8-b47e-48ac-861a-cb887cb3580c",
   "metadata": {},
   "outputs": [
    {
     "data": {
      "text/plain": [
       "tensor([[ 0.,  1.,  2.,  3.],\n",
       "        [ 4.,  5.,  9.,  7.],\n",
       "        [ 8.,  9., 10., 11.]])"
      ]
     },
     "execution_count": 18,
     "metadata": {},
     "output_type": "execute_result"
    }
   ],
   "source": [
    "X[1,2]=9    #除读取外，还可以通过指定索引来将元素写入矩阵\n",
    "X"
   ]
  },
  {
   "cell_type": "code",
   "execution_count": 19,
   "id": "16a8e3b4-1a96-4123-a328-c3087356f97b",
   "metadata": {},
   "outputs": [
    {
     "data": {
      "text/plain": [
       "tensor([[12., 12., 12., 12.],\n",
       "        [12., 12., 12., 12.],\n",
       "        [ 8.,  9., 10., 11.]])"
      ]
     },
     "execution_count": 19,
     "metadata": {},
     "output_type": "execute_result"
    }
   ],
   "source": [
    "X[0:2,:]=12    #使用Python的切片语法[m:n]为多个元素赋值\n",
    "X"
   ]
  },
  {
   "cell_type": "code",
   "execution_count": 24,
   "id": "5ba10396-f2df-4cee-84ef-63674d32de7b",
   "metadata": {},
   "outputs": [
    {
     "data": {
      "text/plain": [
       "False"
      ]
     },
     "execution_count": 24,
     "metadata": {},
     "output_type": "execute_result"
    }
   ],
   "source": [
    "before=id(Y)    #运行一些操作可能会导致为新结果分配内存（运算符重载）\n",
    "Y=Y+X    #PyTorch的Tensor张量是可变类型（可通过索引修改）其形状和数据类型不可变；Y=Y+X则会新建一个新的Tensor对象（本质是产生一个新的Y）；Y[:]=Y+X和Y+=X则不会（本质是给Y的各元素赋值）\n",
    "# Y+=X    #减少内存开销\n",
    "id(Y)==before"
   ]
  },
  {
   "cell_type": "code",
   "execution_count": 21,
   "id": "7599bf40-4a81-4187-ac43-d353e6054e16",
   "metadata": {},
   "outputs": [
    {
     "name": "stdout",
     "output_type": "stream",
     "text": [
      "id(Z): 140357695176144\n",
      "id(Z): 140357695176144\n"
     ]
    }
   ],
   "source": [
    "Z=torch.zeros_like(Y)    #执行原地操作\n",
    "print('id(Z):',id(Z))\n",
    "Z[:]=X+Y    #减少内存开销\n",
    "print('id(Z):',id(Z))    #对其修改并没有新建一个新的Tensor对象"
   ]
  },
  {
   "cell_type": "code",
   "execution_count": 22,
   "id": "6222f663-3f41-4384-aba2-361c670df47d",
   "metadata": {},
   "outputs": [
    {
     "data": {
      "text/plain": [
       "(numpy.ndarray, torch.Tensor)"
      ]
     },
     "execution_count": 22,
     "metadata": {},
     "output_type": "execute_result"
    }
   ],
   "source": [
    "A=X.numpy()    #Tensor张量转换为NumPy张量\n",
    "B=torch.tensor(A)\n",
    "type(A),type(B)"
   ]
  },
  {
   "cell_type": "code",
   "execution_count": 23,
   "id": "d106144b-bf70-4e1e-9c80-b8eb407a0327",
   "metadata": {},
   "outputs": [
    {
     "data": {
      "text/plain": [
       "(tensor([3.5000]), 3.5, 3.5, 3)"
      ]
     },
     "execution_count": 23,
     "metadata": {},
     "output_type": "execute_result"
    }
   ],
   "source": [
    "a=torch.tensor([3.5])    #将大小为1的张量转换为Python标量\n",
    "a,a.item(),float(a),int(a)"
   ]
  }
 ],
 "metadata": {
  "kernelspec": {
   "display_name": "my_ai_env",
   "language": "python",
   "name": "python3"
  },
  "language_info": {
   "codemirror_mode": {
    "name": "ipython",
    "version": 3
   },
   "file_extension": ".py",
   "mimetype": "text/x-python",
   "name": "python",
   "nbconvert_exporter": "python",
   "pygments_lexer": "ipython3",
   "version": "3.10.18"
  }
 },
 "nbformat": 4,
 "nbformat_minor": 5
}
