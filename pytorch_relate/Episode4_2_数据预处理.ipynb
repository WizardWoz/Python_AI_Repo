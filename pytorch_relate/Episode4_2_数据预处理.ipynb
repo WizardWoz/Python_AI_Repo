{
 "cells": [
  {
   "cell_type": "code",
   "execution_count": null,
   "id": "02f37d38-9089-4377-995c-bcce150e7c98",
   "metadata": {},
   "outputs": [],
   "source": [
    "import os\n",
    "#1.创建一个人工数据集，并存储在./data/house_tiny.csv（逗号分隔值）文件\n",
    "os.makedirs(os.path.join('.','data'),exist_ok=True)\n",
    "data_file=os.path.join('.','data','house_tiny.csv')\n",
    "# with open：代码执行完，系统会自动调用f.close()，可以省略文件关闭步骤\n",
    "with open(data_file,'w') as f:\n",
    "    f.write('NumRooms,Alley,Price\\n')    #列名\n",
    "    f.write('NA,Pave,127500\\n')    #每行表示一个数据样本\n",
    "    f.write('2,NA,106000\\n')\n",
    "    f.write('4,NA,178100\\n')\n",
    "    f.write('NA,NA,140000\\n')"
   ]
  },
  {
   "cell_type": "code",
   "execution_count": null,
   "id": "dcec9170-54b5-4de3-8962-f26b174718e7",
   "metadata": {},
   "outputs": [
    {
     "name": "stdout",
     "output_type": "stream",
     "text": [
      "   NumRooms Alley   Price\n",
      "0       NaN  Pave  127500\n",
      "1       2.0   NaN  106000\n",
      "2       4.0   NaN  178100\n",
      "3       NaN   NaN  140000\n"
     ]
    }
   ],
   "source": [
    "#2.从创建的./data/house_tiny.csv文件中加载原始数据集\n",
    "#如果没有安装pandas，只需取消对以下行的注释：\n",
    "# %pip install pandas\n",
    "import pandas as pd\n",
    "\n",
    "data=pd.read_csv(data_file)\n",
    "print(data)"
   ]
  },
  {
   "cell_type": "code",
   "execution_count": null,
   "id": "5b568e94-5384-486e-9599-909fbac9b22d",
   "metadata": {},
   "outputs": [
    {
     "name": "stdout",
     "output_type": "stream",
     "text": [
      "   NumRooms Alley\n",
      "0       3.0  Pave\n",
      "1       2.0   NaN\n",
      "2       4.0   NaN\n",
      "3       3.0   NaN\n"
     ]
    }
   ],
   "source": [
    "#3.将data原始数据集作分片iloc：index location，并分离输入和输出；输入inputs为前两列，输出outputs为第三列\n",
    "inputs,outputs=data.iloc[:,0:2],data.iloc[:,2]\n",
    "#对于inputs中的纯数值型数据，处理缺失的数据的典型方法：插值、删除；在这里选择使用插值；outputs本来就全为纯数值型数据且无缺失值，因此不需要处理\n",
    "inputs=inputs.fillna(inputs.mean(numeric_only=True))  #用均值填充缺失值（第0、3行），mean(numeric_only=True)只计算数值列的均值\n",
    "print(inputs)"
   ]
  },
  {
   "cell_type": "code",
   "execution_count": 18,
   "id": "1012ac47",
   "metadata": {},
   "outputs": [
    {
     "name": "stdout",
     "output_type": "stream",
     "text": [
      "   NumRooms  Alley_Pave  Alley_nan\n",
      "0       3.0           1          0\n",
      "1       2.0           0          1\n",
      "2       4.0           0          1\n",
      "3       3.0           0          1\n"
     ]
    }
   ],
   "source": [
    "#4.对于inputs中的类别型或离散型数据，将\"NaN\"视为一个类别\n",
    "inputs=pd.get_dummies(inputs, dummy_na=True,dtype=int)  #get_dummies：将类别值转换为独热编码，dummy_na=True表示将NaN视为一个类别\n",
    "#独热编码（One-Hot Encoding）用于将类别型数据（Categorical Data）转换为数值型数据，以便机器学习算法能够理解和处理\n",
    "print(inputs)"
   ]
  },
  {
   "cell_type": "code",
   "execution_count": null,
   "id": "a1f77226",
   "metadata": {},
   "outputs": [
    {
     "data": {
      "text/plain": [
       "(tensor([[3., 1., 0.],\n",
       "         [2., 0., 1.],\n",
       "         [4., 0., 1.],\n",
       "         [3., 0., 1.]], dtype=torch.float64),\n",
       " tensor([127500, 106000, 178100, 140000]))"
      ]
     },
     "execution_count": 19,
     "metadata": {},
     "output_type": "execute_result"
    }
   ],
   "source": [
    "#5.现在inputs和outputs的所有条目都是数值类型的，可以将它们转换为张量格式（./data/house_tiny.csv文件转成4行3列的张量）\n",
    "#torch.tensor()：将NumPy数组转换为张量，传统的Python一般默认浮点数为float64，而PyTorch默认是float32\n",
    "#dtype=torch.float64使PyTorch默认的float32转为float64\n",
    "import torch\n",
    "x,y=torch.tensor(inputs.values),torch.tensor(outputs.values)  #将DataFrame转换为NumPy数组，然后转换为张量\n",
    "x,y"
   ]
  },
  {
   "cell_type": "code",
   "execution_count": null,
   "id": "b4e62bcb",
   "metadata": {},
   "outputs": [],
   "source": []
  }
 ],
 "metadata": {
  "kernelspec": {
   "display_name": "my_ai_env",
   "language": "python",
   "name": "python3"
  },
  "language_info": {
   "codemirror_mode": {
    "name": "ipython",
    "version": 3
   },
   "file_extension": ".py",
   "mimetype": "text/x-python",
   "name": "python",
   "nbconvert_exporter": "python",
   "pygments_lexer": "ipython3",
   "version": "3.10.18"
  }
 },
 "nbformat": 4,
 "nbformat_minor": 5
}
