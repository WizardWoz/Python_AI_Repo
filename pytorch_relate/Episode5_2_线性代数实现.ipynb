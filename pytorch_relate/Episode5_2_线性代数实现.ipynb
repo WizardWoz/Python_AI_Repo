{
 "cells": [
  {
   "cell_type": "code",
   "execution_count": 2,
   "id": "49af0b5f",
   "metadata": {},
   "outputs": [
    {
     "name": "stdout",
     "output_type": "stream",
     "text": [
      "True\n",
      "1\n",
      "AMD Radeon RX 6700 XT\n"
     ]
    }
   ],
   "source": [
    "import torch\n",
    "print(torch.cuda.is_available()) # 应该返回 True\n",
    "print(torch.cuda.device_count()) # 应该显示您的GPU数量\n",
    "print(torch.cuda.get_device_name(0)) # 应该显示您的GPU名称"
   ]
  },
  {
   "cell_type": "code",
   "execution_count": 3,
   "id": "87821e5a",
   "metadata": {},
   "outputs": [
    {
     "data": {
      "text/plain": [
       "(tensor([5.]), tensor([6.]), tensor([1.5000]), tensor([9.]))"
      ]
     },
     "execution_count": 3,
     "metadata": {},
     "output_type": "execute_result"
    }
   ],
   "source": [
    "# 标量由只有一个元素的张量表示\n",
    "x=torch.tensor([3.0])\n",
    "y=torch.tensor([2.0])\n",
    "x+y,x*y,x/y,x**y"
   ]
  },
  {
   "cell_type": "code",
   "execution_count": 4,
   "id": "4e61ee36",
   "metadata": {},
   "outputs": [
    {
     "name": "stdout",
     "output_type": "stream",
     "text": [
      "tensor([0, 1, 2, 3], dtype=torch.int32)\n",
      "tensor(3, dtype=torch.int32)\n"
     ]
    }
   ],
   "source": [
    "# 将向量视作标量值组成的列表\n",
    "x=torch.arange(4,dtype=torch.int32) # 创建一个包含0到3的整数向量\n",
    "print(x) # 输出 tensor([0, 1, 2, 3])\n",
    "print(x[3]) # 通过索引访问张量元素"
   ]
  },
  {
   "cell_type": "code",
   "execution_count": 5,
   "id": "988f7f3d",
   "metadata": {},
   "outputs": [
    {
     "name": "stdout",
     "output_type": "stream",
     "text": [
      "4\n",
      "torch.Size([4])\n"
     ]
    }
   ],
   "source": [
    "# 访问张量的长度\n",
    "print(len(x)) # 输出 4\n",
    "# 访问张量的形状\n",
    "print(x.shape) # 输出 torch.Size([4])；只有一个轴的张量，形状只有一个元素（一个维度）"
   ]
  },
  {
   "cell_type": "code",
   "execution_count": 6,
   "id": "0dd1e9ab",
   "metadata": {},
   "outputs": [
    {
     "name": "stdout",
     "output_type": "stream",
     "text": [
      "tensor([[ 0,  1,  2,  3],\n",
      "        [ 4,  5,  6,  7],\n",
      "        [ 8,  9, 10, 11],\n",
      "        [12, 13, 14, 15],\n",
      "        [16, 17, 18, 19]])\n"
     ]
    }
   ],
   "source": [
    "# 通过指定两个分量m，n创建一个形状为(m,n)的矩阵\n",
    "A=torch.arange(20).reshape(5,4) # A是一个5行4列的矩阵\n",
    "print(A)"
   ]
  },
  {
   "cell_type": "code",
   "execution_count": 7,
   "id": "1b85aad5",
   "metadata": {},
   "outputs": [
    {
     "name": "stdout",
     "output_type": "stream",
     "text": [
      "tensor([[ 0,  4,  8, 12, 16],\n",
      "        [ 1,  5,  9, 13, 17],\n",
      "        [ 2,  6, 10, 14, 18],\n",
      "        [ 3,  7, 11, 15, 19]])\n"
     ]
    }
   ],
   "source": [
    "# 矩阵的转置\n",
    "print(A.T) # 输出转置后的矩阵"
   ]
  },
  {
   "cell_type": "code",
   "execution_count": 8,
   "id": "4cc99915",
   "metadata": {},
   "outputs": [
    {
     "name": "stdout",
     "output_type": "stream",
     "text": [
      "tensor([[1, 2, 3],\n",
      "        [2, 0, 4],\n",
      "        [3, 4, 5]])\n",
      "tensor([[True, True, True],\n",
      "        [True, True, True],\n",
      "        [True, True, True]])\n"
     ]
    }
   ],
   "source": [
    "# 对称矩阵的转置等于它本身\n",
    "B=torch.tensor([[1,2,3],[2,0,4],[3,4,5]])\n",
    "print(B.T) # 输出转置后的矩阵\n",
    "print(B==B.T) # 检查B是否等于B的转置，返回布尔值（会对应每个元素进行比较）"
   ]
  },
  {
   "cell_type": "code",
   "execution_count": 9,
   "id": "4001b2d9",
   "metadata": {},
   "outputs": [
    {
     "name": "stdout",
     "output_type": "stream",
     "text": [
      "torch.Size([2, 3, 4])\n",
      "tensor([[[ 0,  1,  2,  3],\n",
      "         [ 4,  5,  6,  7],\n",
      "         [ 8,  9, 10, 11]],\n",
      "\n",
      "        [[12, 13, 14, 15],\n",
      "         [16, 17, 18, 19],\n",
      "         [20, 21, 22, 23]]])\n",
      "tensor(276)\n"
     ]
    }
   ],
   "source": [
    "# 向量是标量的推广，矩阵是向量的推广\n",
    "X=torch.arange(24).reshape(2,3,4) # 形状为(2,3,4)的三维张量，（最外层维度,...,最内层维度）\n",
    "print(X.shape) # 输出 torch.Size([2, 3, 4])\n",
    "print(X)\n",
    "# 计算张量元素的和\n",
    "print(X.sum()) # 输出张量X所有元素的和"
   ]
  },
  {
   "cell_type": "code",
   "execution_count": 23,
   "id": "ed2890e5",
   "metadata": {},
   "outputs": [
    {
     "name": "stdout",
     "output_type": "stream",
     "text": [
      "tensor([[ 0.,  1.,  2.,  3.],\n",
      "        [ 4.,  5.,  6.,  7.],\n",
      "        [ 8.,  9., 10., 11.],\n",
      "        [12., 13., 14., 15.],\n",
      "        [16., 17., 18., 19.]])\n",
      "tensor([[ 0.,  2.,  4.,  6.],\n",
      "        [ 8., 10., 12., 14.],\n",
      "        [16., 18., 20., 22.],\n",
      "        [24., 26., 28., 30.],\n",
      "        [32., 34., 36., 38.]])\n",
      "tensor([40., 45., 50., 55.]) torch.Size([4])\n",
      "tensor([ 6., 22., 38., 54., 70.]) torch.Size([5])\n",
      "tensor(9.5000) tensor(9.5000)\n",
      "tensor([40., 45., 50., 55.])\n",
      "tensor([[0.0000, 0.0222, 0.0400, 0.0545],\n",
      "        [0.1000, 0.1111, 0.1200, 0.1273],\n",
      "        [0.2000, 0.2000, 0.2000, 0.2000],\n",
      "        [0.3000, 0.2889, 0.2800, 0.2727],\n",
      "        [0.4000, 0.3778, 0.3600, 0.3455]])\n"
     ]
    },
    {
     "data": {
      "text/plain": [
       "tensor([[ 0.,  1.,  2.,  3.],\n",
       "        [ 4.,  6.,  8., 10.],\n",
       "        [12., 15., 18., 21.],\n",
       "        [24., 28., 32., 36.],\n",
       "        [40., 45., 50., 55.]])"
      ]
     },
     "execution_count": 23,
     "metadata": {},
     "output_type": "execute_result"
    }
   ],
   "source": [
    "# 给定具有相同形状的任意两个向量，任何按元素二元运算都可以通过广播机制自动扩展为相同形状的张量进行计算。\n",
    "A=torch.arange(20,dtype=torch.float32).reshape(5,4)\n",
    "B=A.clone() # 克隆A，B与A具有相同的形状、值、内存地址\n",
    "print(A) # 输出A\n",
    "print(A+B) # 输出按元素和A+B，A+B的形状与A和B相同\n",
    "\n",
    "# 沿着矩阵某个轴求和\n",
    "A_sum_axis0=A.sum(axis=0) # 沿着第0轴（行）求和，则行数变为1，列数保持不变\n",
    "A_sum_axis1=A.sum(axis=1) # 沿着第1轴（列）求和，则行数保持不变，列数变为1\n",
    "print(A_sum_axis0,A_sum_axis0.shape) # 输出沿着第0轴求和后的结果，以及它的形状\n",
    "print(A_sum_axis1,A_sum_axis1.shape) # 输出沿着第1轴求和后的结果，以及它的形状\n",
    "\n",
    "# 求平均值，mean()函数默认沿着所有轴求平均值\n",
    "print(A.mean(),A.sum()/A.numel()) # 输出平均值，numel()返回张量的元素总数\n",
    "# 计算总和或均值时保持轴数不变\n",
    "sum_axis0=A.sum(axis=0) # 沿着第0轴求和，保持轴数不变\n",
    "print(sum_axis0) # 沿着第0轴求和，保持轴数不变\n",
    "print(A/sum_axis0) # 将A除以sum_axis0（广播机制）\n",
    "# A按某个轴计算元素的总和\n",
    "A.cumsum(axis=0) # 沿着第0轴计算元素的总和，返回一个新的张量"
   ]
  },
  {
   "cell_type": "code",
   "execution_count": null,
   "id": "79051460",
   "metadata": {},
   "outputs": [
    {
     "name": "stdout",
     "output_type": "stream",
     "text": [
      "tensor([0, 1, 2, 3], dtype=torch.int32)\n",
      "tensor(6, dtype=torch.int32)\n",
      "tensor([0, 1, 2, 3], dtype=torch.int32)\n",
      "tensor(6)\n",
      "tensor([[[ 0,  1,  2,  3],\n",
      "         [ 4,  5,  6,  7],\n",
      "         [ 8,  9, 10, 11]],\n",
      "\n",
      "        [[12, 13, 14, 15],\n",
      "         [16, 17, 18, 19],\n",
      "         [20, 21, 22, 23]]])\n",
      "tensor([[[ 2,  3,  4,  5],\n",
      "         [ 6,  7,  8,  9],\n",
      "         [10, 11, 12, 13]],\n",
      "\n",
      "        [[14, 15, 16, 17],\n",
      "         [18, 19, 20, 21],\n",
      "         [22, 23, 24, 25]]])\n",
      "tensor([[[ 0,  2,  4,  6],\n",
      "         [ 8, 10, 12, 14],\n",
      "         [16, 18, 20, 22]],\n",
      "\n",
      "        [[24, 26, 28, 30],\n",
      "         [32, 34, 36, 38],\n",
      "         [40, 42, 44, 46]]])\n",
      "torch.Size([2, 3, 4])\n",
      "tensor([[ 0,  1,  2,  3],\n",
      "        [ 4,  5,  6,  7],\n",
      "        [ 8,  9, 10, 11],\n",
      "        [12, 13, 14, 15],\n",
      "        [16, 17, 18, 19]], dtype=torch.int32)\n",
      "tensor([0, 1, 2, 3], dtype=torch.int32)\n",
      "tensor([ 14,  38,  62,  86, 110], dtype=torch.int32)\n",
      "tensor([[ 0,  1,  2,  3],\n",
      "        [ 4,  5,  6,  7],\n",
      "        [ 8,  9, 10, 11],\n",
      "        [12, 13, 14, 15],\n",
      "        [16, 17, 18, 19]], dtype=torch.int32)\n",
      "tensor([[1, 1, 1],\n",
      "        [1, 1, 1],\n",
      "        [1, 1, 1],\n",
      "        [1, 1, 1]], dtype=torch.int32)\n",
      "tensor([[ 6,  6,  6],\n",
      "        [22, 22, 22],\n",
      "        [38, 38, 38],\n",
      "        [54, 54, 54],\n",
      "        [70, 70, 70]], dtype=torch.int32)\n"
     ]
    }
   ],
   "source": [
    "# 点积：相同位置按元素乘积的和\n",
    "y=torch.ones(4,dtype=torch.int32) # 创建一个全1的整数型向量\n",
    "print(x) # 输出向量x\n",
    "print(torch.dot(x,y)) # 输出x和y的点积\n",
    "\n",
    "# 哈达玛积（注意不等于矩阵乘法）:两个矩阵的按元素乘法\n",
    "# 这里的按元素乘法是指对应位置的元素相乘\n",
    "print(x*y) # 输出x和y的哈达玛积（按元素乘法）的和\n",
    "print(torch.sum(x*y)) # 先进行哈达玛积，然后求和，等同于点积\n",
    "\n",
    "# 按元素加法和乘法\n",
    "a=2\n",
    "X=torch.arange(24).reshape(2,3,4) # 形状为(2,3,4)的三维张量\n",
    "print(X) # 输出按元素和X+a，X+a的形状与X相同\n",
    "print(X+a) # 输出按元素和X+a，X+a的形状与X相同\n",
    "print(X*a,(X*a).shape,sep=\"\\n\") # 输出按元素积X*a，X*a的形状\n",
    "\n",
    "# 矩阵向量积Ax\n",
    "A=torch.arange(20,dtype=torch.int32).reshape(5,4) # 创建一个5行4列的矩阵\n",
    "print(A) # 输出矩阵A的形状\n",
    "print(x) # 输出向量x的形状\n",
    "print(torch.mv(A,x)) # 输出矩阵A和向量x的矩阵向量积\n",
    "\n",
    "# 矩阵乘法AB：执行m次矩阵向量积，并将结果组合成一个n*m矩阵\n",
    "B=torch.ones(4,3,dtype=torch.int32) # 创建一个4行3列的矩阵\n",
    "print(A) # 输出矩阵A\n",
    "print(B) # 输出矩阵B\n",
    "print(torch.mm(A,B)) # 输出矩阵A和矩阵B的矩阵乘"
   ]
  },
  {
   "cell_type": "code",
   "execution_count": 27,
   "id": "178f535b",
   "metadata": {},
   "outputs": [
    {
     "name": "stdout",
     "output_type": "stream",
     "text": [
      "tensor(7.)\n",
      "tensor(5.)\n",
      "tensor(5.)\n",
      "tensor(49.6991)\n",
      "tensor(49.6991)\n",
      "tensor(49.6991)\n"
     ]
    }
   ],
   "source": [
    "# L1范数：向量元素绝对值之和\n",
    "u=torch.tensor([3.0,-4.0]) # 创建一个向量u\n",
    "print(torch.norm(u, p=1)) # 写法1：输出向量u的L1范数\n",
    "\n",
    "# L2范数：向量元素平方和的平方根\n",
    "u=torch.tensor([3.0,-4.0]) # 创建一个向量u\n",
    "print(torch.norm(u, p=2)) # 写法1：输出向量u的L2范数\n",
    "print(torch.norm(u)) # 写法2：输出向量u的L2范数\n",
    "\n",
    "# 弗罗贝尼乌斯范数：矩阵元素平方和的平方根\n",
    "A=torch.arange(20,dtype=torch.float32).reshape(5,4) # 创建一个5行4列的矩阵\n",
    "print(torch.norm(A, p='fro')) # 写法1：输出矩阵A的弗罗贝尼乌斯范数\n",
    "print(torch.norm(A, p='fro')) # 写法1：输出矩阵A的弗罗贝尼乌斯范数\n",
    "print(torch.norm(A)) # 写法2：输出矩阵A的弗罗贝尼乌斯范数"
   ]
  },
  {
   "cell_type": "code",
   "execution_count": 28,
   "id": "59d44148",
   "metadata": {},
   "outputs": [
    {
     "name": "stdout",
     "output_type": "stream",
     "text": [
      "torch.Size([2, 5, 4])\n",
      "tensor(40) torch.Size([])\n",
      "tensor([[2, 2, 2, 2],\n",
      "        [2, 2, 2, 2],\n",
      "        [2, 2, 2, 2],\n",
      "        [2, 2, 2, 2],\n",
      "        [2, 2, 2, 2]]) torch.Size([5, 4])\n",
      "tensor([[5, 5, 5, 5],\n",
      "        [5, 5, 5, 5]]) torch.Size([2, 4])\n",
      "tensor([[4, 4, 4, 4, 4],\n",
      "        [4, 4, 4, 4, 4]]) torch.Size([2, 5])\n",
      "tensor([10, 10, 10, 10]) torch.Size([4])\n",
      "tensor([[[5, 5, 5, 5]],\n",
      "\n",
      "        [[5, 5, 5, 5]]]) torch.Size([2, 1, 4])\n"
     ]
    }
   ],
   "source": [
    "a=torch.ones((2,5,4),dtype=torch.int32) # 创建一个形状为(2,5,4)的张量\n",
    "print(a.shape) # 输出张量a的形状\n",
    "print(a.sum(), a.sum().shape) # 输出张量a的内容，以及所有元素的和的形状，应该是一个标量，所以形状是torch.Size([])\n",
    "print(a.sum(axis=0), a.sum(axis=0).shape) # 沿着第0轴求和，返回一个新的张量(5,4)\n",
    "print(a.sum(axis=1), a.sum(axis=1).shape) # 沿着第1轴求和，返回一个新的张量(2,4)\n",
    "print(a.sum(axis=2), a.sum(axis=2).shape) # 沿着第2轴求和，返回一个新的张量(2,5)\n",
    "print(a.sum(axis=[0,1]),a.sum(axis=[0,1]).shape) # 沿着第0轴和第1轴求和，返回一个新的张量(4,)\n",
    "print(a.sum(axis=1,keepdim=True),a.sum(axis=1,keepdim=True).shape) # 沿着第0轴和第2轴求和，返回一个新的张量(5,)"
   ]
  }
 ],
 "metadata": {
  "kernelspec": {
   "display_name": "my_ai_env",
   "language": "python",
   "name": "python3"
  },
  "language_info": {
   "codemirror_mode": {
    "name": "ipython",
    "version": 3
   },
   "file_extension": ".py",
   "mimetype": "text/x-python",
   "name": "python",
   "nbconvert_exporter": "python",
   "pygments_lexer": "ipython3",
   "version": "3.10.12"
  }
 },
 "nbformat": 4,
 "nbformat_minor": 5
}
